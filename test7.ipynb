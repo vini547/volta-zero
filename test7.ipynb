{
 "cells": [
  {
   "cell_type": "markdown",
   "id": "24d1fb0a",
   "metadata": {},
   "source": [
    "LIBRARIES"
   ]
  },
  {
   "cell_type": "code",
   "execution_count": 131,
   "id": "17a42662",
   "metadata": {},
   "outputs": [],
   "source": [
    "import pandas as pd\n",
    "from pycaret.classification import *\n",
    "import matplotlib.pyplot as plt\n",
    "import seaborn as sns\n",
    "import numpy as np"
   ]
  },
  {
   "cell_type": "markdown",
   "id": "ec80d61d",
   "metadata": {},
   "source": [
    "LOADING AND DATA SAMPLING"
   ]
  },
  {
   "cell_type": "code",
   "execution_count": null,
   "id": "8f7f4fff",
   "metadata": {},
   "outputs": [
    {
     "ename": "TypeError",
     "evalue": "type list doesn't define __round__ method",
     "output_type": "error",
     "traceback": [
      "\u001b[1;31m---------------------------------------------------------------------------\u001b[0m",
      "\u001b[1;31mTypeError\u001b[0m                                 Traceback (most recent call last)",
      "Cell \u001b[1;32mIn[137], line 19\u001b[0m\n\u001b[0;32m     16\u001b[0m data_sinasc \u001b[38;5;241m=\u001b[39m [\u001b[38;5;124m'\u001b[39m\u001b[38;5;124mSINASC_2015.csv\u001b[39m\u001b[38;5;124m'\u001b[39m,\u001b[38;5;124m'\u001b[39m\u001b[38;5;124mSINASC_2017.csv\u001b[39m\u001b[38;5;124m'\u001b[39m,\u001b[38;5;124m'\u001b[39m\u001b[38;5;124mSINASC_2018.csv\u001b[39m\u001b[38;5;124m'\u001b[39m,\u001b[38;5;124m'\u001b[39m\u001b[38;5;124mSINASC_2019.csv\u001b[39m\u001b[38;5;124m'\u001b[39m,\u001b[38;5;124m'\u001b[39m\u001b[38;5;124mSINASC_2020.csv\u001b[39m\u001b[38;5;124m'\u001b[39m,\u001b[38;5;124m'\u001b[39m\u001b[38;5;124mSINASC_2021.csv\u001b[39m\u001b[38;5;124m'\u001b[39m,\u001b[38;5;124m'\u001b[39m\u001b[38;5;124mSINASC_2022.csv\u001b[39m\u001b[38;5;124m'\u001b[39m,\u001b[38;5;124m'\u001b[39m\u001b[38;5;124mSINASC_2023.csv\u001b[39m\u001b[38;5;124m'\u001b[39m,\u001b[38;5;124m'\u001b[39m\u001b[38;5;124mSINASC_2024.csv\u001b[39m\u001b[38;5;124m'\u001b[39m]\n\u001b[0;32m     18\u001b[0m sep \u001b[38;5;241m=\u001b[39m \u001b[38;5;124m'\u001b[39m\u001b[38;5;124m;\u001b[39m\u001b[38;5;124m'\u001b[39m\n\u001b[1;32m---> 19\u001b[0m frac \u001b[38;5;241m=\u001b[39m \u001b[38;5;28;43mround\u001b[39;49m\u001b[43m(\u001b[49m\u001b[43m[\u001b[49m\u001b[43mnp\u001b[49m\u001b[38;5;241;43m.\u001b[39;49m\u001b[43mgeomspace\u001b[49m\u001b[43m(\u001b[49m\u001b[38;5;241;43m0.01\u001b[39;49m\u001b[43m,\u001b[49m\u001b[43m \u001b[49m\u001b[38;5;241;43m0.85\u001b[39;49m\u001b[43m,\u001b[49m\u001b[43m \u001b[49m\u001b[38;5;241;43m10\u001b[39;49m\u001b[43m)\u001b[49m\u001b[43m]\u001b[49m\u001b[43m,\u001b[49m\u001b[43m \u001b[49m\u001b[38;5;241;43m2\u001b[39;49m\u001b[43m)\u001b[49m\n\u001b[0;32m     20\u001b[0m state \u001b[38;5;241m=\u001b[39m \u001b[38;5;241m123\u001b[39m\n\u001b[0;32m     21\u001b[0m csv_file \u001b[38;5;241m=\u001b[39m \u001b[38;5;124m'\u001b[39m\u001b[38;5;124mSINASC_2015.csv\u001b[39m\u001b[38;5;124m'\u001b[39m\n",
      "\u001b[1;31mTypeError\u001b[0m: type list doesn't define __round__ method"
     ]
    }
   ],
   "source": [
    "cols_to_drop = [\n",
    "    'ORIGEM', 'DTRECEBIM', 'DIFDATA', 'CODMUNNATU', 'CODUFNATU', 'TPDOCRESP','TPFUNCRESP','DTDECLARAC',\n",
    "    'HORANASC','PARIDADE','NUMEROLOTE','VERSAOSIST','DTCADASTRO','CODMUNRES','DTRECORIGA','CODPAISRES',\n",
    "    'STDNNOVA','DTNASC','DTDECLARAC','DTULTMENST','DTNASCMAE','DTRECORIGA','DTRECEBIM','contador','CODESTAB', \n",
    "    'CODMUNNASC' ,'CODANOMAL','OPORT_DN' ,'TPMETESTIM','ESMAE2010','SERIESCMAE','ESCMAE2010','ESCMAEAGR1','APGAR1', 'APGAR5'\n",
    "]\n",
    "\n",
    "cont_cols = [\n",
    "    'IDADEMAE','QTDFILVIVO','QTDFILMORT','PESO','QTDGESTANT',\n",
    "    'QTDPARTNOR','QTDPARTCES','IDADEPAI','SEMAGESTAC','CONSPRENAT'\n",
    "]\n",
    "\n",
    "ordinal_cols = ['ESCMAE','GESTACAO','GRAVIDEZ','CONSULTAS']\n",
    "\n",
    "target_col = 'evolucao_class'\n",
    "data_sinasc = ['SINASC_2015.csv','SINASC_2017.csv','SINASC_2018.csv','SINASC_2019.csv','SINASC_2020.csv','SINASC_2021.csv','SINASC_2022.csv','SINASC_2023.csv','SINASC_2024.csv']\n",
    "\n",
    "sep = ';'\n",
    "frac = round(np.geomspace(0.01, 0.85, 10), 2)\n",
    "state = 123\n",
    "csv_file = 'SINASC_2015.csv'\n"
   ]
  },
  {
   "cell_type": "code",
   "execution_count": 118,
   "id": "269e3327",
   "metadata": {},
   "outputs": [],
   "source": [
    "def load_sampled_csv(csv_file, frac=frac, state=state,sep=sep, cols_to_drop=cols_to_drop, cont_cols=cont_cols, ordinal_cols=ordinal_cols, target_col=target_col):\n",
    "    df_sample = (\n",
    "    pd.read_csv(csv_file, sep=sep)   \n",
    "      .sample(frac=frac, random_state=state)   \n",
    "      .replace({9: np.nan, 99: np.nan})      \n",
    "      .copy()                                \n",
    "    )\n",
    "\n",
    "    cont_cols_existing = [c for c in cont_cols if c in df_sample.columns and c not in cols_to_drop]\n",
    "\n",
    "    ordinal_cols_existing = [c for c in ordinal_cols if c in df_sample.columns and c not in cols_to_drop]\n",
    "\n",
    "    cat_cols_existing = [c for c in df_sample.columns if c not in cont_cols_existing + ordinal_cols_existing + [target_col] + cols_to_drop]\n",
    "\n",
    "    for col in ['APGAR1', 'APGAR5']:\n",
    "        if col in df_sample.columns:\n",
    "            df_sample[col] = pd.to_numeric(df_sample[col], errors='coerce').fillna(df_sample[col].median()).astype('Int64')\n",
    "\n",
    "    def evolucao_from_apgar(a1, a5):\n",
    "        if a1 <= 4 or a5 <= 4:\n",
    "            return \"Ruim\"\n",
    "        elif a1 <= 7 and a5 <= 7:\n",
    "            return \"Moderada\"\n",
    "        elif a1 >= 8 and a5 >= 8:\n",
    "            return \"Ótima\"\n",
    "        else:\n",
    "            return \"Boa\"\n",
    "        \n",
    "    df_sample['evolucao_class'] = df_sample.apply(\n",
    "        lambda r: evolucao_from_apgar(r.get('APGAR1', pd.NA), r.get('APGAR5', pd.NA)),\n",
    "        axis=1\n",
    "    ).astype('category')    \n",
    "\n",
    "    df_sample.drop(columns=[c for c in cols_to_drop if c in df_sample.columns], inplace=True)\n",
    "\n",
    "    numeric_cols = cont_cols_existing + ordinal_cols_existing\n",
    "\n",
    "    for col in numeric_cols :\n",
    "        df_sample[col] = pd.to_numeric(df_sample[col], errors='coerce').astype('Int64')\n",
    "\n",
    "    for col in cat_cols_existing:\n",
    "        df_sample[col] = df_sample[col].astype('category')\n",
    "\n",
    "    return df_sample"
   ]
  },
  {
   "cell_type": "code",
   "execution_count": 119,
   "id": "33aaa206",
   "metadata": {},
   "outputs": [],
   "source": [
    "df_sample_func = load_sampled_csv(csv_file, \n",
    "                                  frac=frac, \n",
    "                                  state=state,\n",
    "                                  sep=sep, \n",
    "                                  cols_to_drop=cols_to_drop, \n",
    "                                  cont_cols=cont_cols, \n",
    "                                  ordinal_cols=ordinal_cols, \n",
    "                                  target_col=target_col)"
   ]
  },
  {
   "cell_type": "code",
   "execution_count": 124,
   "id": "1eb820f8",
   "metadata": {},
   "outputs": [
    {
     "data": {
      "text/plain": [
       "array([0.01      , 0.0303637 , 0.09219544, 0.27993951, 0.85      ])"
      ]
     },
     "execution_count": 124,
     "metadata": {},
     "output_type": "execute_result"
    }
   ],
   "source": [
    "frac"
   ]
  },
  {
   "cell_type": "code",
   "execution_count": null,
   "id": "c61a51f7",
   "metadata": {},
   "outputs": [],
   "source": []
  },
  {
   "cell_type": "code",
   "execution_count": null,
   "id": "2697b9e8",
   "metadata": {},
   "outputs": [
    {
     "name": "stdout",
     "output_type": "stream",
     "text": [
      "Year: SINASC_2015.csv\n",
      "Fraction: 0.01\n",
      "Número de linhas com NaN: 24896 de 30177 (82.50%)\n",
      "Fraction: 0.016382488834516564\n",
      "Número de linhas com NaN: 40889 de 49437 (82.71%)\n",
      "Fraction: 0.02683859404130598\n",
      "Número de linhas com NaN: 67087 de 80990 (82.83%)\n",
      "Fraction: 0.043968296721581784\n",
      "Número de linhas com NaN: 109954 de 132682 (82.87%)\n",
      "Fraction: 0.07203101301140248\n",
      "Número de linhas com NaN: 180353 de 217366 (82.97%)\n",
      "Fraction: 0.11800472663982187\n",
      "Número de linhas com NaN: 295518 de 356099 (82.99%)\n",
      "Fraction: 0.19332111165970603\n",
      "Número de linhas com NaN: 484035 de 583379 (82.97%)\n",
      "Fraction: 0.31670809532414623\n"
     ]
    }
   ],
   "source": [
    "nan_curve = []\n",
    "curves = []\n",
    "for year in data_sinasc:\n",
    "    print(f\"Year: {year}\")\n",
    "    for fraction in frac:\n",
    "        print(f\"Fraction: {fraction}\")\n",
    "\n",
    "        df_sample_func = load_sampled_csv(year, \n",
    "                                        frac=fraction, \n",
    "                                        state=state,\n",
    "                                        sep=sep, \n",
    "                                        cols_to_drop=cols_to_drop, \n",
    "                                        cont_cols=cont_cols, \n",
    "                                        ordinal_cols=ordinal_cols, \n",
    "                                        target_col=target_col)\n",
    "        \n",
    "        num_linhas_sample_nan = df_sample_func.isna().any(axis=1).sum()\n",
    "        num_linhas_sample = df_sample_func.shape[0]\n",
    "        perc_nan = (num_linhas_sample_nan/num_linhas_sample)*100\n",
    "\n",
    "        nan_curve.append((fraction, perc_nan))\n",
    "\n",
    "        print(f\"Número de linhas com NaN: {num_linhas_sample_nan}/{num_linhas_sample} ({perc_nan:.2f}%)\")\n",
    "    curves.append(nan_curve)    \n",
    "    nan_curve = []    \n"
   ]
  },
  {
   "cell_type": "code",
   "execution_count": 138,
   "id": "42744dbd",
   "metadata": {},
   "outputs": [
    {
     "data": {
      "text/plain": [
       "[<matplotlib.lines.Line2D at 0x23690aeb2b0>]"
      ]
     },
     "execution_count": 138,
     "metadata": {},
     "output_type": "execute_result"
    },
    {
     "data": {
      "image/png": "[encoded data removed]",
      "text/plain": [
       "<Figure size 1000x600 with 1 Axes>"
      ]
     },
     "metadata": {},
     "output_type": "display_data"
    }
   ],
   "source": [
    "plt.figure(figsize=(10,6))\n",
    "nan_curve = pd.DataFrame(nan_curve, columns=['Fraction', 'Percent_NaN'])\n",
    "plt.plot(nan_curve['Fraction'], nan_curve['Percent_NaN'], marker='o')\n",
    "         "
   ]
  },
  {
   "cell_type": "code",
   "execution_count": null,
   "id": "ed8a8381",
   "metadata": {},
   "outputs": [],
   "source": []
  }
 ],
 "metadata": {
  "kernelspec": {
   "display_name": "Python 3",
   "language": "python",
   "name": "python3"
  },
  "language_info": {
   "codemirror_mode": {
    "name": "ipython",
    "version": 3
   },
   "file_extension": ".py",
   "mimetype": "text/x-python",
   "name": "python",
   "nbconvert_exporter": "python",
   "pygments_lexer": "ipython3",
   "version": "3.10.4"
  }
 },
 "nbformat": 4,
 "nbformat_minor": 5
}

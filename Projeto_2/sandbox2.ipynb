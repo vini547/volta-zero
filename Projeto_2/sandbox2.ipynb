{
 "cells": [
  {
   "cell_type": "code",
   "execution_count": 1,
   "metadata": {},
   "outputs": [
    {
     "name": "stdout",
     "output_type": "stream",
     "text": [
      "<class 'pandas.core.frame.DataFrame'>\n",
      "RangeIndex: 29002 entries, 0 to 29001\n",
      "Data columns (total 6 columns):\n",
      " #   Column      Non-Null Count  Dtype         \n",
      "---  ------      --------------  -----         \n",
      " 0   Data        29002 non-null  datetime64[ns]\n",
      " 1   Compradora  29002 non-null  object        \n",
      " 2   Valor       29002 non-null  float64       \n",
      " 3   Quantidade  29002 non-null  float64       \n",
      " 4   Vendedora   29002 non-null  object        \n",
      " 5   Agressor    29002 non-null  object        \n",
      "dtypes: datetime64[ns](1), float64(2), object(3)\n",
      "memory usage: 1.3+ MB\n",
      "Data After Resampling:\n",
      "                        open    high     low   close\n",
      "Data                                               \n",
      "2024-02-06 09:00:00  4989.0  4989.5  4982.0  4984.0\n",
      "2024-02-06 09:15:00  4984.5  4988.0  4983.0  4987.5\n",
      "2024-02-06 09:30:00  4987.0  4988.0  4981.5  4985.0\n",
      "2024-02-06 09:45:00  4986.0  4987.0  4982.5  4984.0\n",
      "2024-02-06 10:00:00  4983.5  4985.0  4976.5  4978.0\n"
     ]
    },
    {
     "data": {
      "application/vnd.plotly.v1+json": {
       "config": {
        "plotlyServerURL": "https://plot.ly"
       },
       "data": [
        {
         "close": [
          4984,
          4987.5,
          4985,
          4984,
          4978,
          4975.5,
          4983.5,
          4982,
          4983.5,
          4990,
          4978.5,
          4970.5,
          4969.5,
          4967.5,
          4965.5,
          4967.5,
          4970,
          4962.5,
          4965,
          4964,
          4964.5,
          4962,
          4967,
          4968.5,
          4968,
          4975.5,
          4972.5,
          4968.5,
          4971.5,
          4970.5,
          4974.5,
          4972,
          4972,
          4971,
          4969.5,
          4968.5,
          4969.5,
          4973
         ],
         "high": [
          4989.5,
          4988,
          4988,
          4987,
          4985,
          4978,
          4984,
          4985,
          4985.5,
          4991,
          4990.5,
          4979.5,
          4974,
          4970,
          4967.5,
          4967.5,
          4970.5,
          4969.5,
          4967,
          4966,
          4966,
          4964.5,
          4968.5,
          4969,
          4970,
          4979,
          4976.5,
          4973,
          4971.5,
          4974,
          4975,
          4973.5,
          4973.5,
          4972,
          4972,
          4970.5,
          4970.5,
          4974.5
         ],
         "low": [
          4982,
          4983,
          4981.5,
          4982.5,
          4976.5,
          4971.5,
          4975,
          4975,
          4981,
          4983.5,
          4978,
          4968,
          4966,
          4965.5,
          4961,
          4963,
          4966.5,
          4961.5,
          4961.5,
          4961.5,
          4963.5,
          4960.5,
          4962,
          4964,
          4966.5,
          4967,
          4971.5,
          4966.5,
          4967.5,
          4970,
          4969,
          4971,
          4971,
          4970.5,
          4968,
          4968,
          4967.5,
          4969
         ],
         "open": [
          4989,
          4984.5,
          4987,
          4986,
          4983.5,
          4977.5,
          4975.5,
          4983.5,
          4981.5,
          4983.5,
          4990.5,
          4978.5,
          4970.5,
          4969,
          4967.5,
          4965.5,
          4967.5,
          4969.5,
          4962.5,
          4965,
          4964.5,
          4964.5,
          4962,
          4967,
          4969,
          4968,
          4975.5,
          4972,
          4968.5,
          4972,
          4970.5,
          4973.5,
          4972,
          4972,
          4971,
          4969,
          4969,
          4969.5
         ],
         "type": "candlestick",
         "x": [
          "2024-02-06T09:00:00",
          "2024-02-06T09:15:00",
          "2024-02-06T09:30:00",
          "2024-02-06T09:45:00",
          "2024-02-06T10:00:00",
          "2024-02-06T10:15:00",
          "2024-02-06T10:30:00",
          "2024-02-06T10:45:00",
          "2024-02-06T11:00:00",
          "2024-02-06T11:15:00",
          "2024-02-06T11:30:00",
          "2024-02-06T11:45:00",
          "2024-02-06T12:00:00",
          "2024-02-06T12:15:00",
          "2024-02-06T12:30:00",
          "2024-02-06T12:45:00",
          "2024-02-06T13:00:00",
          "2024-02-06T13:15:00",
          "2024-02-06T13:30:00",
          "2024-02-06T13:45:00",
          "2024-02-06T14:00:00",
          "2024-02-06T14:15:00",
          "2024-02-06T14:30:00",
          "2024-02-06T14:45:00",
          "2024-02-06T15:00:00",
          "2024-02-06T15:15:00",
          "2024-02-06T15:30:00",
          "2024-02-06T15:45:00",
          "2024-02-06T16:00:00",
          "2024-02-06T16:15:00",
          "2024-02-06T16:30:00",
          "2024-02-06T16:45:00",
          "2024-02-06T17:00:00",
          "2024-02-06T17:15:00",
          "2024-02-06T17:30:00",
          "2024-02-06T17:45:00",
          "2024-02-06T18:00:00",
          "2024-02-06T18:15:00"
         ]
        }
       ],
       "layout": {
        "height": 768,
        "template": {
         "data": {
          "bar": [
           {
            "error_x": {
             "color": "#2a3f5f"
            },
            "error_y": {
             "color": "#2a3f5f"
            },
            "marker": {
             "line": {
              "color": "#E5ECF6",
              "width": 0.5
             },
             "pattern": {
              "fillmode": "overlay",
              "size": 10,
              "solidity": 0.2
             }
            },
            "type": "bar"
           }
          ],
          "barpolar": [
           {
            "marker": {
             "line": {
              "color": "#E5ECF6",
              "width": 0.5
             },
             "pattern": {
              "fillmode": "overlay",
              "size": 10,
              "solidity": 0.2
             }
            },
            "type": "barpolar"
           }
          ],
          "carpet": [
           {
            "aaxis": {
             "endlinecolor": "#2a3f5f",
             "gridcolor": "white",
             "linecolor": "white",
             "minorgridcolor": "white",
             "startlinecolor": "#2a3f5f"
            },
            "baxis": {
             "endlinecolor": "#2a3f5f",
             "gridcolor": "white",
             "linecolor": "white",
             "minorgridcolor": "white",
             "startlinecolor": "#2a3f5f"
            },
            "type": "carpet"
           }
          ],
          "choropleth": [
           {
            "colorbar": {
             "outlinewidth": 0,
             "ticks": ""
            },
            "type": "choropleth"
           }
          ],
          "contour": [
           {
            "colorbar": {
             "outlinewidth": 0,
             "ticks": ""
            },
            "colorscale": [
             [
              0,
              "#0d0887"
             ],
             [
              0.1111111111111111,
              "#46039f"
             ],
             [
              0.2222222222222222,
              "#7201a8"
             ],
             [
              0.3333333333333333,
              "#9c179e"
             ],
             [
              0.4444444444444444,
              "#bd3786"
             ],
             [
              0.5555555555555556,
              "#d8576b"
             ],
             [
              0.6666666666666666,
              "#ed7953"
             ],
             [
              0.7777777777777778,
              "#fb9f3a"
             ],
             [
              0.8888888888888888,
              "#fdca26"
             ],
             [
              1,
              "#f0f921"
             ]
            ],
            "type": "contour"
           }
          ],
          "contourcarpet": [
           {
            "colorbar": {
             "outlinewidth": 0,
             "ticks": ""
            },
            "type": "contourcarpet"
           }
          ],
          "heatmap": [
           {
            "colorbar": {
             "outlinewidth": 0,
             "ticks": ""
            },
            "colorscale": [
             [
              0,
              "#0d0887"
             ],
             [
              0.1111111111111111,
              "#46039f"
             ],
             [
              0.2222222222222222,
              "#7201a8"
             ],
             [
              0.3333333333333333,
              "#9c179e"
             ],
             [
              0.4444444444444444,
              "#bd3786"
             ],
             [
              0.5555555555555556,
              "#d8576b"
             ],
             [
              0.6666666666666666,
              "#ed7953"
             ],
             [
              0.7777777777777778,
              "#fb9f3a"
             ],
             [
              0.8888888888888888,
              "#fdca26"
             ],
             [
              1,
              "#f0f921"
             ]
            ],
            "type": "heatmap"
           }
          ],
          "heatmapgl": [
           {
            "colorbar": {
             "outlinewidth": 0,
             "ticks": ""
            },
            "colorscale": [
             [
              0,
              "#0d0887"
             ],
             [
              0.1111111111111111,
              "#46039f"
             ],
             [
              0.2222222222222222,
              "#7201a8"
             ],
             [
              0.3333333333333333,
              "#9c179e"
             ],
             [
              0.4444444444444444,
              "#bd3786"
             ],
             [
              0.5555555555555556,
              "#d8576b"
             ],
             [
              0.6666666666666666,
              "#ed7953"
             ],
             [
              0.7777777777777778,
              "#fb9f3a"
             ],
             [
              0.8888888888888888,
              "#fdca26"
             ],
             [
              1,
              "#f0f921"
             ]
            ],
            "type": "heatmapgl"
           }
          ],
          "histogram": [
           {
            "marker": {
             "pattern": {
              "fillmode": "overlay",
              "size": 10,
              "solidity": 0.2
             }
            },
            "type": "histogram"
           }
          ],
          "histogram2d": [
           {
            "colorbar": {
             "outlinewidth": 0,
             "ticks": ""
            },
            "colorscale": [
             [
              0,
              "#0d0887"
             ],
             [
              0.1111111111111111,
              "#46039f"
             ],
             [
              0.2222222222222222,
              "#7201a8"
             ],
             [
              0.3333333333333333,
              "#9c179e"
             ],
             [
              0.4444444444444444,
              "#bd3786"
             ],
             [
              0.5555555555555556,
              "#d8576b"
             ],
             [
              0.6666666666666666,
              "#ed7953"
             ],
             [
              0.7777777777777778,
              "#fb9f3a"
             ],
             [
              0.8888888888888888,
              "#fdca26"
             ],
             [
              1,
              "#f0f921"
             ]
            ],
            "type": "histogram2d"
           }
          ],
          "histogram2dcontour": [
           {
            "colorbar": {
             "outlinewidth": 0,
             "ticks": ""
            },
            "colorscale": [
             [
              0,
              "#0d0887"
             ],
             [
              0.1111111111111111,
              "#46039f"
             ],
             [
              0.2222222222222222,
              "#7201a8"
             ],
             [
              0.3333333333333333,
              "#9c179e"
             ],
             [
              0.4444444444444444,
              "#bd3786"
             ],
             [
              0.5555555555555556,
              "#d8576b"
             ],
             [
              0.6666666666666666,
              "#ed7953"
             ],
             [
              0.7777777777777778,
              "#fb9f3a"
             ],
             [
              0.8888888888888888,
              "#fdca26"
             ],
             [
              1,
              "#f0f921"
             ]
            ],
            "type": "histogram2dcontour"
           }
          ],
          "mesh3d": [
           {
            "colorbar": {
             "outlinewidth": 0,
             "ticks": ""
            },
            "type": "mesh3d"
           }
          ],
          "parcoords": [
           {
            "line": {
             "colorbar": {
              "outlinewidth": 0,
              "ticks": ""
             }
            },
            "type": "parcoords"
           }
          ],
          "pie": [
           {
            "automargin": true,
            "type": "pie"
           }
          ],
          "scatter": [
           {
            "fillpattern": {
             "fillmode": "overlay",
             "size": 10,
             "solidity": 0.2
            },
            "type": "scatter"
           }
          ],
          "scatter3d": [
           {
            "line": {
             "colorbar": {
              "outlinewidth": 0,
              "ticks": ""
             }
            },
            "marker": {
             "colorbar": {
              "outlinewidth": 0,
              "ticks": ""
             }
            },
            "type": "scatter3d"
           }
          ],
          "scattercarpet": [
           {
            "marker": {
             "colorbar": {
              "outlinewidth": 0,
              "ticks": ""
             }
            },
            "type": "scattercarpet"
           }
          ],
          "scattergeo": [
           {
            "marker": {
             "colorbar": {
              "outlinewidth": 0,
              "ticks": ""
             }
            },
            "type": "scattergeo"
           }
          ],
          "scattergl": [
           {
            "marker": {
             "colorbar": {
              "outlinewidth": 0,
              "ticks": ""
             }
            },
            "type": "scattergl"
           }
          ],
          "scattermapbox": [
           {
            "marker": {
             "colorbar": {
              "outlinewidth": 0,
              "ticks": ""
             }
            },
            "type": "scattermapbox"
           }
          ],
          "scatterpolar": [
           {
            "marker": {
             "colorbar": {
              "outlinewidth": 0,
              "ticks": ""
             }
            },
            "type": "scatterpolar"
           }
          ],
          "scatterpolargl": [
           {
            "marker": {
             "colorbar": {
              "outlinewidth": 0,
              "ticks": ""
             }
            },
            "type": "scatterpolargl"
           }
          ],
          "scatterternary": [
           {
            "marker": {
             "colorbar": {
              "outlinewidth": 0,
              "ticks": ""
             }
            },
            "type": "scatterternary"
           }
          ],
          "surface": [
           {
            "colorbar": {
             "outlinewidth": 0,
             "ticks": ""
            },
            "colorscale": [
             [
              0,
              "#0d0887"
             ],
             [
              0.1111111111111111,
              "#46039f"
             ],
             [
              0.2222222222222222,
              "#7201a8"
             ],
             [
              0.3333333333333333,
              "#9c179e"
             ],
             [
              0.4444444444444444,
              "#bd3786"
             ],
             [
              0.5555555555555556,
              "#d8576b"
             ],
             [
              0.6666666666666666,
              "#ed7953"
             ],
             [
              0.7777777777777778,
              "#fb9f3a"
             ],
             [
              0.8888888888888888,
              "#fdca26"
             ],
             [
              1,
              "#f0f921"
             ]
            ],
            "type": "surface"
           }
          ],
          "table": [
           {
            "cells": {
             "fill": {
              "color": "#EBF0F8"
             },
             "line": {
              "color": "white"
             }
            },
            "header": {
             "fill": {
              "color": "#C8D4E3"
             },
             "line": {
              "color": "white"
             }
            },
            "type": "table"
           }
          ]
         },
         "layout": {
          "annotationdefaults": {
           "arrowcolor": "#2a3f5f",
           "arrowhead": 0,
           "arrowwidth": 1
          },
          "autotypenumbers": "strict",
          "coloraxis": {
           "colorbar": {
            "outlinewidth": 0,
            "ticks": ""
           }
          },
          "colorscale": {
           "diverging": [
            [
             0,
             "#8e0152"
            ],
            [
             0.1,
             "#c51b7d"
            ],
            [
             0.2,
             "#de77ae"
            ],
            [
             0.3,
             "#f1b6da"
            ],
            [
             0.4,
             "#fde0ef"
            ],
            [
             0.5,
             "#f7f7f7"
            ],
            [
             0.6,
             "#e6f5d0"
            ],
            [
             0.7,
             "#b8e186"
            ],
            [
             0.8,
             "#7fbc41"
            ],
            [
             0.9,
             "#4d9221"
            ],
            [
             1,
             "#276419"
            ]
           ],
           "sequential": [
            [
             0,
             "#0d0887"
            ],
            [
             0.1111111111111111,
             "#46039f"
            ],
            [
             0.2222222222222222,
             "#7201a8"
            ],
            [
             0.3333333333333333,
             "#9c179e"
            ],
            [
             0.4444444444444444,
             "#bd3786"
            ],
            [
             0.5555555555555556,
             "#d8576b"
            ],
            [
             0.6666666666666666,
             "#ed7953"
            ],
            [
             0.7777777777777778,
             "#fb9f3a"
            ],
            [
             0.8888888888888888,
             "#fdca26"
            ],
            [
             1,
             "#f0f921"
            ]
           ],
           "sequentialminus": [
            [
             0,
             "#0d0887"
            ],
            [
             0.1111111111111111,
             "#46039f"
            ],
            [
             0.2222222222222222,
             "#7201a8"
            ],
            [
             0.3333333333333333,
             "#9c179e"
            ],
            [
             0.4444444444444444,
             "#bd3786"
            ],
            [
             0.5555555555555556,
             "#d8576b"
            ],
            [
             0.6666666666666666,
             "#ed7953"
            ],
            [
             0.7777777777777778,
             "#fb9f3a"
            ],
            [
             0.8888888888888888,
             "#fdca26"
            ],
            [
             1,
             "#f0f921"
            ]
           ]
          },
          "colorway": [
           "#636efa",
           "#EF553B",
           "#00cc96",
           "#ab63fa",
           "#FFA15A",
           "#19d3f3",
           "#FF6692",
           "#B6E880",
           "#FF97FF",
           "#FECB52"
          ],
          "font": {
           "color": "#2a3f5f"
          },
          "geo": {
           "bgcolor": "white",
           "lakecolor": "white",
           "landcolor": "#E5ECF6",
           "showlakes": true,
           "showland": true,
           "subunitcolor": "white"
          },
          "hoverlabel": {
           "align": "left"
          },
          "hovermode": "closest",
          "mapbox": {
           "style": "light"
          },
          "paper_bgcolor": "white",
          "plot_bgcolor": "#E5ECF6",
          "polar": {
           "angularaxis": {
            "gridcolor": "white",
            "linecolor": "white",
            "ticks": ""
           },
           "bgcolor": "#E5ECF6",
           "radialaxis": {
            "gridcolor": "white",
            "linecolor": "white",
            "ticks": ""
           }
          },
          "scene": {
           "xaxis": {
            "backgroundcolor": "#E5ECF6",
            "gridcolor": "white",
            "gridwidth": 2,
            "linecolor": "white",
            "showbackground": true,
            "ticks": "",
            "zerolinecolor": "white"
           },
           "yaxis": {
            "backgroundcolor": "#E5ECF6",
            "gridcolor": "white",
            "gridwidth": 2,
            "linecolor": "white",
            "showbackground": true,
            "ticks": "",
            "zerolinecolor": "white"
           },
           "zaxis": {
            "backgroundcolor": "#E5ECF6",
            "gridcolor": "white",
            "gridwidth": 2,
            "linecolor": "white",
            "showbackground": true,
            "ticks": "",
            "zerolinecolor": "white"
           }
          },
          "shapedefaults": {
           "line": {
            "color": "#2a3f5f"
           }
          },
          "ternary": {
           "aaxis": {
            "gridcolor": "white",
            "linecolor": "white",
            "ticks": ""
           },
           "baxis": {
            "gridcolor": "white",
            "linecolor": "white",
            "ticks": ""
           },
           "bgcolor": "#E5ECF6",
           "caxis": {
            "gridcolor": "white",
            "linecolor": "white",
            "ticks": ""
           }
          },
          "title": {
           "x": 0.05
          },
          "xaxis": {
           "automargin": true,
           "gridcolor": "white",
           "linecolor": "white",
           "ticks": "",
           "title": {
            "standoff": 15
           },
           "zerolinecolor": "white",
           "zerolinewidth": 2
          },
          "yaxis": {
           "automargin": true,
           "gridcolor": "white",
           "linecolor": "white",
           "ticks": "",
           "title": {
            "standoff": 15
           },
           "zerolinecolor": "white",
           "zerolinewidth": 2
          }
         }
        },
        "title": {
         "text": "Candlestick Chart - Plotly"
        },
        "width": 1024,
        "xaxis": {
         "rangeslider": {
          "visible": false
         },
         "title": {
          "text": "Time"
         }
        },
        "yaxis": {
         "title": {
          "text": "Price"
         }
        }
       }
      }
     },
     "metadata": {},
     "output_type": "display_data"
    }
   ],
   "source": [
    "%matplotlib inline\n",
    "import pandas as pd\n",
    "import numpy as np\n",
    "import matplotlib.pyplot as plt\n",
    "import seaborn as sns\n",
    "from xgboost import XGBRegressor\n",
    "from sklearn.impute import KNNImputer\n",
    "from sklearn.preprocessing import MinMaxScaler, StandardScaler, OrdinalEncoder, LabelEncoder, RobustScaler\n",
    "from sklearn.feature_selection import mutual_info_regression\n",
    "from sklearn.decomposition import PCA\n",
    "from sklearn.neural_network import MLPRegressor\n",
    "from sklearn.ensemble import VotingRegressor\n",
    "from sklearn.model_selection import train_test_split\n",
    "from sklearn.pipeline import Pipeline\n",
    "from matplotlib.colors import Normalize\n",
    "from catboost import CatBoostRegressor\n",
    "import plotly.graph_objects as go\n",
    "\n",
    "# Load Data\n",
    "df = pd.read_csv(\"C:/Users/coimb/Documents/EBAC/csv_data_dol_og.csv\", sep=\";\")  # Load dataset\n",
    "df.columns = df.columns.map(str)  # Ensure column names are strings\n",
    "df = df.reset_index(drop=True)  # Reset index\n",
    "\n",
    "# Convert Data Column\n",
    "df[\"Data\"] = pd.to_datetime(df[\"Data\"], format=\"%d/%m/%Y %H:%M:%S.%f\")\n",
    "df[\"Valor\"] = pd.to_numeric(df[\"Valor\"].str.replace(\".\", \"\").str.replace(\",\", \".\"), errors='coerce')  # Convert \"Valor\" column to numeric\n",
    "\n",
    "# Debug: Check Data\n",
    "df.info()\n",
    "\n",
    "# Set datetime index\n",
    "df.set_index(\"Data\", inplace=True)\n",
    "\n",
    "# Resample Data to 1-minute Intervals and Calculate OHLC\n",
    "ohlc = df[\"Valor\"].resample(\"15T\").ohlc()\n",
    "\n",
    "# Drop NaN values\n",
    "ohlc.dropna(inplace=True)\n",
    "\n",
    "# Flatten MultiIndex Columns\n",
    "ohlc.columns = ['open', 'high', 'low', 'close']\n",
    "\n",
    "# Debug: Print Data After Resampling\n",
    "print(\"Data After Resampling:\\n\", ohlc.head())\n",
    "\n",
    "# Plot Candlestick Chart\n",
    "fig = go.Figure(data=[go.Candlestick(\n",
    "    x=ohlc.index,\n",
    "    open=ohlc['open'],\n",
    "    high=ohlc['high'],\n",
    "    low=ohlc['low'],\n",
    "    close=ohlc['close'],\n",
    "    \n",
    ")])\n",
    "\n",
    "# Customize Layout\n",
    "fig.update_layout(\n",
    "    title=\"Candlestick Chart - Plotly\",\n",
    "    xaxis_title=\"Time\",\n",
    "    yaxis_title=\"Price\",\n",
    "    xaxis_rangeslider_visible=False,\n",
    "    width=1024,\n",
    "    height=768\n",
    ")\n",
    "\n",
    "# Show Plot\n",
    "fig.show()\n",
    "\n"
   ]
  },
  {
   "cell_type": "code",
   "execution_count": 76,
   "metadata": {},
   "outputs": [
    {
     "name": "stdout",
     "output_type": "stream",
     "text": [
      "True\n"
     ]
    },
    {
     "name": "stderr",
     "output_type": "stream",
     "text": [
      "C:\\Users\\coimb\\AppData\\Local\\Temp\\ipykernel_21744\\1228288969.py:1: FutureWarning:\n",
      "\n",
      "Series.__getitem__ treating keys as positions is deprecated. In a future version, integer keys will always be treated as labels (consistent with DataFrame behavior). To access a value by position, use `ser.iloc[pos]`\n",
      "\n"
     ]
    }
   ],
   "source": [
    "print((ohlc.low[10] >ohlc.high[12]))"
   ]
  },
  {
   "cell_type": "code",
   "execution_count": 85,
   "metadata": {},
   "outputs": [
    {
     "name": "stdout",
     "output_type": "stream",
     "text": [
      "False fgv down\n",
      "False fgv up\n",
      "False fgv down\n",
      "False fgv up\n",
      "False fgv down\n",
      "False fgv up\n",
      "True fgv down\n",
      "False fgv up\n",
      "False fgv down\n",
      "False fgv up\n",
      "False fgv down\n",
      "False fgv up\n",
      "False fgv down\n",
      "False fgv up\n",
      "False fgv down\n",
      "False fgv up\n",
      "False fgv down\n",
      "False fgv up\n",
      "True fgv down\n",
      "False fgv up\n",
      "True fgv down\n",
      "False fgv up\n",
      "False fgv down\n",
      "False fgv up\n",
      "False fgv down\n",
      "False fgv up\n",
      "False fgv down\n",
      "False fgv up\n",
      "False fgv down\n",
      "False fgv up\n",
      "False fgv down\n",
      "False fgv up\n",
      "False fgv down\n",
      "False fgv up\n",
      "False fgv down\n",
      "False fgv up\n",
      "False fgv down\n",
      "False fgv up\n",
      "False fgv down\n",
      "False fgv up\n",
      "False fgv down\n",
      "False fgv up\n",
      "False fgv down\n",
      "False fgv up\n",
      "False fgv down\n",
      "False fgv up\n",
      "False fgv down\n",
      "False fgv up\n",
      "False fgv down\n",
      "True fgv up\n",
      "False fgv down\n",
      "False fgv up\n",
      "False fgv down\n",
      "False fgv up\n",
      "False fgv down\n",
      "False fgv up\n",
      "False fgv down\n",
      "False fgv up\n",
      "False fgv down\n",
      "False fgv up\n",
      "False fgv down\n",
      "False fgv up\n",
      "False fgv down\n",
      "False fgv up\n",
      "False fgv down\n",
      "False fgv up\n",
      "False fgv down\n",
      "False fgv up\n",
      "False fgv down\n",
      "False fgv up\n",
      "False fgv down\n",
      "False fgv up\n"
     ]
    }
   ],
   "source": [
    "\n",
    "for i in range(0, len(ohlc)-1):\n",
    "    if i<len(ohlc)-2:\n",
    "        print(ohlc.low.iloc[i]  > ohlc.high.iloc[i+2],\"fgv down\")\n",
    "        print(ohlc.high.iloc[i] < ohlc.low.iloc[i+2],\"fgv up\")"
   ]
  },
  {
   "cell_type": "code",
   "execution_count": null,
   "metadata": {},
   "outputs": [],
   "source": [
    " "
   ]
  },
  {
   "cell_type": "markdown",
   "metadata": {},
   "source": [
    "df was divided in boxes of 15 mins, what if wanted to use the pure scale of the original data"
   ]
  },
  {
   "cell_type": "code",
   "execution_count": null,
   "metadata": {},
   "outputs": [],
   "source": []
  },
  {
   "cell_type": "code",
   "execution_count": null,
   "metadata": {},
   "outputs": [],
   "source": []
  },
  {
   "cell_type": "code",
   "execution_count": null,
   "metadata": {},
   "outputs": [],
   "source": []
  },
  {
   "cell_type": "code",
   "execution_count": null,
   "metadata": {},
   "outputs": [],
   "source": []
  }
 ],
 "metadata": {
  "kernelspec": {
   "display_name": "Python 3",
   "language": "python",
   "name": "python3"
  },
  "language_info": {
   "codemirror_mode": {
    "name": "ipython",
    "version": 3
   },
   "file_extension": ".py",
   "mimetype": "text/x-python",
   "name": "python",
   "nbconvert_exporter": "python",
   "pygments_lexer": "ipython3",
   "version": "3.10.4"
  }
 },
 "nbformat": 4,
 "nbformat_minor": 2
}

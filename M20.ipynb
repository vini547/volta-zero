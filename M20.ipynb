{
 "cells": [
  {
   "cell_type": "markdown",
   "id": "dd4b08e7",
   "metadata": {},
   "source": [
    "<h1 style=\"color:blue\">Fórmula de Bhaskara</h1>\n",
    "\n",
    "A solução para uma função de segundo grau depende das suas raízes (valores de x). Como já vimos, os coeficientes precisam ser números reais e o angular diferente de zero. Sendo assim, temos a seguinte fórmula de Bhaskara:\n",
    "\n",
    "$$\n",
    "x = \\frac{-b \\pm \\sqrt{b^2 - 4 \\cdot a \\cdot c}}{2 \\cdot a}\n",
    "$$\n",
    "\n",
    "<div align=\"center\"><em>Fórmula de Bhaskara.</em></div>\n",
    "\n",
    "Para melhor compreensão o seu cálculo é dividido em duas partes: discriminante da equação e operações para determinar as raízes.\n",
    "\n",
    "## Discriminante\n",
    "\n",
    "A figura dentro da raiz na fórmula de Bhaskara é nomeada de discriminante. Seu símbolo é a letra grega delta e apresenta a determinada fórmula:\n",
    "\n",
    "$$\n",
    "\\Delta = b^2 - 4 \\cdot a \\cdot c\n",
    "$$\n",
    "\n",
    "<div align=\"center\"><em>Fórmula do discriminante.</em></div>\n",
    "\n",
    "- Se o delta for maior que zero, a equação terá dois valores reais e distintos.  \n",
    "- Se o delta for igual a zero, a equação terá somente um valor real ou dois resultados iguais.  \n",
    "- Se o delta for menor que zero, a equação não possuirá valores reais.\n"
   ]
  }
 ],
 "metadata": {
  "language_info": {
   "name": "python"
  }
 },
 "nbformat": 4,
 "nbformat_minor": 5
}

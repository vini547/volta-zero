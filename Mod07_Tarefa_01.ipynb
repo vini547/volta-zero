{
  "cells": [
    {
      "cell_type": "markdown",
      "metadata": {
        "id": "d8yCrvnM_2sd"
      },
      "source": [
        "# Módulo 07, Tarefa 01\n",
        "\n",
        "Vamos começar a mexer na nossa base de projeto? Já fizemos um exercício de montar a variável resposta, já pudemos perceber que essa atividade pode não ser trivial. Vamos agora trabalhar a base para que fique propícia ao *scikitlearn* para trabalharmos.\n",
        "\n",
        "Lembrando, a base se chama demo01.csv, e originalmente está publicada [aqui](https://www.kaggle.com/rikdifos/credit-card-approval-prediction)."
      ]
    },
    {
      "cell_type": "markdown",
      "metadata": {
        "id": "hcMBVVE8_2sg"
      },
      "source": [
        "#### 1) Carregue a base e avalie:\n",
        "\n",
        "- As variáveis\n",
        "- Tipos de dados de cada variável\n",
        "- Quantidade de missings\n",
        "- Distribuição da variável resposta (mau)"
      ]
    },
    {
      "cell_type": "code",
      "execution_count": 3,
      "metadata": {},
      "outputs": [],
      "source": [
        "import pandas as pd\n",
        "import seaborn as sns\n",
        "import matplotlib.pyplot as plt"
      ]
    },
    {
      "cell_type": "code",
      "execution_count": 35,
      "metadata": {
        "id": "jfUxW_PX_2sh"
      },
      "outputs": [
        {
          "name": "stdout",
          "output_type": "stream",
          "text": [
            "As variáveis: Index(['sexo', 'posse_de_veiculo', 'posse_de_imovel', 'qtd_filhos',\n",
            "       'tipo_renda', 'educacao', 'estado_civil', 'tipo_residencia', 'idade',\n",
            "       'tempo_emprego', 'possui_celular', 'possui_fone_comercial',\n",
            "       'possui_fone', 'possui_email', 'qt_pessoas_residencia', 'mau'],\n",
            "      dtype='object')\n"
          ]
        }
      ],
      "source": [
        "df = pd.read_csv('demo01.csv',na_values=('NA','',' ','nan','NAN','na'))\n",
        "print (\"As variáveis: {}\".format(df.columns.transpose()))"
      ]
    },
    {
      "cell_type": "markdown",
      "metadata": {},
      "source": [
        " A função shape indica 16 variáveis."
      ]
    },
    {
      "cell_type": "code",
      "execution_count": 19,
      "metadata": {},
      "outputs": [
        {
          "data": {
            "text/plain": [
              "sexo                      object\n",
              "posse_de_veiculo          object\n",
              "posse_de_imovel           object\n",
              "qtd_filhos                 int64\n",
              "tipo_renda                object\n",
              "educacao                  object\n",
              "estado_civil              object\n",
              "tipo_residencia           object\n",
              "idade                    float64\n",
              "tempo_emprego            float64\n",
              "possui_celular             int64\n",
              "possui_fone_comercial      int64\n",
              "possui_fone                int64\n",
              "possui_email               int64\n",
              "qt_pessoas_residencia    float64\n",
              "mau                         bool\n",
              "dtype: object"
            ]
          },
          "execution_count": 19,
          "metadata": {},
          "output_type": "execute_result"
        }
      ],
      "source": [
        "#Tipos de dados de cada variável\n",
        "df.dtypes"
      ]
    },
    {
      "cell_type": "code",
      "execution_count": 20,
      "metadata": {},
      "outputs": [
        {
          "data": {
            "text/plain": [
              "sexo                     0\n",
              "posse_de_veiculo         0\n",
              "posse_de_imovel          0\n",
              "qtd_filhos               0\n",
              "tipo_renda               0\n",
              "educacao                 0\n",
              "estado_civil             0\n",
              "tipo_residencia          0\n",
              "idade                    0\n",
              "tempo_emprego            0\n",
              "possui_celular           0\n",
              "possui_fone_comercial    0\n",
              "possui_fone              0\n",
              "possui_email             0\n",
              "qt_pessoas_residencia    0\n",
              "mau                      0\n",
              "dtype: int64"
            ]
          },
          "execution_count": 20,
          "metadata": {},
          "output_type": "execute_result"
        }
      ],
      "source": [
        "#Quantidade de missings\n",
        "df.isna().sum()"
      ]
    },
    {
      "cell_type": "code",
      "execution_count": 21,
      "metadata": {},
      "outputs": [
        {
          "name": "stderr",
          "output_type": "stream",
          "text": [
            "<__array_function__ internals>:200: RuntimeWarning: Converting input from bool to <class 'numpy.uint8'> for compatibility.\n"
          ]
        },
        {
          "data": {
            "image/png": "[encoded data removed]",
            "text/plain": [
              "<Figure size 500x500 with 1 Axes>"
            ]
          },
          "metadata": {},
          "output_type": "display_data"
        }
      ],
      "source": [
        "#Distribuição da variável resposta (mau)\n",
        "ax=sns.displot(x=\"mau\",data=df, legend=True)"
      ]
    },
    {
      "cell_type": "markdown",
      "metadata": {
        "id": "_v0f02mE_2si"
      },
      "source": [
        "#### 2) Vamos montar um metadados\n",
        "\n",
        "1. Crie um dataframe com os nomes de cada variável e o tipo de dados de cada variável.\n",
        "2. Adicione uma coluna nesse *dataframe* chamada \"qtd_categorias\" e coloque nela o número de categorias correspondente de cada variável.\n",
        "    Dica:\n",
        "        1. inicie uma lista vazia\n",
        "        2. faça um for ao longo dos nomes das variáveis,\n",
        "        3. conte o número de categorias dessa variável\n",
        "        4. acumule essa informação de 3. na lista que você criou em 1.\n",
        "        5. No final, essa lista pode ser atribuída à nossa variável."
      ]
    },
    {
      "cell_type": "code",
      "execution_count": 52,
      "metadata": {
        "id": "gNF5BRdA_2si"
      },
      "outputs": [
        {
          "name": "stdout",
          "output_type": "stream",
          "text": [
            "                 variavel tipo_dado  qtd_categorias\n",
            "0                    sexo    object               2\n",
            "1        posse_de_veiculo    object               2\n",
            "2         posse_de_imovel    object               2\n",
            "3              qtd_filhos     int64               8\n",
            "4              tipo_renda    object               5\n",
            "5                educacao    object               5\n",
            "6            estado_civil    object               5\n",
            "7         tipo_residencia    object               6\n",
            "8                   idade   float64            5298\n",
            "9           tempo_emprego   float64            3005\n",
            "10         possui_celular     int64               1\n",
            "11  possui_fone_comercial     int64               2\n",
            "12            possui_fone     int64               2\n",
            "13           possui_email     int64               2\n",
            "14  qt_pessoas_residencia   float64               9\n",
            "15                    mau      bool               2\n"
          ]
        }
      ],
      "source": [
        "df_dtypes = pd.DataFrame({\n",
        "    'variavel': df.columns,\n",
        "    'tipo_dado': df.dtypes.values\n",
        "})\n",
        "\n",
        "# 2. Inicializar uma lista vazia para contar as categorias\n",
        "qtd_categorias = []\n",
        "\n",
        "# 3. Loop para contar o número de categorias únicas de cada variável\n",
        "for coluna in df.columns:\n",
        "    qtd_categorias.append(df[coluna].nunique())  # Contar categorias e adicionar à lista\n",
        "\n",
        "# 4. Adicionar a lista de contagem de categorias ao DataFrame de metadados\n",
        "df_dtypes['qtd_categorias'] = qtd_categorias\n",
        "\n",
        "# Exibindo o DataFrame final\n",
        "print(df_dtypes)"
      ]
    },
    {
      "cell_type": "markdown",
      "metadata": {
        "id": "h0XKJFhY_2si"
      },
      "source": [
        "#### 3) Crie variáveis dummy para as variáveis necessárias (i.e. aquelas que são qualitativas e não estão armazenadas como {0, 1} ou {True, False}. Crie um *dataframe* apenas com as variáveis apropriadas para entrada no scikitlearn - elimine as variáveis tipo *str*, mantendo apenas suas versões *dummy*."
      ]
    },
    {
      "cell_type": "code",
      "execution_count": 61,
      "metadata": {},
      "outputs": [
        {
          "data": {
            "text/plain": [
              "Index(['qtd_filhos', 'idade', 'tempo_emprego', 'possui_celular',\n",
              "       'possui_fone_comercial', 'possui_fone', 'possui_email',\n",
              "       'qt_pessoas_residencia', 'mau', 'sexo_M', 'posse_de_veiculo_Y',\n",
              "       'posse_de_imovel_Y', 'tipo_renda_Pensioner', 'tipo_renda_State servant',\n",
              "       'tipo_renda_Student', 'tipo_renda_Working', 'educacao_Higher education',\n",
              "       'educacao_Incomplete higher', 'educacao_Lower secondary',\n",
              "       'educacao_Secondary / secondary special', 'estado_civil_Married',\n",
              "       'estado_civil_Separated', 'estado_civil_Single / not married',\n",
              "       'estado_civil_Widow', 'tipo_residencia_House / apartment',\n",
              "       'tipo_residencia_Municipal apartment',\n",
              "       'tipo_residencia_Office apartment', 'tipo_residencia_Rented apartment',\n",
              "       'tipo_residencia_With parents'],\n",
              "      dtype='object')"
            ]
          },
          "execution_count": 61,
          "metadata": {},
          "output_type": "execute_result"
        }
      ],
      "source": [
        "qualitativas = df.select_dtypes(include=['object', 'category']).columns\n",
        "\n",
        "# 2. Criar variáveis dummy (omitindo a coluna original)\n",
        "df_dummies = pd.get_dummies(df[qualitativas], drop_first=True)\n",
        "\n",
        "# 3. Converter colunas que tenham valores booleanos (True/False) para inteiros (1/0)\n",
        "df_dummies = df_dummies.astype(int)\n",
        "\n",
        "# 4. Remover variáveis originais do tipo qualitativo\n",
        "df_numerico = df.drop(columns=qualitativas)\n",
        "\n",
        "# 5. Adicionar as colunas dummy ao DataFrame numérico\n",
        "df_final = pd.concat([df_numerico, df_dummies], axis=1)\n",
        "\n",
        "df_final['mau'] = df_final['mau'].astype(int)\n",
        "\n",
        "df_final.columns"
      ]
    },
    {
      "cell_type": "markdown",
      "metadata": {
        "id": "uhaqFcPE_2sj"
      },
      "source": [
        "#### 4) Qual variável é mais poderosa?\n",
        "\n",
        "Considere as variáveis ```possui_email``` e ```posse_de_veiculo```. Faça uma tabela cruzada entre elas e responda qual delas te parece mais poderosa para prever a probabilidade de ```mau = 1```?"
      ]
    },
    {
      "cell_type": "code",
      "execution_count": 62,
      "metadata": {
        "id": "3wUAHc_-_2sj"
      },
      "outputs": [
        {
          "name": "stdout",
          "output_type": "stream",
          "text": [
            "Tabela cruzada - Possui Email vs Mau:\n",
            "mau                   0         1\n",
            "possui_email                     \n",
            "0             97.626895  2.373105\n",
            "1             97.972973  2.027027\n",
            "\n",
            "Tabela cruzada - Posse de Veículo vs Mau:\n",
            "mau                         0         1\n",
            "posse_de_veiculo_Y                     \n",
            "0                   97.573197  2.426803\n",
            "1                   97.790482  2.209518\n"
          ]
        }
      ],
      "source": [
        "crosstab_email = pd.crosstab(df_final['possui_email'], df_final['mau'], normalize='index') * 100\n",
        "\n",
        "# 2. Criar tabela cruzada para 'posse_de_veiculo' e 'mau'\n",
        "crosstab_veiculo = pd.crosstab(df_final['posse_de_veiculo_Y'], df_final['mau'], normalize='index') * 100\n",
        "\n",
        "# Exibir as tabelas cruzadas\n",
        "print(\"Tabela cruzada - Possui Email vs Mau:\")\n",
        "print(crosstab_email)\n",
        "\n",
        "print(\"\\nTabela cruzada - Posse de Veículo vs Mau:\")\n",
        "print(crosstab_veiculo)"
      ]
    },
    {
      "cell_type": "markdown",
      "metadata": {},
      "source": [
        "Pelo fato de as proporções de mau = 1 serem bem próximas entre os que possuem e não possuem email (2.37% vs. 2.03%) e  (2.43% vs. 2.21%) para posse_de_veiculo, podemos inferir que essas variáveis não são muito poderosas, pois a diferença entre as proporções é pequena. Ou seja elas não descrevem muito bem os resultados."
      ]
    },
    {
      "cell_type": "markdown",
      "metadata": {
        "id": "G2Issl2e_2sj"
      },
      "source": [
        "#### 5) Salve a base, pois ela será utilizada no final deste módulo."
      ]
    },
    {
      "cell_type": "code",
      "execution_count": 63,
      "metadata": {
        "id": "KSEj8OL9_2sk"
      },
      "outputs": [],
      "source": [
        "df_final.to_csv('demo01.csv', index=False)"
      ]
    }
  ],
  "metadata": {
    "colab": {
      "provenance": []
    },
    "kernelspec": {
      "display_name": "Python 3",
      "language": "python",
      "name": "python3"
    },
    "language_info": {
      "codemirror_mode": {
        "name": "ipython",
        "version": 3
      },
      "file_extension": ".py",
      "mimetype": "text/x-python",
      "name": "python",
      "nbconvert_exporter": "python",
      "pygments_lexer": "ipython3",
      "version": "3.10.4"
    }
  },
  "nbformat": 4,
  "nbformat_minor": 0
}

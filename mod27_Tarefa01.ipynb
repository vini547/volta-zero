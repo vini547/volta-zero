{
 "cells": [
  {
   "cell_type": "markdown",
   "metadata": {},
   "source": [
    "![Cabec%CC%A7alho_notebook.png](cabecalho_notebook.png)"
   ]
  },
  {
   "cell_type": "markdown",
   "metadata": {},
   "source": [
    "# PCA - Tarefa 01: *HAR* com PCA\n",
    "\n",
    "Vamos trabalhar com a base da demonstração feita em aula, mas vamos explorar um pouco melhor como é o desempenho da árvore variando o número de componentes principais."
   ]
  },
  {
   "cell_type": "code",
   "execution_count": 1,
   "metadata": {},
   "outputs": [],
   "source": [
    "import numpy as np\n",
    "import pandas as pd\n",
    "import matplotlib.pyplot as plt\n",
    "import seaborn as sns\n",
    "\n",
    "from sklearn.tree import DecisionTreeClassifier\n",
    "\n",
    "from sklearn.decomposition import PCA\n",
    "from sklearn.tree import DecisionTreeClassifier\n",
    "from sklearn.metrics import accuracy_score\n",
    "from sklearn.ensemble import RandomForestClassifier\n",
    "from sklearn.metrics import confusion_matrix\n",
    "from sklearn.model_selection import train_test_split\n",
    "\n",
    "import warnings\n",
    "warnings.filterwarnings(\"ignore\")"
   ]
  },
  {
   "cell_type": "code",
   "execution_count": 4,
   "metadata": {},
   "outputs": [],
   "source": [
    "import pandas as pd\n",
    "\n",
    "# File paths\n",
    "filename_features = \"./features.txt\"\n",
    "filename_labels = \"./activity_labels.txt\"\n",
    "\n",
    "filename_subtrain = \"./train/subject_train.txt\"\n",
    "filename_xtrain = \"./train/X_train.txt\"\n",
    "filename_ytrain = \"./train/y_train.txt\"\n",
    "\n",
    "filename_subtest = \"./test/subject_test.txt\"\n",
    "filename_xtest = \"./test/X_test.txt\"\n",
    "filename_ytest = \"./test/y_test.txt\"\n",
    "\n",
    "# Load data\n",
    "features = pd.read_csv(filename_features, header=None, names=['nome_var'], sep=\"#\")\n",
    "features = features['nome_var']  # Convert to Series manually\n",
    "labels = pd.read_csv(filename_labels, delim_whitespace=True, header=None, names=['cod_label', 'label'])\n",
    "\n",
    "subject_train = pd.read_csv(filename_subtrain, header=None, names=['subject_id'])\n",
    "X_train = pd.read_csv(filename_xtrain, delim_whitespace=True, header=None)  # Assuming feature names are correct\n",
    "y_train = pd.read_csv(filename_ytrain, header=None, names=['cod_label'])\n",
    "\n",
    "subject_test = pd.read_csv(filename_subtest, header=None, names=['subject_id'])\n",
    "X_test = pd.read_csv(filename_xtest, delim_whitespace=True, header=None)  # Assuming feature names are correct\n",
    "y_test = pd.read_csv(filename_ytest, header=None, names=['cod_label'])"
   ]
  },
  {
   "cell_type": "markdown",
   "metadata": {},
   "source": [
    "## Árvore de decisão\n",
    "\n",
    "Rode uma árvore de decisão com todas as variáveis, utilizando o ```ccp_alpha=0.001```. Avalie a acurácia nas bases de treinamento e teste. Avalie o tempo de processamento."
   ]
  },
  {
   "cell_type": "code",
   "execution_count": 5,
   "metadata": {},
   "outputs": [
    {
     "name": "stdout",
     "output_type": "stream",
     "text": [
      "Acurácia Treino: 0.9758\n",
      "Acurácia Teste: 0.8795\n",
      "Tempo de Processamento: 3.62 seconds\n"
     ]
    }
   ],
   "source": [
    "import time\n",
    "\n",
    "start_time = time.time()\n",
    "\n",
    "clf = DecisionTreeClassifier(ccp_alpha=0.001)\n",
    "\n",
    "clf.fit(X_train, y_train)\n",
    "\n",
    "y_train_pred = clf.predict(X_train)\n",
    "\n",
    "y_test_pred = clf.predict(X_test)\n",
    "\n",
    "train_accuracy = accuracy_score(y_train, y_train_pred)\n",
    "test_accuracy = accuracy_score(y_test, y_test_pred)\n",
    "\n",
    "end_time = time.time()\n",
    "\n",
    "processing_time = end_time - start_time\n",
    "\n",
    "print(f\"Acurácia Treino: {train_accuracy:.4f}\")\n",
    "print(f\"Acurácia Teste: {test_accuracy:.4f}\")\n",
    "print(f\"Tempo de Processamento: {processing_time:.2f} seconds\")"
   ]
  },
  {
   "cell_type": "markdown",
   "metadata": {},
   "source": [
    "## Árvore com PCA\n",
    "\n",
    "Faça uma análise de componemtes principais das variáveis originais. Utilize apenas uma componente. Faça uma árvore de decisão com esta componente como variável explicativa.\n",
    "\n",
    "- Avalie a acurácia nas bases de treinamento e teste\n",
    "- Avalie o tempo de processamento"
   ]
  },
  {
   "cell_type": "code",
   "execution_count": 6,
   "metadata": {},
   "outputs": [
    {
     "name": "stdout",
     "output_type": "stream",
     "text": [
      "Acurácia Treino (PCA 1 componente): 0.4997\n",
      "Acurácia Teste (PCA 1 componente): 0.4571\n",
      "Tempo de Processamento (PCA 1 componente): 0.04 segundos\n"
     ]
    }
   ],
   "source": [
    "# PCA com uma única componente\n",
    "pca = PCA(n_components=1)\n",
    "\n",
    "# Ajustar PCA nas variáveis explicativas (X_train e X_test)\n",
    "X_train_pca = pca.fit_transform(X_train)\n",
    "X_test_pca = pca.transform(X_test)\n",
    "\n",
    "# Início da contagem de tempo\n",
    "start_time = time.time()\n",
    "\n",
    "# Treinar uma árvore de decisão usando a primeira componente principal como variável\n",
    "clf_pca = DecisionTreeClassifier(ccp_alpha=0.001)\n",
    "clf_pca.fit(X_train_pca, y_train)\n",
    "\n",
    "# Predições\n",
    "y_train_pred_pca = clf_pca.predict(X_train_pca)\n",
    "y_test_pred_pca = clf_pca.predict(X_test_pca)\n",
    "\n",
    "# Avaliação da acurácia\n",
    "train_accuracy_pca = accuracy_score(y_train, y_train_pred_pca)\n",
    "test_accuracy_pca = accuracy_score(y_test, y_test_pred_pca)\n",
    "\n",
    "# Fim da contagem de tempo\n",
    "end_time = time.time()\n",
    "processing_time_pca = end_time - start_time\n",
    "\n",
    "# Resultados\n",
    "print(f\"Acurácia Treino (PCA 1 componente): {train_accuracy_pca:.4f}\")\n",
    "print(f\"Acurácia Teste (PCA 1 componente): {test_accuracy_pca:.4f}\")\n",
    "print(f\"Tempo de Processamento (PCA 1 componente): {processing_time_pca:.2f} segundos\")"
   ]
  },
  {
   "cell_type": "markdown",
   "metadata": {},
   "source": [
    "## Testando o número de componentes\n",
    "\n",
    "Com base no código acima, teste a árvore de classificação com pelo menos as seguintes possibilidades de quantidades de componentes: ```[1, 2, 5, 10, 50]```. Avalie para cada uma delas:\n",
    "\n",
    "- Acurácia nas bases de treino e teste\n",
    "- Tempo de processamento\n"
   ]
  },
  {
   "cell_type": "code",
   "execution_count": 7,
   "metadata": {},
   "outputs": [
    {
     "name": "stdout",
     "output_type": "stream",
     "text": [
      "\n",
      "Testing with 1 components:\n",
      " - Acurácia Treino: 0.4997\n",
      " - Acurácia Teste: 0.4571\n",
      " - Tempo de Processamento: 0.03 segundos\n",
      "\n",
      "Testing with 2 components:\n",
      " - Acurácia Treino: 0.6128\n",
      " - Acurácia Teste: 0.5847\n",
      " - Tempo de Processamento: 0.03 segundos\n",
      "\n",
      "Testing with 5 components:\n",
      " - Acurácia Treino: 0.8460\n",
      " - Acurácia Teste: 0.7893\n",
      " - Tempo de Processamento: 0.05 segundos\n",
      "\n",
      "Testing with 10 components:\n",
      " - Acurácia Treino: 0.8932\n",
      " - Acurácia Teste: 0.8235\n",
      " - Tempo de Processamento: 0.10 segundos\n",
      "\n",
      "Testing with 50 components:\n",
      " - Acurácia Treino: 0.9187\n",
      " - Acurácia Teste: 0.8239\n",
      " - Tempo de Processamento: 0.47 segundos\n",
      "\n",
      "Resumo dos Resultados:\n",
      "   n_components  train_accuracy  test_accuracy  processing_time\n",
      "0             1        0.499728       0.457075         0.032001\n",
      "1             2        0.612758       0.584662         0.035000\n",
      "2             5        0.846028       0.789277         0.045499\n",
      "3            10        0.893226       0.823549         0.096999\n",
      "4            50        0.918662       0.823889         0.470499\n"
     ]
    }
   ],
   "source": [
    "# List of number of components to test\n",
    "components_to_test = [1, 2, 5, 10, 50]\n",
    "\n",
    "# Dictionary to store results\n",
    "results = {\n",
    "    'n_components': [],\n",
    "    'train_accuracy': [],\n",
    "    'test_accuracy': [],\n",
    "    'processing_time': []\n",
    "}\n",
    "\n",
    "# Loop through different numbers of PCA components\n",
    "for n_components in components_to_test:\n",
    "    print(f\"\\nTesting with {n_components} components:\")\n",
    "    \n",
    "    # Apply PCA with the specified number of components\n",
    "    pca = PCA(n_components=n_components)\n",
    "    X_train_pca = pca.fit_transform(X_train)\n",
    "    X_test_pca = pca.transform(X_test)\n",
    "    \n",
    "    # Início da contagem de tempo\n",
    "    start_time = time.time()\n",
    "    \n",
    "    # Train Decision Tree Classifier\n",
    "    clf_pca = DecisionTreeClassifier(ccp_alpha=0.001)\n",
    "    clf_pca.fit(X_train_pca, y_train)\n",
    "    \n",
    "    # Predições\n",
    "    y_train_pred_pca = clf_pca.predict(X_train_pca)\n",
    "    y_test_pred_pca = clf_pca.predict(X_test_pca)\n",
    "    \n",
    "    # Avaliação da acurácia\n",
    "    train_accuracy_pca = accuracy_score(y_train, y_train_pred_pca)\n",
    "    test_accuracy_pca = accuracy_score(y_test, y_test_pred_pca)\n",
    "    \n",
    "    # Fim da contagem de tempo\n",
    "    end_time = time.time()\n",
    "    processing_time_pca = end_time - start_time\n",
    "    \n",
    "    # Store the results\n",
    "    results['n_components'].append(n_components)\n",
    "    results['train_accuracy'].append(train_accuracy_pca)\n",
    "    results['test_accuracy'].append(test_accuracy_pca)\n",
    "    results['processing_time'].append(processing_time_pca)\n",
    "    \n",
    "    # Print results for this iteration\n",
    "    print(f\" - Acurácia Treino: {train_accuracy_pca:.4f}\")\n",
    "    print(f\" - Acurácia Teste: {test_accuracy_pca:.4f}\")\n",
    "    print(f\" - Tempo de Processamento: {processing_time_pca:.2f} segundos\")\n",
    "\n",
    "# Convert the results dictionary to a DataFrame for better visualization\n",
    "results_df = pd.DataFrame(results)\n",
    "\n",
    "# Display the final results\n",
    "print(\"\\nResumo dos Resultados:\")\n",
    "print(results_df)"
   ]
  },
  {
   "cell_type": "markdown",
   "metadata": {},
   "source": [
    "## Conclua\n",
    "\n",
    "- O que aconteceu com a acurácia?\n",
    "\n",
    "Quando utilizamos apenas uma componente principal, a acurácia caiu drasticamente para cerca de 50% nos dados de treino e 45% nos dados de teste. Isso ocorre porque uma única componente não é suficiente para capturar toda a variabilidade dos dados originais. Assim, o modelo perde muita informação relevante.\n",
    "À medida que aumentamos o número de componentes, a acurácia melhora significativamente:\n",
    "Com 2 componentes, a acurácia aumenta para 61% no treino e 58% no teste.\n",
    "Com 5 componentes, a acurácia atinge 84% no treino e 79% no teste.\n",
    "Com 10 componentes, a acurácia chega a 89% no treino e 82% no teste, e já começa a se estabilizar.\n",
    "Com 50 componentes, a acurácia no treino sobe para 91%, mas a acurácia no teste permanece em 82%. Isso sugere que, além desse ponto, o aumento de componentes não traz muitos ganhos em termos de generalização.Conforme mais componentes são adicionados, o modelo consegue capturar mais variabilidade dos dados, levando a um aumento de acurácia tanto no treino quanto no teste.\n",
    "No entanto, após cerca de 10 componentes, o ganho de acurácia se estabiliza, o que indica que mais componentes podem capturar variações que não são necessariamente úteis para a generalização (potencialmente ruído ou overfitting)."
   ]
  },
  {
   "cell_type": "markdown",
   "metadata": {},
   "source": [
    "- O que aconteceu com o tempo de processamento?\n",
    "\n",
    "Com uma única componente, o tempo de processamento foi muito rápido (apenas 0.03 segundos), já que há menos variáveis para a árvore de decisão processar.\n",
    "À medida que o número de componentes aumenta, o tempo de processamento também aumenta:\n",
    "Com 2 componentes, o tempo permanece em 0.03 segundos.\n",
    "Com 5 componentes, sobe ligeiramente para 0.05 segundos.\n",
    "Com 10 componentes, o tempo é 0.10 segundos.\n",
    "Com 50 componentes, o tempo é 0.47 segundos, mostrando um aumento significativo.O tempo de processamento cresce à medida que mais componentes são incluídos, pois a árvore de decisão tem que lidar com um espaço de variáveis mais complexo.\n",
    "O crescimento no tempo de processamento é relativamente pequeno até 10 componentes, mas com 50 componentes, o tempo aumenta consideravelmente (quase 0.5 segundos). Embora isso ainda seja rápido, vemos que o custo computacional aumenta à medida que mais componentes são incluídos."
   ]
  }
 ],
 "metadata": {
  "kernelspec": {
   "display_name": "Python 3",
   "language": "python",
   "name": "python3"
  },
  "language_info": {
   "codemirror_mode": {
    "name": "ipython",
    "version": 3
   },
   "file_extension": ".py",
   "mimetype": "text/x-python",
   "name": "python",
   "nbconvert_exporter": "python",
   "pygments_lexer": "ipython3",
   "version": "3.10.4"
  },
  "toc": {
   "base_numbering": 1,
   "nav_menu": {},
   "number_sections": true,
   "sideBar": true,
   "skip_h1_title": true,
   "title_cell": "Índice",
   "title_sidebar": "Conteúdo",
   "toc_cell": false,
   "toc_position": {},
   "toc_section_display": true,
   "toc_window_display": false
  },
  "varInspector": {
   "cols": {
    "lenName": 16,
    "lenType": 16,
    "lenVar": 40
   },
   "kernels_config": {
    "python": {
     "delete_cmd_postfix": "",
     "delete_cmd_prefix": "del ",
     "library": "var_list.py",
     "varRefreshCmd": "print(var_dic_list())"
    },
    "r": {
     "delete_cmd_postfix": ") ",
     "delete_cmd_prefix": "rm(",
     "library": "var_list.r",
     "varRefreshCmd": "cat(var_dic_list()) "
    }
   },
   "types_to_exclude": [
    "module",
    "function",
    "builtin_function_or_method",
    "instance",
    "_Feature"
   ],
   "window_display": false
  }
 },
 "nbformat": 4,
 "nbformat_minor": 4
}

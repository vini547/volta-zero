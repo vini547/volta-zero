{
 "cells": [
  {
   "cell_type": "markdown",
   "metadata": {},
   "source": [
    "# Cálculo - Tarefa 01\n",
    "\n",
    "1. Marque quais desses métodos/algoritmos muito populares em ciência de dados são baseados no uso de derivada:\n",
    "\n",
    "    1. Método Mínimos Quadrados\n",
    "    2. Gradiente descendente\n",
    "    3. Newton Raphson\n",
    "    4. CART (Árvore de decisão)"
   ]
  },
  {
   "cell_type": "markdown",
   "metadata": {},
   "source": [
    "Na natureza existem fenomenos que pode ser explicados por equações simples como ax + b devido à relação de linearidade entre duas variáveis. Entretanto há fenomenos onde as variaveis que os explicam não seguem uma relação como uma linha reta. Há também fenômenos explicaods por diversas variáveis. Nestes casos a modelagem do fenômeno necessita de equações não lineares e com derivadas parciais.\n",
    "\n",
    "A partir dai, faz-se necessário o uso do cálculo, por meio de derivadas e integrais, para se determinar os coeficientes destes modelos. Isso nos tras para a solução da questão, a qual tem como Método dos Mínimos Quadrados, o Gradiente Descendente e o Newton Raphson como algoritmos que utilizam a derivada para estimar coeficientes. O MMQ utiliza derivada para encontrar os pontos críticos da função de custo de forma analítica. Método simples para problemas lineares. Já o Gradiente Descendente utiliza derivadas para calcular o gradiente da função de custo de através de iterações até que uma convergência seja atingida. O método Newton Raphson por sua vez, utilza a primeira e a segunda derivada de uma função para ajustar os coeficientes com base na curvatura da função de custo tornando-o mais eficiente em termos de convergência."
   ]
  },
  {
   "cell_type": "markdown",
   "metadata": {},
   "source": [
    "2. Dada uma base de dados com uma variável resposta $y$ e um conjunto de variáveis explicativas. Considere uma estrutura de um modelo de regressão. Explique com suas palavras por que não é possível obter parâmetros que forneçam um erro quadrático médio (EQM) menor que o obtido com estimadores de mínimos quadrados."
   ]
  },
  {
   "cell_type": "markdown",
   "metadata": {},
   "source": [
    "A razão pela qual não é possível obter um erro quadrático médio (EQM) menor do que o obtido com OLS pode ser explicada por algumas considerações fundamentais:"
   ]
  },
  {
   "cell_type": "markdown",
   "metadata": {},
   "source": [
    "Propriedade dos Estimadores de Mínimos Quadrados\n",
    "Os estimadores de mínimos quadrados possuem uma propriedade conhecida como \"mínimo\" no sentido de que eles são projetados para minimizar a soma dos quadrados dos resíduos (as diferenças entre os valores observados e os valores previstos pelo modelo). O resultado é que o EQM, que é a média dos quadrados desses resíduos, é minimizado. Assim, qualquer outro método que não seja OLS não pode, em média, produzir resíduos menores do que os que OLS já minimizou."
   ]
  },
  {
   "cell_type": "markdown",
   "metadata": {},
   "source": [
    "Teorema de Gauss-Markov\n",
    "Se as suposições do modelo linear clássico forem satisfeitas (linearidade, independência, homocedasticidade, e normalidade dos erros), o teorema de Gauss-Markov afirma que os estimadores de mínimos quadrados são os melhores estimadores lineares não tendenciosos (BLUE). Isso significa que, entre todos os estimadores lineares, OLS tem a menor variância. Portanto, qualquer outro estimador linear resultará em um EQM maior ou igual ao do OLS."
   ]
  },
  {
   "cell_type": "markdown",
   "metadata": {},
   "source": [
    "Viés e Variância\n",
    "Mudar a abordagem para estimar os parâmetros pode levar a estimadores que têm um viés maior ou que são menos precisos (ou seja, têm maior variância). Enquanto um método alternativo pode ter um EQM menor em alguns casos, isso geralmente acontece porque ele está sacrificando a precisão em outros casos, resultando em um EQM médio maior. OLS, por outro lado, busca um equilíbrio entre viés e variância de maneira que minimiza o EQM global."
   ]
  },
  {
   "cell_type": "markdown",
   "metadata": {},
   "source": [
    "Conformidade com o Modelo\n",
    "Se as suposições sobre a estrutura do modelo e a distribuição dos erros não forem respeitadas, qualquer tentativa de ajuste que não utilize OLS pode não capturar adequadamente a relação entre 𝑦 e as variáveis explicativas, resultando em um aumento do EQM."
   ]
  },
  {
   "cell_type": "markdown",
   "metadata": {},
   "source": [
    "Portanto, a estrutura e as propriedades dos estimadores de mínimos quadrados garantem que eles oferecem o menor EQM possível sob as suposições apropriadas. Qualquer tentativa de melhorar o EQM que não utilize OLS terá dificuldades para alcançar um desempenho melhor, uma vez que OLS é projetado especificamente para minimizar a soma dos quadrados dos resíduos, e não existe um método linear que possa garantir um erro menor do que esse."
   ]
  }
 ],
 "metadata": {
  "kernelspec": {
   "display_name": "Python 3",
   "language": "python",
   "name": "python3"
  },
  "language_info": {
   "codemirror_mode": {
    "name": "ipython",
    "version": 3
   },
   "file_extension": ".py",
   "mimetype": "text/x-python",
   "name": "python",
   "nbconvert_exporter": "python",
   "pygments_lexer": "ipython3",
   "version": "3.12.7"
  },
  "toc": {
   "base_numbering": 1,
   "nav_menu": {},
   "number_sections": true,
   "sideBar": true,
   "skip_h1_title": true,
   "title_cell": "Índice",
   "title_sidebar": "Conteúdo",
   "toc_cell": false,
   "toc_position": {},
   "toc_section_display": true,
   "toc_window_display": false
  },
  "varInspector": {
   "cols": {
    "lenName": 16,
    "lenType": 16,
    "lenVar": 40
   },
   "kernels_config": {
    "python": {
     "delete_cmd_postfix": "",
     "delete_cmd_prefix": "del ",
     "library": "var_list.py",
     "varRefreshCmd": "print(var_dic_list())"
    },
    "r": {
     "delete_cmd_postfix": ") ",
     "delete_cmd_prefix": "rm(",
     "library": "var_list.r",
     "varRefreshCmd": "cat(var_dic_list()) "
    }
   },
   "types_to_exclude": [
    "module",
    "function",
    "builtin_function_or_method",
    "instance",
    "_Feature"
   ],
   "window_display": false
  }
 },
 "nbformat": 4,
 "nbformat_minor": 4
}

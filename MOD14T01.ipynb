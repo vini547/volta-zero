{
 "cells": [
  {
   "cell_type": "code",
   "execution_count": 13,
   "metadata": {
    "ExecuteTime": {
     "end_time": "2021-06-06T21:12:37.298706Z",
     "start_time": "2021-06-06T21:12:36.656481Z"
    }
   },
   "outputs": [],
   "source": [
    "import pandas as pd\n",
    "import numpy as np\n",
    "import seaborn as sns\n",
    "import matplotlib.pyplot as plt\n",
    "import os\n",
    "import time"
   ]
  },
  {
   "cell_type": "code",
   "execution_count": 14,
   "metadata": {
    "code_folding": []
   },
   "outputs": [],
   "source": [
    "def pltr(value, index, func, ylabel, xlabel, opcao='nada'):\n",
    "\n",
    "    \"\"\"\n",
    "\n",
    "\n",
    "      /\\\\\\\\\\\\\\\\\\\\\\\\\\    /\\\\\\          /\\\\\\\\\\\\\\\\\\\\\\\\\\\\\\    /\\\\\\\\\\\\\\\\\\             \n",
    "      \\/\\\\\\/////////\\\\\\ \\/\\\\\\         \\///////\\\\\\/////   /\\\\\\///////\\\\\\          \n",
    "       \\/\\\\\\_______\\/\\\\\\ \\/\\\\\\               \\/\\\\\\       \\/\\\\\\     \\/\\\\\\         \n",
    "        \\/\\\\\\\\\\\\\\\\\\\\\\\\\\/  \\/\\\\\\               \\/\\\\\\       \\/\\\\\\\\\\\\\\\\\\\\\\/         \n",
    "         \\/\\\\\\/////////    \\/\\\\\\               \\/\\\\\\       \\/\\\\\\//////\\\\\\        \n",
    "          \\/\\\\\\             \\/\\\\\\               \\/\\\\\\       \\/\\\\\\    \\//\\\\\\      \n",
    "           \\/\\\\\\             \\/\\\\\\____________   \\/\\\\\\       \\/\\\\\\     \\//\\\\\\    \n",
    "            \\/\\\\\\             \\/\\\\\\\\\\\\\\\\\\\\\\\\\\\\\\   \\/\\\\\\       \\/\\\\\\      \\//\\\\\\  \n",
    "             \\///              \\///////////////    \\///        \\///        \\///  \n",
    "                                                                                 \n",
    "    \n",
    "    ============================================================================\n",
    "    ||                               PLTR                                     ||\n",
    "    ============================================================================\n",
    "\n",
    "    Monitora diretório e plota gráficos no instante em que csvs são alterados.\n",
    "    Uma vez detectado o csv, este é processado para gerar as séries de dados\n",
    "    que serão plotadas. Pode-se customizar os dados através de qualquer função\n",
    "    de agragação ou uma lsita delas.\n",
    "\n",
    "    -----------------------------------------------------------------------------\n",
    "    |                                                                           |\n",
    "    |  Parametros:                                                              |\n",
    "    |    value  - feature a ser agregada pela função.                           |\n",
    "    |    index  - features a serem usadas como index da pivot table.            |  \n",
    "    |    func   - funcao de agragação.                                          | \n",
    "    |    ylabel - título do eixo y.                                             |\n",
    "    |    xlabel - título do eixo y.                                             |                                     \n",
    "    |    opcao  - modo de representação dos valores agregados                   |\n",
    "    |    freq   - frequência de verificação.                                    |\n",
    "    |                                                                           |    \n",
    "    -----------------------------------------------------------------------------\n",
    "\n",
    "    -----------------------------------------------------------------------------\n",
    "    |                                                                           |\n",
    "    |  Returna:                                                                 |\n",
    "    |    Retorna um pandas dataframe com os dados processados e plota o gráfico |\n",
    "    |    configurado.                                                           |\n",
    "    |                                                                           |\n",
    "    -----------------------------------------------------------------------------\n",
    "    \n",
    "    \n",
    "    \"\"\"    \n",
    "    \n",
    "    folder_path = './input'\n",
    "    time_threshold = time.time() - 10  # Configura o tempo de verificação.\n",
    "\n",
    "    # Checa se qualquer arquivo na pasta foi modificado nos últimos 10s.\n",
    "    updated_files = []\n",
    "    modification_times = []\n",
    "    for file in os.listdir(folder_path):\n",
    "        if file.endswith('.csv'):\n",
    "            file_path = os.path.join(folder_path, file)\n",
    "            modification_times.append(os.path.getmtime(file_path))\n",
    "    if any(mod_time > time_threshold for mod_time in modification_times):\n",
    "        updated_files.append(file_path)  \n",
    "        print(f'Updated file found: {file_path}')\n",
    "    else:\n",
    "        print(f'No file updated in the last 10s.')\n",
    "\n",
    "    # Caso encontrados, os arquivos são processados.\n",
    "    df = pd.DataFrame()\n",
    "    for file_path in updated_files:\n",
    "        print(f'Processing updated file: {file_path}')\n",
    "        df = pd.read_csv(file_path)\n",
    "\n",
    "        # Pivot Table\n",
    "        if opcao == 'default':\n",
    "            pd.pivot_table(df, \n",
    "                        values=value, \n",
    "                        index=index,\n",
    "                        aggfunc=func).plot(figsize=[15, 5])\n",
    "        elif opcao == 'rankear':\n",
    "            pd.pivot_table(df, \n",
    "                        values=value, \n",
    "                        index=index,\n",
    "                        aggfunc=func).sort_values(value).plot(figsize=[15, 5])\n",
    "        elif opcao == 'unstack':\n",
    "            pd.pivot_table(df, \n",
    "                        values=value, \n",
    "                        index=index,\n",
    "                        aggfunc=func).unstack().plot(figsize=[15, 5])\n",
    "\n",
    "        plt.ylabel(ylabel)\n",
    "        plt.xlabel(xlabel)\n",
    "        plt.show()\n",
    "    return df"
   ]
  },
  {
   "cell_type": "code",
   "execution_count": 15,
   "metadata": {},
   "outputs": [
    {
     "name": "stdout",
     "output_type": "stream",
     "text": [
      "No file updated in the last 10s.\n"
     ]
    },
    {
     "data": {
      "text/html": [
       "<div>\n",
       "<style scoped>\n",
       "    .dataframe tbody tr th:only-of-type {\n",
       "        vertical-align: middle;\n",
       "    }\n",
       "\n",
       "    .dataframe tbody tr th {\n",
       "        vertical-align: top;\n",
       "    }\n",
       "\n",
       "    .dataframe thead th {\n",
       "        text-align: right;\n",
       "    }\n",
       "</style>\n",
       "<table border=\"1\" class=\"dataframe\">\n",
       "  <thead>\n",
       "    <tr style=\"text-align: right;\">\n",
       "      <th></th>\n",
       "    </tr>\n",
       "  </thead>\n",
       "  <tbody>\n",
       "  </tbody>\n",
       "</table>\n",
       "</div>"
      ],
      "text/plain": [
       "Empty DataFrame\n",
       "Columns: []\n",
       "Index: []"
      ]
     },
     "execution_count": 15,
     "metadata": {},
     "output_type": "execute_result"
    }
   ],
   "source": [
    "sinasc = pltr('PESO','DTNASC','mean','Media Peso Bebe','Data de Nascimento','default')  \n",
    "sinasc.head()"
   ]
  }
 ],
 "metadata": {
  "kernelspec": {
   "display_name": "Python 3",
   "language": "python",
   "name": "python3"
  },
  "language_info": {
   "codemirror_mode": {
    "name": "ipython",
    "version": 3
   },
   "file_extension": ".py",
   "mimetype": "text/x-python",
   "name": "python",
   "nbconvert_exporter": "python",
   "pygments_lexer": "ipython3",
   "version": "3.10.4"
  },
  "varInspector": {
   "cols": {
    "lenName": 16,
    "lenType": 16,
    "lenVar": 40
   },
   "kernels_config": {
    "python": {
     "delete_cmd_postfix": "",
     "delete_cmd_prefix": "del ",
     "library": "var_list.py",
     "varRefreshCmd": "print(var_dic_list())"
    },
    "r": {
     "delete_cmd_postfix": ") ",
     "delete_cmd_prefix": "rm(",
     "library": "var_list.r",
     "varRefreshCmd": "cat(var_dic_list()) "
    }
   },
   "types_to_exclude": [
    "module",
    "function",
    "builtin_function_or_method",
    "instance",
    "_Feature"
   ],
   "window_display": false
  }
 },
 "nbformat": 4,
 "nbformat_minor": 4
}

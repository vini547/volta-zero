{
  "cells": [
    {
      "cell_type": "markdown",
      "metadata": {
        "id": "njUvbhQmC8-t"
      },
      "source": [
        "## Exercício 1: Vestibular\n",
        "\n",
        "Considere que a os dados gerados na célula abaixo contêm o número de acertos de 100 alunos em um vestibular para um curso de exatas, divididas pelos respectivos assuntos. Considere que cada assunto possui um número de questões conforme a tabela abaixo:\n",
        "\n",
        "| assunto | número de questões |\n",
        "|:---:|:---:|\n",
        "| Matemática | 24 |\n",
        "| Português | 18 |\n",
        "| Geografia | 8 |\n",
        "| Inglês | 8 |\n",
        "| História | 8 |\n",
        "| Física | 12 |\n",
        "| Química | 12 |\n",
        "\n",
        "Usando os comandos de operações com DataFrames que você aprendeu na Aula 03, calcule:\n",
        "\n",
        "1. (operações com escalar) Calcule o percentual de acerto dos alunos por assunto.  \n",
        "2. (operações entre *DataFrames) Calcule o total de acertos de cada aluno.  \n",
        "3. Calcule o porcentual geral de cada aluno.  \n",
        "4. Suponha que a nota de corte para a segunda fase seja 45. Quantos alunos tiveram nota maior que 45?  "
      ]
    },
    {
      "cell_type": "code",
      "execution_count": 98,
      "metadata": {
        "id": "Ll6TadxCC8-y"
      },
      "outputs": [],
      "source": [
        "import pandas as pd\n",
        "import numpy as np\n",
        "\n",
        "np.random.seed(42)\n",
        "df_mat = pd.DataFrame(np.random.randint(24, size=(100, 1)), columns=['Qt_acertos'])\n",
        "\n",
        "df_por = pd.DataFrame(np.random.randint(18, size=(100, 1)), columns=['Qt_acertos'])\n",
        "\n",
        "df_geo = pd.DataFrame(np.random.randint(8, size=(100, 1)), columns=['Qt_acertos'])\n",
        "\n",
        "df_ing = pd.DataFrame(np.random.randint(8, size=(100, 1)), columns=['Qt_acertos'])\n",
        "\n",
        "df_his = pd.DataFrame(np.random.randint(8, size=(100, 1)), columns=['Qt_acertos'])\n",
        "\n",
        "df_fis = pd.DataFrame(np.random.randint(12, size=(100, 1)), columns=['Qt_acertos'])\n",
        "\n",
        "df_qui = pd.DataFrame(np.random.randint(12, size=(100, 1)), columns=['Qt_acertos'])"
      ]
    },
    {
      "cell_type": "code",
      "execution_count": 99,
      "metadata": {
        "id": "JVmLXiC2C8-0"
      },
      "outputs": [
        {
          "name": "stdout",
          "output_type": "stream",
          "text": [
            "     mat    por   geo   ing   his    fis    qui\n",
            "0  25.00  38.89  87.5  37.5  12.5  66.67  25.00\n",
            "1  79.17  55.56   0.0   0.0   0.0  91.67  66.67\n",
            "2  58.33  88.89   0.0  62.5  87.5  33.33  33.33\n",
            "3  41.67  38.89  37.5  50.0   0.0   0.00  66.67\n",
            "4  29.17  11.11  25.0  87.5   0.0  75.00  25.00\n",
            "5  83.33  11.11  62.5  37.5  25.0  75.00  75.00\n",
            "6  25.00   0.00  87.5  87.5  62.5   0.00  33.33\n",
            "7  75.00  22.22  50.0  87.5  87.5   8.33  66.67\n",
            "8  91.67  50.00  25.0  87.5  75.0  41.67  58.33\n",
            "9  41.67  33.33  37.5  75.0  50.0  66.67  16.67\n"
          ]
        }
      ],
      "source": [
        "# 1) Percentual de acerto dos alunos por assunto\n",
        "dfs = [df_mat, df_por, df_geo, df_ing, df_his, df_fis, df_qui]\n",
        "dfs_names = [\"mat\", \"por\", \"geo\", \"ing\", \"his\", \"fis\", \"qui\"]\n",
        "quants= [24,18,8,8,8,12,12]\n",
        "materias = dict(zip(dfs_names,quants))\n",
        "df = pd.concat(dfs,axis=1)\n",
        "\n",
        "df.columns = [f'{key}' for key in materias.keys()]\n",
        "\n",
        "percents = round(df/materias.values(),4)*100\n",
        "print(f'{percents.head(10)}')\n"
      ]
    },
    {
      "cell_type": "code",
      "execution_count": 100,
      "metadata": {
        "id": "JbTwCyNHC8-1"
      },
      "outputs": [
        {
          "name": "stdout",
          "output_type": "stream",
          "text": [
            "0     35\n",
            "1     48\n",
            "2     50\n",
            "3     32\n",
            "4     30\n",
            "      ..\n",
            "95    34\n",
            "96    27\n",
            "97    40\n",
            "98    40\n",
            "99    42\n",
            "Length: 100, dtype: int64\n"
          ]
        }
      ],
      "source": [
        "# 2) Total de acertos de cada aluno.  \n",
        "print(df.sum(axis=1))"
      ]
    },
    {
      "cell_type": "code",
      "execution_count": 101,
      "metadata": {
        "id": "c2L8dJkVC8-3"
      },
      "outputs": [
        {
          "name": "stdout",
          "output_type": "stream",
          "text": [
            "0     0.388889\n",
            "1     0.533333\n",
            "2     0.555556\n",
            "3     0.355556\n",
            "4     0.333333\n",
            "        ...   \n",
            "95    0.377778\n",
            "96    0.300000\n",
            "97    0.444444\n",
            "98    0.444444\n",
            "99    0.466667\n",
            "Length: 100, dtype: float64\n"
          ]
        }
      ],
      "source": [
        "# 3) Percentual geral de cada aluno.  \n",
        "print(df.sum(axis=1)/sum(materias.values()))"
      ]
    },
    {
      "cell_type": "code",
      "execution_count": 102,
      "metadata": {
        "id": "PZTZ7DFzC8-3"
      },
      "outputs": [
        {
          "name": "stdout",
          "output_type": "stream",
          "text": [
            "total\n",
            "False    69\n",
            "True     31\n",
            "Name: count, dtype: int64\n"
          ]
        }
      ],
      "source": [
        "# 4) Alunos que tiveram nota maior que 45.\n",
        "#Adiciona nova coluna \"total\" ao dataframe df com os totais de acerto de cada aluno\n",
        "\n",
        "df['total'] = df.sum(axis=1)\n",
        "aprovados = df[\"total\"]>45\n",
        "df_aprovados = df[df[\"total\"]>45]\n",
        "print(aprovados.value_counts())"
      ]
    },
    {
      "cell_type": "markdown",
      "metadata": {
        "id": "Hlfl75XXC8-4"
      },
      "source": [
        "## 2) Vestibular II\n",
        "\n",
        "Ainda sobre o mesmo banco de dados:\n",
        "\n",
        "1. Neste vestibular, quem 'zera' em matemática, física ou química está desqualificado. Monte um novo *DataFrame* com os alunos desqualificados por este critério.\n",
        "2. Quantos são esses alunos?\n",
        "3. Qual a média desses alunos em história e geografia?\n",
        "4. Monte um *DataFrame* com os alunos que passaram para a segunda fase. Repare que estes alunos não podem ter sido desqualificados."
      ]
    },
    {
      "cell_type": "code",
      "execution_count": 144,
      "metadata": {
        "id": "hPaMGXvJC8-4"
      },
      "outputs": [
        {
          "name": "stdout",
          "output_type": "stream",
          "text": [
            "O número de alunos desqualificados é: 23\n",
            "As médias destes alunos em história e geografia são, respectivamente: 3.43, 3.22\n"
          ]
        },
        {
          "data": {
            "text/html": [
              "<div>\n",
              "<style scoped>\n",
              "    .dataframe tbody tr th:only-of-type {\n",
              "        vertical-align: middle;\n",
              "    }\n",
              "\n",
              "    .dataframe tbody tr th {\n",
              "        vertical-align: top;\n",
              "    }\n",
              "\n",
              "    .dataframe thead th {\n",
              "        text-align: right;\n",
              "    }\n",
              "</style>\n",
              "<table border=\"1\" class=\"dataframe\">\n",
              "  <thead>\n",
              "    <tr style=\"text-align: right;\">\n",
              "      <th></th>\n",
              "      <th>mat</th>\n",
              "      <th>por</th>\n",
              "      <th>geo</th>\n",
              "      <th>ing</th>\n",
              "      <th>his</th>\n",
              "      <th>fis</th>\n",
              "      <th>qui</th>\n",
              "      <th>total</th>\n",
              "    </tr>\n",
              "  </thead>\n",
              "  <tbody>\n",
              "    <tr>\n",
              "      <th>1</th>\n",
              "      <td>19</td>\n",
              "      <td>10</td>\n",
              "      <td>0</td>\n",
              "      <td>0</td>\n",
              "      <td>0</td>\n",
              "      <td>11</td>\n",
              "      <td>8</td>\n",
              "      <td>48</td>\n",
              "    </tr>\n",
              "    <tr>\n",
              "      <th>2</th>\n",
              "      <td>14</td>\n",
              "      <td>16</td>\n",
              "      <td>0</td>\n",
              "      <td>5</td>\n",
              "      <td>7</td>\n",
              "      <td>4</td>\n",
              "      <td>4</td>\n",
              "      <td>50</td>\n",
              "    </tr>\n",
              "    <tr>\n",
              "      <th>5</th>\n",
              "      <td>20</td>\n",
              "      <td>2</td>\n",
              "      <td>5</td>\n",
              "      <td>3</td>\n",
              "      <td>2</td>\n",
              "      <td>9</td>\n",
              "      <td>9</td>\n",
              "      <td>50</td>\n",
              "    </tr>\n",
              "    <tr>\n",
              "      <th>7</th>\n",
              "      <td>18</td>\n",
              "      <td>4</td>\n",
              "      <td>4</td>\n",
              "      <td>7</td>\n",
              "      <td>7</td>\n",
              "      <td>1</td>\n",
              "      <td>8</td>\n",
              "      <td>49</td>\n",
              "    </tr>\n",
              "    <tr>\n",
              "      <th>8</th>\n",
              "      <td>22</td>\n",
              "      <td>9</td>\n",
              "      <td>2</td>\n",
              "      <td>7</td>\n",
              "      <td>6</td>\n",
              "      <td>5</td>\n",
              "      <td>7</td>\n",
              "      <td>58</td>\n",
              "    </tr>\n",
              "  </tbody>\n",
              "</table>\n",
              "</div>"
            ],
            "text/plain": [
              "   mat  por  geo  ing  his  fis  qui  total\n",
              "1   19   10    0    0    0   11    8     48\n",
              "2   14   16    0    5    7    4    4     50\n",
              "5   20    2    5    3    2    9    9     50\n",
              "7   18    4    4    7    7    1    8     49\n",
              "8   22    9    2    7    6    5    7     58"
            ]
          },
          "execution_count": 144,
          "metadata": {},
          "output_type": "execute_result"
        }
      ],
      "source": [
        "# DataFrame de desqualificados\n",
        "des = df[(df[\"mat\"] == 0) | (df[\"fis\"] == 0) | (df[\"qui\"] == 0)]\n",
        "alunos_0, materias = des.shape\n",
        "print(f'O número de alunos desqualificados é: {alunos_0}')\n",
        "print(f'As médias destes alunos em história e geografia são, respectivamente: {round(des[\"his\"].sum(axis=0)/alunos_0,2)}, {round(des[\"geo\"].sum(axis=0)/alunos_0,2)}')\n",
        "#Aplicando condições  amais de uma coluna uitilizando operadores lógicos e gerando Dataframe de aprovados para segunda fase.\n",
        "aprovados_segunda = df[(df[\"mat\"] != 0) & (df[\"fis\"] != 0) & (df[\"qui\"] != 0) & (df[\"total\"] > 45)]\n",
        "aprovados_segunda.head()\n",
        "\n",
        "\n",
        "\n"
      ]
    },
    {
      "cell_type": "markdown",
      "metadata": {
        "id": "EGBUWpAHC8-5"
      },
      "source": [
        "## 3) Vacinações no Acre\n",
        "Vamos trabalhar agora com a base de vacinações no Acre. Para facilitar a sua vida, copiamos o link do arquivo na célula abaixo.\n",
        "\n",
        "1. Quantas vacinas estão registradas nessa base?  \n",
        "2. Quantos pacientes foram vacinados? (considere um paciente para cada valor único de ```paciente_id```)  \n",
        "3. Quantos pacientes únicos tomaram a primeira dose? OBS: Há um caractere especial neste campo. Receba os valores do campo com o método ```.unique()```.   \n",
        "4. Quantos pacientes com menos de 18 anos foram vacinados?  \n",
        "5. Quantos estabelecimentos aplicaram vacina no Acre?\n",
        "\n",
        "\n",
        "**OBS:** O portal do DATASUS pode apresentar instabilidades, retornando um erro na segunda célula abaixo. Por este motivo está disponível uma base estática, que se for baixada para o seu *working directory* pode ser lida com este comando: ```df = pd.read_csv('registros de vacinacao covid ACRE.csv', sep=';')```.\n",
        "\n",
        "**OBS2:** Para saber qual é o seu working directory, rode no jupyter: ```!pwd```."
      ]
    },
    {
      "cell_type": "code",
      "execution_count": 157,
      "metadata": {
        "id": "ET4r139hC8-5"
      },
      "outputs": [],
      "source": [
        "arquivo = 'https://s3.sa-east-1.amazonaws.com/ckan.saude.gov.br/SIPNI/COVID/uf/uf%3DAC/part-00000-d3ee4571-2459-48fe-bbca-55bd7a65aa5a.c000.csv'"
      ]
    },
    {
      "cell_type": "code",
      "execution_count": null,
      "metadata": {
        "id": "SC9YMWLSC8-6"
      },
      "outputs": [],
      "source": [
        "# 1) Sua solução aqui\n",
        "df = pd.read_csv(arquivo,na_values='na',delimiter=';')\n",
        "\n"
      ]
    },
    {
      "cell_type": "code",
      "execution_count": 160,
      "metadata": {
        "id": "PMztY1RlC8-7"
      },
      "outputs": [
        {
          "data": {
            "text/html": [
              "<div>\n",
              "<style scoped>\n",
              "    .dataframe tbody tr th:only-of-type {\n",
              "        vertical-align: middle;\n",
              "    }\n",
              "\n",
              "    .dataframe tbody tr th {\n",
              "        vertical-align: top;\n",
              "    }\n",
              "\n",
              "    .dataframe thead th {\n",
              "        text-align: right;\n",
              "    }\n",
              "</style>\n",
              "<table border=\"1\" class=\"dataframe\">\n",
              "  <thead>\n",
              "    <tr style=\"text-align: right;\">\n",
              "      <th></th>\n",
              "      <th>document_id;\"paciente_id\";\"paciente_idade\";\"paciente_dataNascimento\";\"paciente_enumSexoBiologico\";\"paciente_racaCor_codigo\";\"paciente_racaCor_valor\";\"paciente_endereco_coIbgeMunicipio\";\"paciente_endereco_coPais\";\"paciente_endereco_nmMunicipio\";\"paciente_endereco_nmPais\";\"paciente_endereco_uf\";\"paciente_endereco_cep\";\"paciente_nacionalidade_enumNacionalidade\";\"estabelecimento_valor\";\"estabelecimento_razaoSocial\";\"estalecimento_noFantasia\";\"estabelecimento_municipio_codigo\";\"estabelecimento_municipio_nome\";\"estabelecimento_uf\";\"vacina_grupoAtendimento_codigo\";\"vacina_grupoAtendimento_nome\";\"vacina_categoria_codigo\";\"vacina_categoria_nome\";\"vacina_lote\";\"vacina_fabricante_nome\";\"vacina_fabricante_referencia\";\"vacina_dataAplicacao\";\"vacina_descricao_dose\";\"vacina_codigo\";\"vacina_nome\";\"sistema_origem\"</th>\n",
              "    </tr>\n",
              "  </thead>\n",
              "  <tbody>\n",
              "    <tr>\n",
              "      <th>0</th>\n",
              "      <td>be326d7c-dcde-400e-a701-b4ffed4039fe-i0b0;\"a7d...</td>\n",
              "    </tr>\n",
              "    <tr>\n",
              "      <th>1</th>\n",
              "      <td>517dd32f-238f-495f-ae41-1ecf2ef04b32-i0b0;\"c46...</td>\n",
              "    </tr>\n",
              "    <tr>\n",
              "      <th>2</th>\n",
              "      <td>e590a0b2-dc59-49e0-a6c2-115e9410cf2c-i0b0;\"ccd...</td>\n",
              "    </tr>\n",
              "    <tr>\n",
              "      <th>3</th>\n",
              "      <td>51bfb21e-babb-4287-a626-750e0b60aab9-i0b0;\"e6e...</td>\n",
              "    </tr>\n",
              "    <tr>\n",
              "      <th>4</th>\n",
              "      <td>fb33ca3c-9b53-4644-88e8-96a7a2328aa5-i0b0;\"75d...</td>\n",
              "    </tr>\n",
              "  </tbody>\n",
              "</table>\n",
              "</div>"
            ],
            "text/plain": [
              "  document_id;\"paciente_id\";\"paciente_idade\";\"paciente_dataNascimento\";\"paciente_enumSexoBiologico\";\"paciente_racaCor_codigo\";\"paciente_racaCor_valor\";\"paciente_endereco_coIbgeMunicipio\";\"paciente_endereco_coPais\";\"paciente_endereco_nmMunicipio\";\"paciente_endereco_nmPais\";\"paciente_endereco_uf\";\"paciente_endereco_cep\";\"paciente_nacionalidade_enumNacionalidade\";\"estabelecimento_valor\";\"estabelecimento_razaoSocial\";\"estalecimento_noFantasia\";\"estabelecimento_municipio_codigo\";\"estabelecimento_municipio_nome\";\"estabelecimento_uf\";\"vacina_grupoAtendimento_codigo\";\"vacina_grupoAtendimento_nome\";\"vacina_categoria_codigo\";\"vacina_categoria_nome\";\"vacina_lote\";\"vacina_fabricante_nome\";\"vacina_fabricante_referencia\";\"vacina_dataAplicacao\";\"vacina_descricao_dose\";\"vacina_codigo\";\"vacina_nome\";\"sistema_origem\"\n",
              "0  be326d7c-dcde-400e-a701-b4ffed4039fe-i0b0;\"a7d...                                                                                                                                                                                                                                                                                                                                                                                                                                                                                                                                                                                                                                                                                                                                                                                      \n",
              "1  517dd32f-238f-495f-ae41-1ecf2ef04b32-i0b0;\"c46...                                                                                                                                                                                                                                                                                                                                                                                                                                                                                                                                                                                                                                                                                                                                                                                      \n",
              "2  e590a0b2-dc59-49e0-a6c2-115e9410cf2c-i0b0;\"ccd...                                                                                                                                                                                                                                                                                                                                                                                                                                                                                                                                                                                                                                                                                                                                                                                      \n",
              "3  51bfb21e-babb-4287-a626-750e0b60aab9-i0b0;\"e6e...                                                                                                                                                                                                                                                                                                                                                                                                                                                                                                                                                                                                                                                                                                                                                                                      \n",
              "4  fb33ca3c-9b53-4644-88e8-96a7a2328aa5-i0b0;\"75d...                                                                                                                                                                                                                                                                                                                                                                                                                                                                                                                                                                                                                                                                                                                                                                                      "
            ]
          },
          "execution_count": 160,
          "metadata": {},
          "output_type": "execute_result"
        }
      ],
      "source": [
        "# 2)\n",
        "df.head()"
      ]
    },
    {
      "cell_type": "code",
      "execution_count": null,
      "metadata": {
        "id": "V_wr--3JC8-7"
      },
      "outputs": [],
      "source": [
        "# 3)\n"
      ]
    },
    {
      "cell_type": "code",
      "execution_count": null,
      "metadata": {
        "id": "SPHgIxtcC8-7"
      },
      "outputs": [],
      "source": [
        "# 3) solução alternativa\n"
      ]
    },
    {
      "cell_type": "code",
      "execution_count": null,
      "metadata": {
        "id": "S6ab9ExEC8-7"
      },
      "outputs": [],
      "source": [
        "# 4)\n"
      ]
    },
    {
      "cell_type": "code",
      "execution_count": null,
      "metadata": {
        "id": "PVrY_-qlC8-8"
      },
      "outputs": [],
      "source": [
        "# 5)\n"
      ]
    },
    {
      "cell_type": "markdown",
      "metadata": {
        "id": "LH1LSYvGC8-8"
      },
      "source": [
        "## 4) Vacinação II\n",
        "Gere um *DataFrame* que contenha somente os estabelecimentos que aplicaram vcinas a menores de 18 anos. Nesse *DataFrame* devem conter somente os dados dos estabelecimentos, mais uma coluna sendo a quantidade de vacinas que o estabelecimento aplicou a menores de 18 anos.  \n",
        "  \n",
        "1. crie uma cópia do *DataFrame* original, contendo somente os registros de vacinas realizadas a menores de 18 anos.  \n",
        "2. crie uma lista das colunas desse *DataFrame* com o atributo de *DataFrame* **.columns()**  \n",
        "3. Nesse *DataFrame* faça uma contagem do campo ```vacina_categoria_nome```.\n",
        "3. a partir da lista de colunas, escolha somente aquelas que são referentes ao estabelecimento, faça uma lista com esses valores.  \n",
        "4. usando o método *.loc*, selecione somente essas variáveis  \n",
        "5. Aplique o método **.drop_duplicates** e crie uma lista com uma linha para cada estabelecimento, com os dados do estabelecimento  "
      ]
    },
    {
      "cell_type": "code",
      "execution_count": null,
      "metadata": {
        "id": "3ojs12vUC8-8"
      },
      "outputs": [],
      "source": [
        "# 1)\n"
      ]
    },
    {
      "cell_type": "code",
      "execution_count": null,
      "metadata": {
        "id": "sLyevPRBC8-8"
      },
      "outputs": [],
      "source": [
        "# 2)\n"
      ]
    },
    {
      "cell_type": "code",
      "execution_count": null,
      "metadata": {
        "id": "lZAW-Dp8C8-8"
      },
      "outputs": [],
      "source": [
        "# 3)\n"
      ]
    },
    {
      "cell_type": "code",
      "execution_count": null,
      "metadata": {
        "id": "xxYsxrxAC8-8"
      },
      "outputs": [],
      "source": [
        "# 4)\n"
      ]
    },
    {
      "cell_type": "code",
      "execution_count": null,
      "metadata": {
        "id": "vaX2x_0rC8-8"
      },
      "outputs": [],
      "source": [
        "# 5)\n"
      ]
    }
  ],
  "metadata": {
    "colab": {
      "provenance": []
    },
    "kernelspec": {
      "display_name": "Python 3",
      "language": "python",
      "name": "python3"
    },
    "language_info": {
      "codemirror_mode": {
        "name": "ipython",
        "version": 3
      },
      "file_extension": ".py",
      "mimetype": "text/x-python",
      "name": "python",
      "nbconvert_exporter": "python",
      "pygments_lexer": "ipython3",
      "version": "3.10.4"
    },
    "toc": {
      "base_numbering": 1,
      "nav_menu": {},
      "number_sections": false,
      "sideBar": true,
      "skip_h1_title": true,
      "title_cell": "Índice",
      "title_sidebar": "Conteúdo",
      "toc_cell": false,
      "toc_position": {},
      "toc_section_display": true,
      "toc_window_display": false
    },
    "varInspector": {
      "cols": {
        "lenName": 16,
        "lenType": 16,
        "lenVar": 40
      },
      "kernels_config": {
        "python": {
          "delete_cmd_postfix": "",
          "delete_cmd_prefix": "del ",
          "library": "var_list.py",
          "varRefreshCmd": "print(var_dic_list())"
        },
        "r": {
          "delete_cmd_postfix": ") ",
          "delete_cmd_prefix": "rm(",
          "library": "var_list.r",
          "varRefreshCmd": "cat(var_dic_list()) "
        }
      },
      "types_to_exclude": [
        "module",
        "function",
        "builtin_function_or_method",
        "instance",
        "_Feature"
      ],
      "window_display": false
    }
  },
  "nbformat": 4,
  "nbformat_minor": 0
}

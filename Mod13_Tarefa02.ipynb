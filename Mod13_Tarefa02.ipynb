{
 "cells": [
  {
   "cell_type": "markdown",
   "metadata": {},
   "source": [
    "# EBAC - Regressão II - regressão múltipla\n",
    "\n",
    "## Tarefa I"
   ]
  },
  {
   "cell_type": "markdown",
   "metadata": {},
   "source": [
    "#### Previsão de renda II\n",
    "\n",
    "Vamos continuar trabalhando com a base 'previsao_de_renda.csv', que é a base do seu próximo projeto. Vamos usar os recursos que vimos até aqui nesta base.\n",
    "\n",
    "|variavel|descrição|\n",
    "|-|-|\n",
    "|data_ref                | Data de referência de coleta das variáveis |\n",
    "|index                   | Código de identificação do cliente|\n",
    "|sexo                    | Sexo do cliente|\n",
    "|posse_de_veiculo        | Indica se o cliente possui veículo|\n",
    "|posse_de_imovel         | Indica se o cliente possui imóvel|\n",
    "|qtd_filhos              | Quantidade de filhos do cliente|\n",
    "|tipo_renda              | Tipo de renda do cliente|\n",
    "|educacao                | Grau de instrução do cliente|\n",
    "|estado_civil            | Estado civil do cliente|\n",
    "|tipo_residencia         | Tipo de residência do cliente (própria, alugada etc)|\n",
    "|idade                   | Idade do cliente|\n",
    "|tempo_emprego           | Tempo no emprego atual|\n",
    "|qt_pessoas_residencia   | Quantidade de pessoas que moram na residência|\n",
    "|renda                   | Renda em reais|"
   ]
  },
  {
   "cell_type": "code",
   "execution_count": 19,
   "metadata": {},
   "outputs": [],
   "source": [
    "import pandas as pd\n",
    "import statsmodels.api as sm\n",
    "import patsy as pt\n",
    "import numpy as np\n",
    "\n",
    "from sklearn.linear_model import Ridge\n",
    "from sklearn.metrics import r2_score\n",
    "from sklearn.model_selection import train_test_split\n",
    "from sklearn.linear_model import Lasso\n",
    "from sklearn.tree import DecisionTreeRegressor\n",
    "\n",
    "\n"
   ]
  },
  {
   "cell_type": "code",
   "execution_count": 20,
   "metadata": {},
   "outputs": [],
   "source": [
    "df = pd.read_csv('previsao_de_renda.csv')"
   ]
  },
  {
   "cell_type": "code",
   "execution_count": 21,
   "metadata": {},
   "outputs": [
    {
     "name": "stdout",
     "output_type": "stream",
     "text": [
      "<class 'pandas.core.frame.DataFrame'>\n",
      "RangeIndex: 15000 entries, 0 to 14999\n",
      "Data columns (total 16 columns):\n",
      " #   Column                 Non-Null Count  Dtype  \n",
      "---  ------                 --------------  -----  \n",
      " 0   Unnamed: 0             15000 non-null  int64  \n",
      " 1   data_ref               15000 non-null  object \n",
      " 2   index                  15000 non-null  int64  \n",
      " 3   sexo                   15000 non-null  object \n",
      " 4   posse_de_veiculo       15000 non-null  bool   \n",
      " 5   posse_de_imovel        15000 non-null  bool   \n",
      " 6   qtd_filhos             15000 non-null  int64  \n",
      " 7   tipo_renda             15000 non-null  object \n",
      " 8   educacao               15000 non-null  object \n",
      " 9   estado_civil           15000 non-null  object \n",
      " 10  tipo_residencia        15000 non-null  object \n",
      " 11  idade                  15000 non-null  int64  \n",
      " 12  tempo_emprego          12466 non-null  float64\n",
      " 13  qt_pessoas_residencia  15000 non-null  float64\n",
      " 14  mau                    15000 non-null  bool   \n",
      " 15  renda                  15000 non-null  float64\n",
      "dtypes: bool(3), float64(3), int64(4), object(6)\n",
      "memory usage: 1.5+ MB\n"
     ]
    }
   ],
   "source": [
    "df.info()"
   ]
  },
  {
   "cell_type": "markdown",
   "metadata": {},
   "source": [
    "1. Separe a base em treinamento e teste (25% para teste, 75% para treinamento).\n",
    "2. Rode uma regularização *ridge* com alpha = [0, 0.001, 0.005, 0.01, 0.05, 0.1] e avalie o $R^2$ na base de testes. Qual o melhor modelo?\n",
    "3. Faça o mesmo que no passo 2, com uma regressão *LASSO*. Qual método chega a um melhor resultado?\n",
    "4. Rode um modelo *stepwise*. Avalie o $R^2$ na vase de testes. Qual o melhor resultado?\n",
    "5. Compare os parâmetros e avalie eventuais diferenças. Qual modelo você acha o melhor de todos?\n",
    "6. Partindo dos modelos que você ajustou, tente melhorar o $R^2$ na base de testes. Use a criatividade, veja se consegue inserir alguma transformação ou combinação de variáveis.\n",
    "7. Ajuste uma árvore de regressão e veja se consegue um $R^2$ melhor com ela."
   ]
  },
  {
   "cell_type": "code",
   "execution_count": 22,
   "metadata": {},
   "outputs": [
    {
     "name": "stdout",
     "output_type": "stream",
     "text": [
      "<class 'pandas.core.frame.DataFrame'>\n",
      "RangeIndex: 15000 entries, 0 to 14999\n",
      "Data columns (total 16 columns):\n",
      " #   Column                 Non-Null Count  Dtype  \n",
      "---  ------                 --------------  -----  \n",
      " 0   Unnamed: 0             15000 non-null  int64  \n",
      " 1   data_ref               15000 non-null  object \n",
      " 2   index                  15000 non-null  int64  \n",
      " 3   sexo                   15000 non-null  object \n",
      " 4   posse_de_veiculo       15000 non-null  int32  \n",
      " 5   posse_de_imovel        15000 non-null  int32  \n",
      " 6   qtd_filhos             15000 non-null  int64  \n",
      " 7   tipo_renda             15000 non-null  object \n",
      " 8   educacao               15000 non-null  object \n",
      " 9   estado_civil           15000 non-null  object \n",
      " 10  tipo_residencia        15000 non-null  object \n",
      " 11  idade                  15000 non-null  int64  \n",
      " 12  tempo_emprego          12466 non-null  float64\n",
      " 13  qt_pessoas_residencia  15000 non-null  float64\n",
      " 14  mau                    15000 non-null  int32  \n",
      " 15  renda                  15000 non-null  float64\n",
      "dtypes: float64(3), int32(3), int64(4), object(6)\n",
      "memory usage: 1.7+ MB\n",
      "None\n"
     ]
    }
   ],
   "source": [
    "# Listar todas as colunas booleanas\n",
    "bool_columns = df.select_dtypes(include='bool').columns\n",
    "\n",
    "# Converter as colunas booleanas para 0s e 1s\n",
    "df[bool_columns] = df[bool_columns].astype(int)\n",
    "\n",
    "# Verificar o novo DataFrame para garantir que as colunas booleanas foram convertidas\n",
    "print(df.info())"
   ]
  },
  {
   "cell_type": "code",
   "execution_count": 32,
   "metadata": {},
   "outputs": [],
   "source": [
    "df = pd.get_dummies(df, drop_first=True)\n",
    "columns_list = ['posse_de_veiculo', 'posse_de_imovel', 'qtd_filhos', 'idade', 'tempo_emprego', 'qt_pessoas_residencia', 'mau', 'log_renda', 'sexo_M', 'tipo_renda_Bolsista', 'tipo_renda_Empresário', 'tipo_renda_Pensionista', 'tipo_renda_Servidor público', 'educacao_Pós graduação', 'educacao_Secundário', 'educacao_Superior completo', 'educacao_Superior incompleto', 'estado_civil_Separado', 'estado_civil_Solteiro', 'estado_civil_União', 'estado_civil_Viúvo', 'tipo_residencia_Casa', 'tipo_residencia_Com os pais', 'tipo_residencia_Comunitário', 'tipo_residencia_Estúdio', 'tipo_residencia_Governamental']\n",
    "\n",
    "X = df[['posse_de_veiculo', 'posse_de_imovel', 'qtd_filhos', 'idade', 'tempo_emprego', 'qt_pessoas_residencia', 'mau', 'sexo_M', 'tipo_renda_Bolsista', 'tipo_renda_Empresário', 'tipo_renda_Pensionista', 'tipo_renda_Servidor público', 'educacao_Pós graduação', 'educacao_Secundário', 'educacao_Superior completo', 'educacao_Superior incompleto', 'estado_civil_Separado', 'estado_civil_Solteiro', 'estado_civil_União', 'estado_civil_Viúvo', 'tipo_residencia_Casa', 'tipo_residencia_Com os pais', 'tipo_residencia_Comunitário', 'tipo_residencia_Estúdio', 'tipo_residencia_Governamental']] # Features\n",
    "y = df['renda']  # Target variable\n",
    "\n",
    "# Split the data\n",
    "X_train, X_test, y_train, y_test = train_test_split(X, y, test_size=0.25, random_state=42)"
   ]
  },
  {
   "cell_type": "code",
   "execution_count": 33,
   "metadata": {},
   "outputs": [],
   "source": [
    "mean_tempo_emprego = df['tempo_emprego'].mean()\n",
    "\n",
    "df['tempo_emprego'].fillna(mean_tempo_emprego, inplace=True)\n",
    "df = pd.get_dummies(df,drop_first=True)\n",
    "df=df.astype(int)"
   ]
  },
  {
   "cell_type": "code",
   "execution_count": 34,
   "metadata": {},
   "outputs": [
    {
     "data": {
      "text/plain": [
       "Unnamed: 0                       0\n",
       "index                            0\n",
       "posse_de_veiculo                 0\n",
       "posse_de_imovel                  0\n",
       "qtd_filhos                       0\n",
       "idade                            0\n",
       "tempo_emprego                    0\n",
       "qt_pessoas_residencia            0\n",
       "mau                              0\n",
       "renda                            0\n",
       "data_ref_2015-02-01              0\n",
       "data_ref_2015-03-01              0\n",
       "data_ref_2015-04-01              0\n",
       "data_ref_2015-05-01              0\n",
       "data_ref_2015-06-01              0\n",
       "data_ref_2015-07-01              0\n",
       "data_ref_2015-08-01              0\n",
       "data_ref_2015-09-01              0\n",
       "data_ref_2015-10-01              0\n",
       "data_ref_2015-11-01              0\n",
       "data_ref_2015-12-01              0\n",
       "data_ref_2016-01-01              0\n",
       "data_ref_2016-02-01              0\n",
       "data_ref_2016-03-01              0\n",
       "sexo_M                           0\n",
       "tipo_renda_Bolsista              0\n",
       "tipo_renda_Empresário            0\n",
       "tipo_renda_Pensionista           0\n",
       "tipo_renda_Servidor público      0\n",
       "educacao_Pós graduação           0\n",
       "educacao_Secundário              0\n",
       "educacao_Superior completo       0\n",
       "educacao_Superior incompleto     0\n",
       "estado_civil_Separado            0\n",
       "estado_civil_Solteiro            0\n",
       "estado_civil_União               0\n",
       "estado_civil_Viúvo               0\n",
       "tipo_residencia_Casa             0\n",
       "tipo_residencia_Com os pais      0\n",
       "tipo_residencia_Comunitário      0\n",
       "tipo_residencia_Estúdio          0\n",
       "tipo_residencia_Governamental    0\n",
       "dtype: int64"
      ]
     },
     "execution_count": 34,
     "metadata": {},
     "output_type": "execute_result"
    }
   ],
   "source": [
    "df.isna().sum()"
   ]
  },
  {
   "cell_type": "code",
   "execution_count": 35,
   "metadata": {},
   "outputs": [
    {
     "name": "stdout",
     "output_type": "stream",
     "text": [
      "Best Ridge model alpha: 0.1, R^2: 0.2353983762009274\n"
     ]
    }
   ],
   "source": [
    "alphas = [0, 0.001, 0.005, 0.01, 0.05, 0.1]\n",
    "best_alpha = None\n",
    "best_r2 = float('-inf')\n",
    "\n",
    "for alpha in alphas:\n",
    "    ridge_model = Ridge(alpha=alpha)\n",
    "    ridge_model.fit(X_train, y_train)\n",
    "    y_pred = ridge_model.predict(X_test)\n",
    "    r2 = r2_score(y_test, y_pred)\n",
    "    \n",
    "    if r2 > best_r2:\n",
    "        best_r2 = r2\n",
    "        best_alpha = alpha\n",
    "\n",
    "print(f\"Best Ridge model alpha: {best_alpha}, R^2: {best_r2}\")"
   ]
  },
  {
   "cell_type": "code",
   "execution_count": 37,
   "metadata": {},
   "outputs": [
    {
     "name": "stderr",
     "output_type": "stream",
     "text": [
      "c:\\Users\\coimb\\AppData\\Local\\Programs\\Python\\Python310\\lib\\site-packages\\sklearn\\base.py:1474: UserWarning: With alpha=0, this algorithm does not converge well. You are advised to use the LinearRegression estimator\n",
      "  return fit_method(estimator, *args, **kwargs)\n",
      "c:\\Users\\coimb\\AppData\\Local\\Programs\\Python\\Python310\\lib\\site-packages\\sklearn\\linear_model\\_coordinate_descent.py:678: UserWarning: Coordinate descent with no regularization may lead to unexpected results and is discouraged.\n",
      "  model = cd_fast.enet_coordinate_descent(\n",
      "c:\\Users\\coimb\\AppData\\Local\\Programs\\Python\\Python310\\lib\\site-packages\\sklearn\\linear_model\\_coordinate_descent.py:678: ConvergenceWarning: Objective did not converge. You might want to increase the number of iterations, check the scale of the features or consider increasing regularisation. Duality gap: 9.326e+10, tolerance: 2.368e+07 Linear regression models with null weight for the l1 regularization term are more efficiently fitted using one of the solvers implemented in sklearn.linear_model.Ridge/RidgeCV instead.\n",
      "  model = cd_fast.enet_coordinate_descent(\n",
      "c:\\Users\\coimb\\AppData\\Local\\Programs\\Python\\Python310\\lib\\site-packages\\sklearn\\linear_model\\_coordinate_descent.py:678: ConvergenceWarning: Objective did not converge. You might want to increase the number of iterations, check the scale of the features or consider increasing regularisation. Duality gap: 9.183e+10, tolerance: 2.368e+07\n",
      "  model = cd_fast.enet_coordinate_descent(\n",
      "c:\\Users\\coimb\\AppData\\Local\\Programs\\Python\\Python310\\lib\\site-packages\\sklearn\\linear_model\\_coordinate_descent.py:678: ConvergenceWarning: Objective did not converge. You might want to increase the number of iterations, check the scale of the features or consider increasing regularisation. Duality gap: 8.632e+10, tolerance: 2.368e+07\n",
      "  model = cd_fast.enet_coordinate_descent(\n",
      "c:\\Users\\coimb\\AppData\\Local\\Programs\\Python\\Python310\\lib\\site-packages\\sklearn\\linear_model\\_coordinate_descent.py:678: ConvergenceWarning: Objective did not converge. You might want to increase the number of iterations, check the scale of the features or consider increasing regularisation. Duality gap: 7.983e+10, tolerance: 2.368e+07\n",
      "  model = cd_fast.enet_coordinate_descent(\n",
      "c:\\Users\\coimb\\AppData\\Local\\Programs\\Python\\Python310\\lib\\site-packages\\sklearn\\linear_model\\_coordinate_descent.py:678: ConvergenceWarning: Objective did not converge. You might want to increase the number of iterations, check the scale of the features or consider increasing regularisation. Duality gap: 4.100e+10, tolerance: 2.368e+07\n",
      "  model = cd_fast.enet_coordinate_descent(\n"
     ]
    },
    {
     "name": "stdout",
     "output_type": "stream",
     "text": [
      "Best LASSO model alpha: 0.1, R^2: 0.23543631075005023\n"
     ]
    },
    {
     "name": "stderr",
     "output_type": "stream",
     "text": [
      "c:\\Users\\coimb\\AppData\\Local\\Programs\\Python\\Python310\\lib\\site-packages\\sklearn\\linear_model\\_coordinate_descent.py:678: ConvergenceWarning: Objective did not converge. You might want to increase the number of iterations, check the scale of the features or consider increasing regularisation. Duality gap: 1.495e+10, tolerance: 2.368e+07\n",
      "  model = cd_fast.enet_coordinate_descent(\n"
     ]
    }
   ],
   "source": [
    "best_alpha_lasso = None\n",
    "best_r2_lasso = float('-inf')\n",
    "\n",
    "for alpha in alphas:\n",
    "    lasso_model = Lasso(alpha=alpha)\n",
    "    lasso_model.fit(X_train, y_train)\n",
    "    y_pred_lasso = lasso_model.predict(X_test)\n",
    "    r2_lasso = r2_score(y_test, y_pred_lasso)\n",
    "    \n",
    "    if r2_lasso > best_r2_lasso:\n",
    "        best_r2_lasso = r2_lasso\n",
    "        best_alpha_lasso = alpha\n",
    "\n",
    "print(f\"Best LASSO model alpha: {best_alpha_lasso}, R^2: {best_r2_lasso}\");\n"
   ]
  },
  {
   "cell_type": "code",
   "execution_count": 39,
   "metadata": {},
   "outputs": [
    {
     "name": "stdout",
     "output_type": "stream",
     "text": [
      "                                 OLS Regression Results                                \n",
      "=======================================================================================\n",
      "Dep. Variable:                  renda   R-squared (uncentered):                -603.442\n",
      "Model:                            OLS   Adj. R-squared (uncentered):           -603.926\n",
      "Method:                 Least Squares   F-statistic:                             -1247.\n",
      "Date:                Thu, 26 Sep 2024   Prob (F-statistic):                        1.00\n",
      "Time:                        01:13:02   Log-Likelihood:                     -1.0948e+05\n",
      "No. Observations:               11250   AIC:                                  2.190e+05\n",
      "Df Residuals:                   11241   BIC:                                  2.190e+05\n",
      "Df Model:                           9                                                  \n",
      "Covariance Type:            nonrobust                                                  \n",
      "===============================================================================================\n",
      "                                  coef    std err          t      P>|t|      [0.025      0.975]\n",
      "-----------------------------------------------------------------------------------------------\n",
      "posse_de_imovel               413.4377     81.295      5.086      0.000     254.086     572.790\n",
      "idade                          27.5225      2.310     11.913      0.000      22.994      32.051\n",
      "tempo_emprego                 290.4618      6.646     43.707      0.000     277.435     303.489\n",
      "sexo_M                       2283.5920     81.420     28.047      0.000    2123.994    2443.190\n",
      "tipo_renda_Empresário         967.4319     96.945      9.979      0.000     777.402    1157.462\n",
      "tipo_renda_Pensionista       -820.6729    125.969     -6.515      0.000   -1067.595    -573.751\n",
      "tipo_renda_Servidor público   545.1716    142.186      3.834      0.000     266.462     823.881\n",
      "educacao_Pós graduação       2686.0604   1132.822      2.371      0.018     465.530    4906.591\n",
      "educacao_Superior completo    495.3731     79.990      6.193      0.000     338.579     652.167\n",
      "==============================================================================\n",
      "Omnibus:                     9251.921   Durbin-Watson:                   2.002\n",
      "Prob(Omnibus):                  0.000   Jarque-Bera (JB):           435480.704\n",
      "Skew:                           3.641   Prob(JB):                         0.00\n",
      "Kurtosis:                      32.597   Cond. No.                     1.35e+03\n",
      "==============================================================================\n",
      "\n",
      "Notes:\n",
      "[1] R² is computed without centering (uncentered) since the model does not contain a constant.\n",
      "[2] Standard Errors assume that the covariance matrix of the errors is correctly specified.\n",
      "[3] The condition number is large, 1.35e+03. This might indicate that there are\n",
      "strong multicollinearity or other numerical problems.\n"
     ]
    }
   ],
   "source": [
    "# Function for backward elimination\n",
    "def backward_elimination(X, y, significance_level=0.05):\n",
    "    X = sm.add_constant(X)  # Add constant term\n",
    "    model = sm.OLS(y, X).fit()\n",
    "    \n",
    "    while True:\n",
    "        p_values = model.pvalues\n",
    "        max_p_value = max(p_values)\n",
    "        \n",
    "        if max_p_value > significance_level:\n",
    "            excluded_feature = p_values.idxmax()\n",
    "            X = X.drop(columns=[excluded_feature])\n",
    "            model = sm.OLS(y, X).fit()\n",
    "        else:\n",
    "            break\n",
    "    \n",
    "    return model\n",
    "\n",
    "final_model = backward_elimination(X_train, y_train)\n",
    "print(final_model.summary())"
   ]
  },
  {
   "cell_type": "code",
   "execution_count": 40,
   "metadata": {},
   "outputs": [
    {
     "name": "stdout",
     "output_type": "stream",
     "text": [
      "          Ridge        LASSO\n",
      "0      2.727010     2.453407\n",
      "1    386.263571   385.975822\n",
      "2   -608.797584  -435.957194\n",
      "3     31.310550    31.295576\n",
      "4    290.896917   290.855086\n",
      "5    671.377619   498.610152\n",
      "6    325.249677   325.534907\n",
      "7   2286.452678  2285.838213\n",
      "8   -643.731254  -378.395510\n",
      "9    981.846133   981.408482\n",
      "10  -843.186953  -843.292671\n",
      "11   567.445308   566.096085\n",
      "12  2890.547836  2796.985461\n",
      "13   242.999485   214.193921\n",
      "14   748.620482   719.249483\n",
      "15   250.231609   219.149538\n",
      "16   641.331526   466.340067\n",
      "17   649.903420   478.484221\n",
      "18  -126.493509  -126.471988\n",
      "19   599.401842   424.398216\n",
      "20  -575.473310  -537.813579\n",
      "21  -747.839740  -708.418910\n",
      "22 -1162.781894 -1101.663678\n",
      "23 -1274.959434 -1222.980281\n",
      "24 -1014.138164  -974.014562\n"
     ]
    }
   ],
   "source": [
    "# Ridge coefficients\n",
    "ridge_coeffs = ridge_model.coef_\n",
    "\n",
    "# LASSO coefficients\n",
    "lasso_coeffs = lasso_model.coef_\n",
    "\n",
    "# Summary of coefficients\n",
    "comparison = pd.DataFrame({\n",
    "    'Ridge': ridge_coeffs,\n",
    "    'LASSO': lasso_coeffs\n",
    "})\n",
    "print(comparison)"
   ]
  },
  {
   "cell_type": "code",
   "execution_count": 41,
   "metadata": {},
   "outputs": [
    {
     "name": "stdout",
     "output_type": "stream",
     "text": [
      "Decision Tree R^2: 0.20684624114446626\n"
     ]
    }
   ],
   "source": [
    "tree_model = DecisionTreeRegressor()\n",
    "tree_model.fit(X_train, y_train)\n",
    "y_pred_tree = tree_model.predict(X_test)\n",
    "r2_tree = r2_score(y_test, y_pred_tree)\n",
    "\n",
    "print(f\"Decision Tree R^2: {r2_tree}\")"
   ]
  }
 ],
 "metadata": {
  "kernelspec": {
   "display_name": "Python 3",
   "language": "python",
   "name": "python3"
  },
  "language_info": {
   "codemirror_mode": {
    "name": "ipython",
    "version": 3
   },
   "file_extension": ".py",
   "mimetype": "text/x-python",
   "name": "python",
   "nbconvert_exporter": "python",
   "pygments_lexer": "ipython3",
   "version": "3.10.4"
  }
 },
 "nbformat": 4,
 "nbformat_minor": 4
}

{
 "cells": [
  {
   "cell_type": "markdown",
   "metadata": {},
   "source": [
    "# Módulo 5 Tarefa 1\n",
    "## Base de nascidos vivos do DataSUS\n",
    "O DataSUS disponibiliza diversos arquivos de dados com relação a seus segurados, conforme a [lei da transparência de informações públicas](https://www.sisgov.com/transparencia-acesso-informacao/#:~:text=A%20Lei%20da%20Transpar%C3%AAncia%20(LC,em%20um%20site%20na%20internet.). \n",
    "\n",
    "Essas informações podem ser obtidas pela internet [aqui](http://www2.datasus.gov.br/DATASUS/index.php?area=0901&item=1). Como o processo de obtenção desses arquivos foge um pouco do nosso escopo, deixamos o arquivo SINASC_RO_2019.csv` já como vai ser encontrado no DataSUS. O dicionário de dados está no arquivo `estrutura_sinasc_para_CD.pdf` (o nome do arquivo tal qual no portal do DataSUS).\n",
    "\n",
    "### Nosso objetivo\n",
    "Queremos deixar uma base organizada para podermos estudar a relação entre partos com risco para o bebê e algumas condições como tempo de parto, consultas de pré-natal etc.\n",
    "\n",
    "#### Preparação da base\n",
    "1. Carregue a base 'SINASC_RO_2019.csv'. Conte o número de registros e o número de registros não duplicados da base. Dica: você aprendeu um método que remove duplicados, encadeie este método com um outro método que conta o número de linhas. **Há linhas duplicadas?**  \n",
    "\n",
    "2. Conte o número de valores *missing* por variável.  \n",
    "\n",
    "3. Ok, no item anterior você deve ter achado pouco prático ler a informação de tantas variáveis, muitas delas nem devem ser interesantes. Então crie uma seleção dessa base somente com as colunas que interessam. São elas:\n",
    "` \n",
    "['LOCNASC', 'IDADEMAE', 'ESTCIVMAE', 'ESCMAE', 'QTDFILVIVO', \n",
    "    'GESTACAO', 'GRAVIDEZ', 'CONSULTAS', 'APGAR5'] \n",
    "`\n",
    "Refaça a contagem de valores *missings*.  \n",
    "\n",
    "4. Apgar é uma *nota* que o pediatra dá ao bebê quando nasce de acordo com algumas características associadas principalmente à respiração. Apgar 1 e Apgar 5 são as notas 1 e 5 minutos do nascimento. Apgar5 será a nossa variável de interesse principal. Então remova todos os registros com Apgar5 não preenchido. Para esta seleção, conte novamente o número de linhas e o número de *missings*.  \n",
    "\n",
    "5. observe que as variáveis `['ESTCIVMAE', 'CONSULTAS']` possuem o código `9`, que significa *ignorado*. Vamos assumir que o não preenchido é o mesmo que o código `9`.<br>\n",
    "6. Substitua os valores faltantes da quantitativa (`QTDFILVIVO`) por zero.  \n",
    "7. Das restantes, decida que valore te parece mais adequado (um 'não preenchido' ou um valor 'mais provável' como no item anterior) e preencha. Justifique. Lembre-se de que tratamento de dados é trabalho do cientista, e que estamos tomando decisões a todo o momento - não há necessariamente certo e errado aqui.  \n",
    "8. O Apgar possui uma classificação indicando se o bebê passou por asfixia:\n",
    "- Entre 8 e 10 está em uma faixa 'normal'. \n",
    "- Entre 6 e 7, significa que o recém-nascido passou por 'asfixia leve'. \n",
    "- Entre 4 e 5 significa 'asfixia moderada'.\n",
    "- Entre 0 e 3 significa 'asfixia severa'.  \n",
    "\n",
    "Crie uma categorização dessa variável com essa codificação e calcule as frequências dessa categorização.  \n",
    "<br>\n",
    "9. Renomeie as variáveis para que fiquem no *snake case*, ou seja, em letras minúsculas, com um *underscore* entre as palávras. Dica: repare que se você não quiser criar um *dataframe* novo, você vai precisar usar a opção `inplace = True`."
   ]
  },
  {
   "cell_type": "code",
   "execution_count": 63,
   "metadata": {},
   "outputs": [
    {
     "name": "stdout",
     "output_type": "stream",
     "text": [
      "(27028, 69)\n"
     ]
    },
    {
     "data": {
      "text/plain": [
       "(27028, 69)"
      ]
     },
     "execution_count": 63,
     "metadata": {},
     "output_type": "execute_result"
    }
   ],
   "source": [
    "import pandas as pd\n",
    "import requests\n",
    "\n",
    "# 1) seu código aqui\n",
    "sinasc = pd.read_csv('SINASC_RO_2019.csv',na_values='')\n",
    "print(sinasc.shape)\n",
    "sinasc.drop_duplicates().shape\n",
    "# Não há duplicados"
   ]
  },
  {
   "cell_type": "code",
   "execution_count": 52,
   "metadata": {},
   "outputs": [
    {
     "data": {
      "text/plain": [
       "{'ORIGEM': 0,\n",
       " 'CODESTAB': 115,\n",
       " 'CODMUNNASC': 0,\n",
       " 'LOCNASC': 0,\n",
       " 'IDADEMAE': 0,\n",
       " 'ESTCIVMAE': 317,\n",
       " 'ESCMAE': 312,\n",
       " 'CODOCUPMAE': 2907,\n",
       " 'QTDFILVIVO': 1573,\n",
       " 'QTDFILMORT': 2098,\n",
       " 'CODMUNRES': 0,\n",
       " 'GESTACAO': 1232,\n",
       " 'GRAVIDEZ': 79,\n",
       " 'PARTO': 49,\n",
       " 'CONSULTAS': 0,\n",
       " 'DTNASC': 0,\n",
       " 'HORANASC': 21,\n",
       " 'SEXO': 4,\n",
       " 'APGAR1': 96,\n",
       " 'APGAR5': 103,\n",
       " 'RACACOR': 647,\n",
       " 'PESO': 0,\n",
       " 'IDANOMAL': 591,\n",
       " 'DTCADASTRO': 0,\n",
       " 'CODANOMAL': 26814,\n",
       " 'NUMEROLOTE': 0,\n",
       " 'VERSAOSIST': 0,\n",
       " 'DTRECEBIM': 0,\n",
       " 'DIFDATA': 0,\n",
       " 'DTRECORIGA': 27028,\n",
       " 'NATURALMAE': 298,\n",
       " 'CODMUNNATU': 298,\n",
       " 'CODUFNATU': 298,\n",
       " 'ESCMAE2010': 249,\n",
       " 'SERIESCMAE': 12710,\n",
       " 'DTNASCMAE': 40,\n",
       " 'RACACORMAE': 661,\n",
       " 'QTDGESTANT': 1212,\n",
       " 'QTDPARTNOR': 1879,\n",
       " 'QTDPARTCES': 1791,\n",
       " 'IDADEPAI': 19421,\n",
       " 'DTULTMENST': 10072,\n",
       " 'SEMAGESTAC': 1238,\n",
       " 'TPMETESTIM': 1238,\n",
       " 'CONSPRENAT': 930,\n",
       " 'MESPRENAT': 2867,\n",
       " 'TPAPRESENT': 265,\n",
       " 'STTRABPART': 947,\n",
       " 'STCESPARTO': 747,\n",
       " 'TPNASCASSI': 61,\n",
       " 'TPFUNCRESP': 67,\n",
       " 'TPDOCRESP': 14,\n",
       " 'DTDECLARAC': 52,\n",
       " 'ESCMAEAGR1': 249,\n",
       " 'STDNEPIDEM': 0,\n",
       " 'STDNNOVA': 0,\n",
       " 'CODPAISRES': 0,\n",
       " 'TPROBSON': 0,\n",
       " 'PARIDADE': 0,\n",
       " 'KOTELCHUCK': 0,\n",
       " 'CONTADOR': 0,\n",
       " 'munResStatus': 0,\n",
       " 'munResTipo': 0,\n",
       " 'munResNome': 0,\n",
       " 'munResUf': 0,\n",
       " 'munResLat': 1,\n",
       " 'munResLon': 1,\n",
       " 'munResAlt': 1,\n",
       " 'munResArea': 1}"
      ]
     },
     "execution_count": 52,
     "metadata": {},
     "output_type": "execute_result"
    }
   ],
   "source": [
    "# 2) seu código aqui\n",
    "#Verifica o número ds missing values em cada coluna\n",
    "def missing_verifier() -> dict:\n",
    "    \"\"\"\n",
    "    Função que verifica coluna a coluna a quantidade de missing values.\n",
    "    \n",
    "    Argumentos:\n",
    "        N/A.\n",
    "    Retorno:\n",
    "        n_nas: Dicionário com as colunas do DataFrame e seus respectivos números de NAs.\n",
    "    \"\"\"\n",
    "    lista_nas = []\n",
    "    colunas = []\n",
    "    for i in sinasc.columns:\n",
    "        lista_nas.append(sinasc[i].isna().sum())\n",
    "        colunas.append(i)\n",
    "    n_nas = dict(zip(colunas,lista_nas))    \n",
    "    return n_nas\n",
    "\n",
    "verificadas = missing_verifier()\n",
    "verificadas\n"
   ]
  },
  {
   "cell_type": "code",
   "execution_count": 53,
   "metadata": {},
   "outputs": [
    {
     "data": {
      "text/plain": [
       "{'LOCNASC': 0,\n",
       " 'IDADEMAE': 0,\n",
       " 'ESTCIVMAE': 317,\n",
       " 'ESCMAE': 312,\n",
       " 'QTDFILVIVO': 1573,\n",
       " 'GESTACAO': 1232,\n",
       " 'GRAVIDEZ': 79,\n",
       " 'CONSULTAS': 0,\n",
       " 'APGAR5': 103}"
      ]
     },
     "execution_count": 53,
     "metadata": {},
     "output_type": "execute_result"
    }
   ],
   "source": [
    "# 3) seu código aqui\n",
    "#Verifica o número ds missing values em cada coluna\n",
    "def missing_verifier(lista_importatntes) -> dict:\n",
    "    \"\"\"\n",
    "    Função que verifica coluna a coluna a quantidade de missing values.\n",
    "    \n",
    "    Argumentos:\n",
    "        lista_importatntes: Lista com as colunas mais importatntes.\n",
    "    Retorno:\n",
    "        n_nas: Dicionário com as colunas do DataFrame e seus respectivos números de NAs.\n",
    "    \"\"\"\n",
    "    lista_nas = []\n",
    "    colunas = []\n",
    "    for i in lista_importatntes:\n",
    "        lista_nas.append(sinasc[i].isna().sum())\n",
    "        colunas.append(i)\n",
    "    n_nas = dict(zip(colunas,lista_nas))    \n",
    "    return n_nas\n",
    "lista = ['LOCNASC', 'IDADEMAE', 'ESTCIVMAE', 'ESCMAE', 'QTDFILVIVO', 'GESTACAO', 'GRAVIDEZ', 'CONSULTAS', 'APGAR5'] \n",
    "verificadas = missing_verifier(lista)\n",
    "verificadas"
   ]
  },
  {
   "cell_type": "code",
   "execution_count": 67,
   "metadata": {},
   "outputs": [
    {
     "name": "stdout",
     "output_type": "stream",
     "text": [
      "{'LOCNASC': 0, 'IDADEMAE': 0, 'ESTCIVMAE': 317, 'ESCMAE': 312, 'QTDFILVIVO': 1573, 'GESTACAO': 1232, 'GRAVIDEZ': 79, 'CONSULTAS': 0, 'APGAR5': 103}\n",
      "{'LOCNASC': 0, 'IDADEMAE': 0, 'ESTCIVMAE': 317, 'ESCMAE': 312, 'QTDFILVIVO': 1573, 'GESTACAO': 1232, 'GRAVIDEZ': 79, 'CONSULTAS': 0, 'APGAR5': 103}\n"
     ]
    }
   ],
   "source": [
    "# 4) seu código aqui\n",
    "def missing_verifier(lista_importantes,df) -> dict:\n",
    "    \"\"\"\n",
    "    Função que verifica coluna a coluna a quantidade de missing values.\n",
    "    \n",
    "    Argumentos:\n",
    "        lista_importantes: Lista com as colunas mais importatntes.\n",
    "    Retorno:\n",
    "        n_nas: Dicionário com as colunas do DataFrame e seus respectivos números de NAs.\n",
    "    \"\"\"\n",
    "    lista_nas = []\n",
    "    colunas = []\n",
    "    \n",
    "    for i in lista_importantes:\n",
    "        lista_nas.append(df[i].isna().sum())\n",
    "        colunas.append(i)\n",
    "    n_nas = dict(zip(colunas,lista_nas))    \n",
    "    return n_nas\n",
    "\n",
    "\n",
    "\n",
    "lista = ['LOCNASC', 'IDADEMAE', 'ESTCIVMAE', 'ESCMAE', 'QTDFILVIVO', 'GESTACAO', 'GRAVIDEZ', 'CONSULTAS', 'APGAR5'] \n",
    "verificadas = missing_verifier(lista,sinasc)\n",
    "print(verificadas)\n",
    "sinasc['APGAR5'].dropna(inplace=True)\n",
    "verificadas = missing_verifier(lista,sinasc)\n",
    "print(verificadas)\n"
   ]
  },
  {
   "cell_type": "code",
   "execution_count": null,
   "metadata": {},
   "outputs": [],
   "source": [
    "# 5) seu código aqui\n"
   ]
  },
  {
   "cell_type": "code",
   "execution_count": null,
   "metadata": {},
   "outputs": [],
   "source": [
    "# 6) Seu código aqui\n"
   ]
  },
  {
   "cell_type": "code",
   "execution_count": null,
   "metadata": {},
   "outputs": [],
   "source": [
    "# 7) seu código aqui\n"
   ]
  },
  {
   "cell_type": "code",
   "execution_count": null,
   "metadata": {},
   "outputs": [],
   "source": [
    "# 8) seu código aqui\n"
   ]
  },
  {
   "cell_type": "code",
   "execution_count": null,
   "metadata": {},
   "outputs": [],
   "source": [
    "# 9) seu código aqui\n"
   ]
  }
 ],
 "metadata": {
  "kernelspec": {
   "display_name": "Python 3",
   "language": "python",
   "name": "python3"
  },
  "language_info": {
   "codemirror_mode": {
    "name": "ipython",
    "version": 3
   },
   "file_extension": ".py",
   "mimetype": "text/x-python",
   "name": "python",
   "nbconvert_exporter": "python",
   "pygments_lexer": "ipython3",
   "version": "3.10.4"
  }
 },
 "nbformat": 4,
 "nbformat_minor": 4
}

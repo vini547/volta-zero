{
 "cells": [
  {
   "cell_type": "markdown",
   "metadata": {},
   "source": [
    "# Módulo 5 Tarefa 1\n",
    "## Base de nascidos vivos do DataSUS\n",
    "O DataSUS disponibiliza diversos arquivos de dados com relação a seus segurados, conforme a [lei da transparência de informações públicas](https://www.sisgov.com/transparencia-acesso-informacao/#:~:text=A%20Lei%20da%20Transpar%C3%AAncia%20(LC,em%20um%20site%20na%20internet.). \n",
    "\n",
    "Essas informações podem ser obtidas pela internet [aqui](http://www2.datasus.gov.br/DATASUS/index.php?area=0901&item=1). Como o processo de obtenção desses arquivos foge um pouco do nosso escopo, deixamos o arquivo SINASC_RO_2019.csv` já como vai ser encontrado no DataSUS. O dicionário de dados está no arquivo `estrutura_sinasc_para_CD.pdf` (o nome do arquivo tal qual no portal do DataSUS).\n",
    "\n",
    "### Nosso objetivo\n",
    "Queremos deixar uma base organizada para podermos estudar a relação entre partos com risco para o bebê e algumas condições como tempo de parto, consultas de pré-natal etc.\n",
    "\n",
    "#### Preparação da base\n",
    "1. Carregue a base 'SINASC_RO_2019.csv'. Conte o número de registros e o número de registros não duplicados da base. Dica: você aprendeu um método que remove duplicados, encadeie este método com um outro método que conta o número de linhas. **Há linhas duplicadas?**  \n",
    "\n",
    "2. Conte o número de valores *missing* por variável.  \n",
    "\n",
    "3. Ok, no item anterior você deve ter achado pouco prático ler a informação de tantas variáveis, muitas delas nem devem ser interesantes. Então crie uma seleção dessa base somente com as colunas que interessam. São elas:\n",
    "` \n",
    "['LOCNASC', 'IDADEMAE', 'ESTCIVMAE', 'ESCMAE', 'QTDFILVIVO', \n",
    "    'GESTACAO', 'GRAVIDEZ', 'CONSULTAS', 'APGAR5'] \n",
    "`\n",
    "Refaça a contagem de valores *missings*.  \n",
    "\n",
    "4. Apgar é uma *nota* que o pediatra dá ao bebê quando nasce de acordo com algumas características associadas principalmente à respiração. Apgar 1 e Apgar 5 são as notas 1 e 5 minutos do nascimento. Apgar5 será a nossa variável de interesse principal. Então remova todos os registros com Apgar5 não preenchido. Para esta seleção, conte novamente o número de linhas e o número de *missings*.  \n",
    "\n",
    "5. observe que as variáveis `['ESTCIVMAE', 'CONSULTAS']` possuem o código `9`, que significa *ignorado*. Vamos assumir que o não preenchido é o mesmo que o código `9`.<br>\n",
    "6. Substitua os valores faltantes da quantitativa (`QTDFILVIVO`) por zero.  \n",
    "7. Das restantes, decida que valore te parece mais adequado (um 'não preenchido' ou um valor 'mais provável' como no item anterior) e preencha. Justifique. Lembre-se de que tratamento de dados é trabalho do cientista, e que estamos tomando decisões a todo o momento - não há necessariamente certo e errado aqui.  \n",
    "8. O Apgar possui uma classificação indicando se o bebê passou por asfixia:\n",
    "- Entre 8 e 10 está em uma faixa 'normal'. \n",
    "- Entre 6 e 7, significa que o recém-nascido passou por 'asfixia leve'. \n",
    "- Entre 4 e 5 significa 'asfixia moderada'.\n",
    "- Entre 0 e 3 significa 'asfixia severa'.  \n",
    "\n",
    "Crie uma categorização dessa variável com essa codificação e calcule as frequências dessa categorização.  \n",
    "<br>\n",
    "9. Renomeie as variáveis para que fiquem no *snake case*, ou seja, em letras minúsculas, com um *underscore* entre as palávras. Dica: repare que se você não quiser criar um *dataframe* novo, você vai precisar usar a opção `inplace = True`."
   ]
  },
  {
   "cell_type": "code",
   "execution_count": 69,
   "metadata": {},
   "outputs": [
    {
     "name": "stdout",
     "output_type": "stream",
     "text": [
      "Shape: (27028, 69)\n",
      "Shape após drop_duplicates, (27028, 69), continua o mesmo portanto não há duplicados.\n"
     ]
    }
   ],
   "source": [
    "# 1) \n",
    "import pandas as pd\n",
    "import requests\n",
    "\n",
    "sinasc = pd.read_csv('SINASC_RO_2019.csv')\n",
    "print(f'Shape: {sinasc.shape}')\n",
    "\n",
    "sinasc.drop_duplicates().shape\n",
    "print(f'Shape após drop_duplicates, {sinasc.shape}, continua o mesmo portanto não há duplicados.')"
   ]
  },
  {
   "cell_type": "code",
   "execution_count": 25,
   "metadata": {},
   "outputs": [
    {
     "data": {
      "text/plain": [
       "{'ORIGEM': 0,\n",
       " 'CODESTAB': 115,\n",
       " 'CODMUNNASC': 0,\n",
       " 'LOCNASC': 0,\n",
       " 'IDADEMAE': 0,\n",
       " 'ESTCIVMAE': 317,\n",
       " 'ESCMAE': 312,\n",
       " 'CODOCUPMAE': 2907,\n",
       " 'QTDFILVIVO': 1573,\n",
       " 'QTDFILMORT': 2098,\n",
       " 'CODMUNRES': 0,\n",
       " 'GESTACAO': 1232,\n",
       " 'GRAVIDEZ': 79,\n",
       " 'PARTO': 49,\n",
       " 'CONSULTAS': 0,\n",
       " 'DTNASC': 0,\n",
       " 'HORANASC': 21,\n",
       " 'SEXO': 4,\n",
       " 'APGAR1': 96,\n",
       " 'APGAR5': 103,\n",
       " 'RACACOR': 647,\n",
       " 'PESO': 0,\n",
       " 'IDANOMAL': 591,\n",
       " 'DTCADASTRO': 0,\n",
       " 'CODANOMAL': 26814,\n",
       " 'NUMEROLOTE': 0,\n",
       " 'VERSAOSIST': 0,\n",
       " 'DTRECEBIM': 0,\n",
       " 'DIFDATA': 0,\n",
       " 'DTRECORIGA': 27028,\n",
       " 'NATURALMAE': 298,\n",
       " 'CODMUNNATU': 298,\n",
       " 'CODUFNATU': 298,\n",
       " 'ESCMAE2010': 249,\n",
       " 'SERIESCMAE': 12710,\n",
       " 'DTNASCMAE': 40,\n",
       " 'RACACORMAE': 661,\n",
       " 'QTDGESTANT': 1212,\n",
       " 'QTDPARTNOR': 1879,\n",
       " 'QTDPARTCES': 1791,\n",
       " 'IDADEPAI': 19421,\n",
       " 'DTULTMENST': 10072,\n",
       " 'SEMAGESTAC': 1238,\n",
       " 'TPMETESTIM': 1238,\n",
       " 'CONSPRENAT': 930,\n",
       " 'MESPRENAT': 2867,\n",
       " 'TPAPRESENT': 265,\n",
       " 'STTRABPART': 947,\n",
       " 'STCESPARTO': 747,\n",
       " 'TPNASCASSI': 61,\n",
       " 'TPFUNCRESP': 67,\n",
       " 'TPDOCRESP': 14,\n",
       " 'DTDECLARAC': 52,\n",
       " 'ESCMAEAGR1': 249,\n",
       " 'STDNEPIDEM': 0,\n",
       " 'STDNNOVA': 0,\n",
       " 'CODPAISRES': 0,\n",
       " 'TPROBSON': 0,\n",
       " 'PARIDADE': 0,\n",
       " 'KOTELCHUCK': 0,\n",
       " 'CONTADOR': 0,\n",
       " 'munResStatus': 0,\n",
       " 'munResTipo': 0,\n",
       " 'munResNome': 0,\n",
       " 'munResUf': 0,\n",
       " 'munResLat': 1,\n",
       " 'munResLon': 1,\n",
       " 'munResAlt': 1,\n",
       " 'munResArea': 1}"
      ]
     },
     "execution_count": 25,
     "metadata": {},
     "output_type": "execute_result"
    }
   ],
   "source": [
    "# 2) seu código aqui\n",
    "#Verifica o número ds missing values em cada coluna\n",
    "def missing_verifier() -> dict:\n",
    "    \"\"\"\n",
    "    Função que verifica coluna a coluna a quantidade de missing values.\n",
    "    \n",
    "    Argumentos:\n",
    "        N/A.\n",
    "    Retorno:\n",
    "        n_nas: Dicionário com as colunas do DataFrame e seus respectivos números de NAs.\n",
    "    \"\"\"\n",
    "    lista_nas = []\n",
    "    colunas = []\n",
    "    for i in sinasc.columns:\n",
    "        lista_nas.append(sinasc[i].isna().sum())\n",
    "        colunas.append(i)\n",
    "    n_nas = dict(zip(colunas,lista_nas))    \n",
    "    return n_nas\n",
    "\n",
    "verificadas1 = missing_verifier()\n",
    "verificadas1\n"
   ]
  },
  {
   "cell_type": "code",
   "execution_count": 26,
   "metadata": {},
   "outputs": [
    {
     "data": {
      "text/plain": [
       "{'LOCNASC': 0,\n",
       " 'IDADEMAE': 0,\n",
       " 'ESTCIVMAE': 317,\n",
       " 'ESCMAE': 312,\n",
       " 'QTDFILVIVO': 1573,\n",
       " 'GESTACAO': 1232,\n",
       " 'GRAVIDEZ': 79,\n",
       " 'CONSULTAS': 0,\n",
       " 'APGAR5': 103}"
      ]
     },
     "execution_count": 26,
     "metadata": {},
     "output_type": "execute_result"
    }
   ],
   "source": [
    "# 3) \n",
    "#Verifica o número ds missing values em cada coluna\n",
    "def missing_verifier(lista_importatntes) -> dict:\n",
    "    \"\"\"\n",
    "    Função que verifica coluna a coluna a quantidade de missing values.\n",
    "    \n",
    "    Argumentos:\n",
    "        lista_importatntes: Lista com as colunas mais importatntes.\n",
    "    Retorno:\n",
    "        n_nas: Dicionário com as colunas do DataFrame e seus respectivos números de NAs.\n",
    "    \"\"\"\n",
    "    lista_nas = []\n",
    "    colunas = []\n",
    "    for i in lista_importatntes:\n",
    "        lista_nas.append(sinasc[i].isna().sum())\n",
    "        colunas.append(i)\n",
    "    n_nas = dict(zip(colunas,lista_nas))    \n",
    "    return n_nas\n",
    "lista = ['LOCNASC', 'IDADEMAE', 'ESTCIVMAE', 'ESCMAE', 'QTDFILVIVO', 'GESTACAO', 'GRAVIDEZ', 'CONSULTAS', 'APGAR5'] \n",
    "verificadas2 = missing_verifier(lista)\n",
    "verificadas2"
   ]
  },
  {
   "cell_type": "code",
   "execution_count": 62,
   "metadata": {},
   "outputs": [
    {
     "name": "stdout",
     "output_type": "stream",
     "text": [
      "O número de missing values é: 103\n",
      "O número de linhas é: 27028\n",
      "===============================\n",
      "O número de missing values após dropna() é: 0\n",
      "O número de linhas após dropna() é: 26925\n"
     ]
    }
   ],
   "source": [
    "# 4) \n",
    "#Verifica o número ds missing values em cada coluna\n",
    "def missing_verifier(lista,df) -> dict:\n",
    "    \"\"\"\n",
    "    Função que verifica coluna a coluna a quantidade de missing values.\n",
    "    \n",
    "    Argumentos:\n",
    "        lista_importantes: Lista com as colunas mais importatntes.\n",
    "    Retorno:\n",
    "        n_nas: Dicionário com as colunas do DataFrame e seus respectivos números de NAs.\n",
    "    \"\"\"\n",
    "    lista_nas = []\n",
    "    colunas = []\n",
    "    \n",
    "    for i in lista:\n",
    "        lista_nas.append(df[i].isna().sum())\n",
    "        colunas.append(i)\n",
    "    n_nas = dict(zip(colunas,lista_nas))\n",
    "    df.dropna(subset='APGAR5', inplace=True)    \n",
    "    return n_nas\n",
    "\n",
    "lista_importantes = ['LOCNASC', 'IDADEMAE', 'ESTCIVMAE', 'ESCMAE', 'QTDFILVIVO', 'GESTACAO', 'GRAVIDEZ', 'CONSULTAS', 'APGAR5'] \n",
    "\n",
    "nas = sinasc['APGAR5'].isna().sum()\n",
    "linhas = sinasc['APGAR5'].shape\n",
    "print(f'O número de missing values é: {nas}\\nO número de linhas é: {linhas[0]}')\n",
    "\n",
    "verificadas3 = missing_verifier(lista,sinasc)\n",
    "\n",
    "print('===============================')\n",
    "nas = sinasc['APGAR5'].isna().sum()\n",
    "linhas = sinasc['APGAR5'].shape\n",
    "print(f'O número de missing values após dropna() é: {nas}\\nO número de linhas após dropna() é: {linhas[0]}')"
   ]
  },
  {
   "cell_type": "code",
   "execution_count": 112,
   "metadata": {},
   "outputs": [
    {
     "name": "stdout",
     "output_type": "stream",
     "text": [
      "Número de missing values: 315\n",
      "Valores Únicos: \n",
      "ESTCIVMAE\n",
      "2.0    9906\n",
      "1.0    8907\n",
      "5.0    7145\n",
      "4.0     451\n",
      "9.0     144\n",
      "3.0      57\n",
      "Name: count, dtype: int64\n",
      "Número de missing values: 0\n",
      "Valores Únicos: \n",
      "ESTCIVMAE\n",
      "2.0    9906\n",
      "1.0    8907\n",
      "5.0    7145\n",
      "9.0     459\n",
      "4.0     451\n",
      "3.0      57\n",
      "Name: count, dtype: int64\n"
     ]
    }
   ],
   "source": [
    "# 5) Observe que as variáveis `['ESTCIVMAE', 'CONSULTAS']` possuem o código `9`, que significa *ignorado*. Vamos assumir que o não preenchido é o mesmo que o código `9`.\n",
    "\n",
    "colunas_9 = ['ESTCIVMAE', 'CONSULTAS']\n",
    "sinasc = pd.read_csv('SINASC_RO_2019.csv')\n",
    "\n",
    "missing_verifier(lista,sinasc)\n",
    "\n",
    "print(f'Número de missing values: {sinasc[\"ESTCIVMAE\"].isna().sum()}')\n",
    "print(f'Valores Únicos: \\n{sinasc[\"ESTCIVMAE\"].value_counts()}')\n",
    "\n",
    "for i in colunas_9:\n",
    "    sinasc[i].fillna(value=9, inplace=True)\n",
    "\n",
    "print(f'Número de missing values: {sinasc[\"ESTCIVMAE\"].isna().sum()}')\n",
    "print(f'Valores Únicos: \\n{sinasc[\"ESTCIVMAE\"].value_counts()}')\n"
   ]
  },
  {
   "cell_type": "markdown",
   "metadata": {},
   "source": [
    "Repare que o número de ocorrências do valor 9 subiu de 144 para 451."
   ]
  },
  {
   "cell_type": "code",
   "execution_count": 113,
   "metadata": {},
   "outputs": [
    {
     "name": "stdout",
     "output_type": "stream",
     "text": [
      "Número de missing values: 1566\n",
      "Valores Únicos: \n",
      "QTDFILVIVO\n",
      "1.0     9361\n",
      "0.0     9305\n",
      "2.0     4454\n",
      "3.0     1362\n",
      "4.0      475\n",
      "5.0      212\n",
      "6.0      106\n",
      "7.0       41\n",
      "8.0       23\n",
      "9.0        8\n",
      "10.0       6\n",
      "12.0       3\n",
      "11.0       1\n",
      "30.0       1\n",
      "14.0       1\n",
      "Name: count, dtype: int64\n",
      "\n",
      "Número de missing values: 0\n",
      "Valores Únicos: \n",
      "QTDFILVIVO\n",
      "0.0     10871\n",
      "1.0      9361\n",
      "2.0      4454\n",
      "3.0      1362\n",
      "4.0       475\n",
      "5.0       212\n",
      "6.0       106\n",
      "7.0        41\n",
      "8.0        23\n",
      "9.0         8\n",
      "10.0        6\n",
      "12.0        3\n",
      "11.0        1\n",
      "30.0        1\n",
      "14.0        1\n",
      "Name: count, dtype: int64\n"
     ]
    }
   ],
   "source": [
    "# 6) Seu código aqui \n",
    "print(f'Número de missing values: {sinasc[\"QTDFILVIVO\"].isna().sum()}')\n",
    "print(f'Valores Únicos: \\n{sinasc[\"QTDFILVIVO\"].value_counts()}\\n')\n",
    "sinasc['QTDFILVIVO'].fillna(value=0, inplace=True)\n",
    "print(f'Número de missing values: {sinasc[\"QTDFILVIVO\"].isna().sum()}')\n",
    "print(f'Valores Únicos: \\n{sinasc[\"QTDFILVIVO\"].value_counts()}')"
   ]
  },
  {
   "cell_type": "code",
   "execution_count": 119,
   "metadata": {},
   "outputs": [
    {
     "name": "stdout",
     "output_type": "stream",
     "text": [
      "GESTACAO\n",
      "37 a 41 semanas        22523\n",
      "32 a 36 semanas         2234\n",
      "42 semanas e mais        698\n",
      "28 a 31 semanas          162\n",
      "22 a 27 semanas           85\n",
      "Menos de 22 semanas        7\n",
      "Name: count, dtype: int64\n"
     ]
    },
    {
     "data": {
      "text/plain": [
       "GESTACAO\n",
       "37 a 41 semanas        22523\n",
       "32 a 36 semanas         2234\n",
       "9                       1216\n",
       "42 semanas e mais        698\n",
       "28 a 31 semanas          162\n",
       "22 a 27 semanas           85\n",
       "Menos de 22 semanas        7\n",
       "Name: count, dtype: int64"
      ]
     },
     "execution_count": 119,
     "metadata": {},
     "output_type": "execute_result"
    }
   ],
   "source": [
    "# 7) seu código aqui\n",
    "colunas_9 = ['ESTCIVMAE', 'CONSULTAS']\n",
    "sinasc = pd.read_csv('SINASC_RO_2019.csv')\n",
    "\n",
    "missing_verifier(lista,sinasc)\n",
    "\n",
    "print(sinasc['GESTACAO'].value_counts())\n",
    "\n",
    "sinasc['LOCNASC'].fillna(value=9, inplace=True)\n",
    "\n",
    "media = sinasc['IDADEMAE'].mean()\n",
    "sinasc['IDADEMAE'].fillna(value=media, inplace=True)\n",
    "\n",
    "sinasc['ESCMAE'].fillna(value=9, inplace=True)\n",
    "sinasc['GESTACAO'].fillna(value=9, inplace=True)\n",
    "sinasc['GRAVIDEZ'].fillna(value=9, inplace=True)\n",
    "\n",
    "\n",
    "sinasc['GESTACAO'].value_counts()"
   ]
  },
  {
   "cell_type": "code",
   "execution_count": 124,
   "metadata": {},
   "outputs": [
    {
     "data": {
      "text/plain": [
       "faixa_oms\n",
       "normal            26463\n",
       "asfixia_leve        320\n",
       "asfixia_severa       74\n",
       "nan                  68\n",
       "Name: count, dtype: int64"
      ]
     },
     "execution_count": 124,
     "metadata": {},
     "output_type": "execute_result"
    }
   ],
   "source": [
    "# 8) seu código aqui\n",
    "\n",
    "#Entre 8 e 10 está em uma faixa 'normal'. \n",
    "#Entre 6 e 7, significa que o recém-nascido passou por 'asfixia leve'. \n",
    "#Entre 4 e 5 significa 'asfixia moderada'.\n",
    "#Entre 0 e 3 significa 'asfixia severa'.  \n",
    "\n",
    "sinasc.loc[(sinasc['APGAR5'] >= 8) & (sinasc['APGAR5'] <= 10), 'faixa_oms' ] = 'normal'\n",
    "sinasc.loc[(sinasc['APGAR5'] >= 6) & (sinasc['APGAR5'] <= 7), 'faixa_oms' ] = 'asfixia_leve'\n",
    "sinasc.loc[(sinasc['APGAR5'] >= 5) & (sinasc['APGAR5'] <= 4), 'faixa_oms' ] = 'asfixia_moderada'\n",
    "sinasc.loc[(sinasc['APGAR5'] >= 0) & (sinasc['APGAR5'] <= 3), 'faixa_oms' ] = 'asfixia_severa'\n",
    "\n",
    "sinasc['faixa_oms'].value_counts()"
   ]
  }
 ],
 "metadata": {
  "kernelspec": {
   "display_name": "Python 3",
   "language": "python",
   "name": "python3"
  },
  "language_info": {
   "codemirror_mode": {
    "name": "ipython",
    "version": 3
   },
   "file_extension": ".py",
   "mimetype": "text/x-python",
   "name": "python",
   "nbconvert_exporter": "python",
   "pygments_lexer": "ipython3",
   "version": "3.10.4"
  }
 },
 "nbformat": 4,
 "nbformat_minor": 4
}

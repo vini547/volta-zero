{
 "cells": [
  {
   "cell_type": "markdown",
   "id": "2d463d7a",
   "metadata": {},
   "source": [
    "# Hiperparâmetros do Random Forest\n",
    "\n",
    "## Principais hiperparâmetros e suas funções\n",
    "\n",
    "| Hiperparâmetro      | Função                                                                                   |\n",
    "|---------------------|------------------------------------------------------------------------------------------|\n",
    "| **n_estimators**    | Número de árvores na floresta. Mais árvores podem melhorar a performance, mas tornam o treinamento mais lento. |\n",
    "| **max_features**    | Número de features consideradas em cada divisão (split). Controla a aleatoriedade e diversidade das árvores.   |\n",
    "| **bootstrap**       | Se a amostragem é feita com reposição (bootstrap). Usado para criar diversidade entre as árvores.              |\n",
    "| **max_depth**       | Profundidade máxima das árvores. Limita o crescimento para evitar overfitting.                                  |\n",
    "| **min_samples_split** | Mínimo número de amostras necessárias para dividir um nó. Controla o quão facilmente as árvores crescem.      |\n",
    "| **min_samples_leaf**  | Mínimo número de amostras em uma folha (nó terminal). Evita folhas muito específicas.                          |\n",
    "| **random_state**    | Define a semente para geração de números aleatórios, garantindo resultados reprodutíveis.                      |\n",
    "\n",
    "---\n",
    "\n"
   ]
  },
  {
   "cell_type": "code",
   "execution_count": 1,
   "id": "0ada35f9",
   "metadata": {},
   "outputs": [
    {
     "name": "stdout",
     "output_type": "stream",
     "text": [
      "Acurácia (Random Forest): 1.0\n"
     ]
    }
   ],
   "source": [
    "from sklearn.ensemble import RandomForestClassifier\n",
    "from sklearn.datasets import load_iris\n",
    "from sklearn.model_selection import train_test_split\n",
    "from sklearn.metrics import accuracy_score\n",
    "\n",
    "# Carregando o dataset Iris\n",
    "X, y = load_iris(return_X_y=True)\n",
    "\n",
    "# Dividindo em treino e teste\n",
    "X_train, X_test, y_train, y_test = train_test_split(X, y, test_size=0.3, random_state=42)\n",
    "\n",
    "# Criando o modelo Random Forest com hiperparâmetros configurados\n",
    "rf_model = RandomForestClassifier(\n",
    "    n_estimators=100,         # 100 árvores na floresta\n",
    "    max_features='sqrt',      # número de features = raiz quadrada do total (padrão para classificação)\n",
    "    bootstrap=True,           # amostragem com reposição\n",
    "    max_depth=5,              # limita a profundidade das árvores para evitar overfitting\n",
    "    min_samples_split=4,      # nó só será dividido se tiver pelo menos 4 amostras\n",
    "    min_samples_leaf=2,       # folhas devem ter no mínimo 2 amostras\n",
    "    random_state=42           # para resultados reproduzíveis\n",
    ")\n",
    "\n",
    "# Treinando o modelo\n",
    "rf_model.fit(X_train, y_train)\n",
    "\n",
    "# Fazendo previsões\n",
    "y_pred = rf_model.predict(X_test)\n",
    "\n",
    "# Avaliando a acurácia\n",
    "print(\"Acurácia (Random Forest):\", accuracy_score(y_test, y_pred))\n"
   ]
  }
 ],
 "metadata": {
  "kernelspec": {
   "display_name": "Python 3",
   "language": "python",
   "name": "python3"
  },
  "language_info": {
   "codemirror_mode": {
    "name": "ipython",
    "version": 3
   },
   "file_extension": ".py",
   "mimetype": "text/x-python",
   "name": "python",
   "nbconvert_exporter": "python",
   "pygments_lexer": "ipython3",
   "version": "3.10.4"
  }
 },
 "nbformat": 4,
 "nbformat_minor": 5
}

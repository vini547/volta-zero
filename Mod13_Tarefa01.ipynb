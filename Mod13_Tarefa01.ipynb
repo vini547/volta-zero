{
 "cells": [
  {
   "cell_type": "markdown",
   "metadata": {},
   "source": [
    "# EBAC - Regressão II - regressão múltipla\n",
    "\n",
    "## Tarefa I"
   ]
  },
  {
   "cell_type": "markdown",
   "metadata": {},
   "source": [
    "#### Previsão de renda\n",
    "\n",
    "Vamos trabalhar com a base 'previsao_de_renda.csv', que é a base do seu próximo projeto. Vamos usar os recursos que vimos até aqui nesta base.\n",
    "\n",
    "|variavel|descrição|\n",
    "|-|-|\n",
    "|data_ref                | Data de referência de coleta das variáveis |\n",
    "|index                   | Código de identificação do cliente|\n",
    "|sexo                    | Sexo do cliente|\n",
    "|posse_de_veiculo        | Indica se o cliente possui veículo|\n",
    "|posse_de_imovel         | Indica se o cliente possui imóvel|\n",
    "|qtd_filhos              | Quantidade de filhos do cliente|\n",
    "|tipo_renda              | Tipo de renda do cliente|\n",
    "|educacao                | Grau de instrução do cliente|\n",
    "|estado_civil            | Estado civil do cliente|\n",
    "|tipo_residencia         | Tipo de residência do cliente (própria, alugada etc)|\n",
    "|idade                   | Idade do cliente|\n",
    "|tempo_emprego           | Tempo no emprego atual|\n",
    "|qt_pessoas_residencia   | Quantidade de pessoas que moram na residência|\n",
    "|renda                   | Renda em reais|"
   ]
  },
  {
   "cell_type": "code",
   "execution_count": 8,
   "metadata": {},
   "outputs": [],
   "source": [
    "import pandas as pd\n",
    "import statsmodels.api as sm\n",
    "import patsy as pt\n",
    "import numpy as np"
   ]
  },
  {
   "cell_type": "code",
   "execution_count": 2,
   "metadata": {},
   "outputs": [],
   "source": [
    "df = pd.read_csv('previsao_de_renda.csv')"
   ]
  },
  {
   "cell_type": "code",
   "execution_count": 3,
   "metadata": {},
   "outputs": [
    {
     "name": "stdout",
     "output_type": "stream",
     "text": [
      "<class 'pandas.core.frame.DataFrame'>\n",
      "RangeIndex: 15000 entries, 0 to 14999\n",
      "Data columns (total 16 columns):\n",
      " #   Column                 Non-Null Count  Dtype  \n",
      "---  ------                 --------------  -----  \n",
      " 0   Unnamed: 0             15000 non-null  int64  \n",
      " 1   data_ref               15000 non-null  object \n",
      " 2   index                  15000 non-null  int64  \n",
      " 3   sexo                   15000 non-null  object \n",
      " 4   posse_de_veiculo       15000 non-null  bool   \n",
      " 5   posse_de_imovel        15000 non-null  bool   \n",
      " 6   qtd_filhos             15000 non-null  int64  \n",
      " 7   tipo_renda             15000 non-null  object \n",
      " 8   educacao               15000 non-null  object \n",
      " 9   estado_civil           15000 non-null  object \n",
      " 10  tipo_residencia        15000 non-null  object \n",
      " 11  idade                  15000 non-null  int64  \n",
      " 12  tempo_emprego          12466 non-null  float64\n",
      " 13  qt_pessoas_residencia  15000 non-null  float64\n",
      " 14  mau                    15000 non-null  bool   \n",
      " 15  renda                  15000 non-null  float64\n",
      "dtypes: bool(3), float64(3), int64(4), object(6)\n",
      "memory usage: 1.5+ MB\n"
     ]
    }
   ],
   "source": [
    "df.info()"
   ]
  },
  {
   "cell_type": "markdown",
   "metadata": {},
   "source": [
    "1. Ajuste um modelo para prever log(renda) considerando todas as covariáveis disponíveis.\n",
    "    - Utilizando os recursos do Patsy, coloque as variáveis qualitativas como *dummies*.\n",
    "    - Mantenha sempre a categoria mais frequente como casela de referência\n",
    "    - Avalie os parâmetros e veja se parecem fazer sentido prático.  \n",
    "\n",
    "\n",
    "2. Remova a variável menos significante e analise:\n",
    "    - Observe os indicadores que vimos, e avalie se o modelo melhorou ou piorou na sua opinião.\n",
    "    - Observe os parâmetros e veja se algum se alterou muito.  \n",
    "\n",
    "\n",
    "3. Siga removendo as variáveis menos significantes, sempre que o *p-value* for menor que 5%. Compare o modelo final com o inicial. Observe os indicadores e conclua se o modelo parece melhor. \n",
    "    "
   ]
  },
  {
   "cell_type": "code",
   "execution_count": 4,
   "metadata": {},
   "outputs": [
    {
     "name": "stdout",
     "output_type": "stream",
     "text": [
      "<class 'pandas.core.frame.DataFrame'>\n",
      "RangeIndex: 15000 entries, 0 to 14999\n",
      "Data columns (total 28 columns):\n",
      " #   Column                         Non-Null Count  Dtype  \n",
      "---  ------                         --------------  -----  \n",
      " 0   Unnamed: 0                     15000 non-null  int64  \n",
      " 1   index                          15000 non-null  int64  \n",
      " 2   posse_de_veiculo               15000 non-null  bool   \n",
      " 3   posse_de_imovel                15000 non-null  bool   \n",
      " 4   qtd_filhos                     15000 non-null  int64  \n",
      " 5   idade                          15000 non-null  int64  \n",
      " 6   tempo_emprego                  12466 non-null  float64\n",
      " 7   qt_pessoas_residencia          15000 non-null  float64\n",
      " 8   mau                            15000 non-null  bool   \n",
      " 9   renda                          15000 non-null  float64\n",
      " 10  sexo_M                         15000 non-null  bool   \n",
      " 11  tipo_renda_Bolsista            15000 non-null  bool   \n",
      " 12  tipo_renda_Empresário          15000 non-null  bool   \n",
      " 13  tipo_renda_Pensionista         15000 non-null  bool   \n",
      " 14  tipo_renda_Servidor público    15000 non-null  bool   \n",
      " 15  educacao_Pós graduação         15000 non-null  bool   \n",
      " 16  educacao_Secundário            15000 non-null  bool   \n",
      " 17  educacao_Superior completo     15000 non-null  bool   \n",
      " 18  educacao_Superior incompleto   15000 non-null  bool   \n",
      " 19  estado_civil_Separado          15000 non-null  bool   \n",
      " 20  estado_civil_Solteiro          15000 non-null  bool   \n",
      " 21  estado_civil_União             15000 non-null  bool   \n",
      " 22  estado_civil_Viúvo             15000 non-null  bool   \n",
      " 23  tipo_residencia_Casa           15000 non-null  bool   \n",
      " 24  tipo_residencia_Com os pais    15000 non-null  bool   \n",
      " 25  tipo_residencia_Comunitário    15000 non-null  bool   \n",
      " 26  tipo_residencia_Estúdio        15000 non-null  bool   \n",
      " 27  tipo_residencia_Governamental  15000 non-null  bool   \n",
      "dtypes: bool(21), float64(3), int64(4)\n",
      "memory usage: 1.1 MB\n",
      "None\n"
     ]
    }
   ],
   "source": [
    "    # Remover a coluna 'data_ref' se não for necessária no modelo\n",
    "    df = df.drop(columns=['data_ref'])\n",
    "\n",
    "    # Converter as colunas categóricas em dummies (variáveis indicadoras)\n",
    "    df_dummies = pd.get_dummies(df, drop_first=True)\n",
    "\n",
    "    # Verificar o novo DataFrame dummificado\n",
    "    print(df_dummies.info())\n"
   ]
  },
  {
   "cell_type": "code",
   "execution_count": 5,
   "metadata": {},
   "outputs": [
    {
     "name": "stdout",
     "output_type": "stream",
     "text": [
      "<class 'pandas.core.frame.DataFrame'>\n",
      "RangeIndex: 15000 entries, 0 to 14999\n",
      "Data columns (total 28 columns):\n",
      " #   Column                         Non-Null Count  Dtype  \n",
      "---  ------                         --------------  -----  \n",
      " 0   Unnamed: 0                     15000 non-null  int64  \n",
      " 1   index                          15000 non-null  int64  \n",
      " 2   posse_de_veiculo               15000 non-null  int32  \n",
      " 3   posse_de_imovel                15000 non-null  int32  \n",
      " 4   qtd_filhos                     15000 non-null  int64  \n",
      " 5   idade                          15000 non-null  int64  \n",
      " 6   tempo_emprego                  12466 non-null  float64\n",
      " 7   qt_pessoas_residencia          15000 non-null  float64\n",
      " 8   mau                            15000 non-null  int32  \n",
      " 9   renda                          15000 non-null  float64\n",
      " 10  sexo_M                         15000 non-null  int32  \n",
      " 11  tipo_renda_Bolsista            15000 non-null  int32  \n",
      " 12  tipo_renda_Empresário          15000 non-null  int32  \n",
      " 13  tipo_renda_Pensionista         15000 non-null  int32  \n",
      " 14  tipo_renda_Servidor público    15000 non-null  int32  \n",
      " 15  educacao_Pós graduação         15000 non-null  int32  \n",
      " 16  educacao_Secundário            15000 non-null  int32  \n",
      " 17  educacao_Superior completo     15000 non-null  int32  \n",
      " 18  educacao_Superior incompleto   15000 non-null  int32  \n",
      " 19  estado_civil_Separado          15000 non-null  int32  \n",
      " 20  estado_civil_Solteiro          15000 non-null  int32  \n",
      " 21  estado_civil_União             15000 non-null  int32  \n",
      " 22  estado_civil_Viúvo             15000 non-null  int32  \n",
      " 23  tipo_residencia_Casa           15000 non-null  int32  \n",
      " 24  tipo_residencia_Com os pais    15000 non-null  int32  \n",
      " 25  tipo_residencia_Comunitário    15000 non-null  int32  \n",
      " 26  tipo_residencia_Estúdio        15000 non-null  int32  \n",
      " 27  tipo_residencia_Governamental  15000 non-null  int32  \n",
      "dtypes: float64(3), int32(21), int64(4)\n",
      "memory usage: 2.0 MB\n",
      "None\n"
     ]
    }
   ],
   "source": [
    "# Listar todas as colunas booleanas\n",
    "bool_columns = df_dummies.select_dtypes(include='bool').columns\n",
    "\n",
    "# Converter as colunas booleanas para 0s e 1s\n",
    "df_dummies[bool_columns] = df_dummies[bool_columns].astype(int)\n",
    "\n",
    "# Verificar o novo DataFrame para garantir que as colunas booleanas foram convertidas\n",
    "print(df_dummies.info())"
   ]
  },
  {
   "cell_type": "code",
   "execution_count": 9,
   "metadata": {},
   "outputs": [
    {
     "name": "stdout",
     "output_type": "stream",
     "text": [
      "                            OLS Regression Results                            \n",
      "==============================================================================\n",
      "Dep. Variable:              log_renda   R-squared:                       0.242\n",
      "Model:                            OLS   Adj. R-squared:                  0.240\n",
      "Method:                 Least Squares   F-statistic:                     165.3\n",
      "Date:                Wed, 25 Sep 2024   Prob (F-statistic):               0.00\n",
      "Time:                        23:47:12   Log-Likelihood:                -13204.\n",
      "No. Observations:               12466   AIC:                         2.646e+04\n",
      "Df Residuals:                   12441   BIC:                         2.664e+04\n",
      "Df Model:                          24                                         \n",
      "Covariance Type:            nonrobust                                         \n",
      "=========================================================================================================\n",
      "                                            coef    std err          t      P>|t|      [0.025      0.975]\n",
      "---------------------------------------------------------------------------------------------------------\n",
      "Intercept                                 7.2080      0.272     26.527      0.000       6.675       7.741\n",
      "Q(\"sexo\")[T.M]                            0.4813      0.014     33.673      0.000       0.453       0.509\n",
      "Q(\"posse_de_veiculo\")[T.True]            -0.0012      0.014     -0.087      0.931      -0.028       0.026\n",
      "Q(\"posse_de_imovel\")[T.True]              0.0849      0.014      6.275      0.000       0.058       0.111\n",
      "Q(\"tipo_renda\")[T.Bolsista]              -0.0493      0.350     -0.141      0.888      -0.735       0.636\n",
      "Q(\"tipo_renda\")[T.Empresário]             0.1786      0.015     12.209      0.000       0.150       0.207\n",
      "Q(\"tipo_renda\")[T.Pensionista]            0.3784      0.233      1.623      0.105      -0.079       0.835\n",
      "Q(\"tipo_renda\")[T.Servidor público]       0.0950      0.021      4.485      0.000       0.053       0.136\n",
      "Q(\"educacao\")[T.Pós graduação]            0.5502      0.175      3.137      0.002       0.206       0.894\n",
      "Q(\"educacao\")[T.Secundário]               0.0164      0.071      0.232      0.817      -0.123       0.156\n",
      "Q(\"educacao\")[T.Superior completo]        0.1132      0.071      1.587      0.112      -0.027       0.253\n",
      "Q(\"educacao\")[T.Superior incompleto]     -0.0097      0.076     -0.127      0.899      -0.159       0.140\n",
      "Q(\"estado_civil\")[T.Separado]            -0.0437      0.131     -0.334      0.738      -0.300       0.213\n",
      "Q(\"estado_civil\")[T.Solteiro]             0.0169      0.128      0.131      0.895      -0.235       0.269\n",
      "Q(\"estado_civil\")[T.União]               -0.0259      0.023     -1.110      0.267      -0.072       0.020\n",
      "Q(\"estado_civil\")[T.Viúvo]               -0.0422      0.134     -0.314      0.753      -0.306       0.221\n",
      "Q(\"tipo_residencia\")[T.Casa]              0.0148      0.053      0.278      0.781      -0.090       0.119\n",
      "Q(\"tipo_residencia\")[T.Com os pais]      -0.0572      0.060     -0.957      0.339      -0.174       0.060\n",
      "Q(\"tipo_residencia\")[T.Comunitário]       0.0575      0.103      0.559      0.576      -0.144       0.259\n",
      "Q(\"tipo_residencia\")[T.Estúdio]          -0.1094      0.089     -1.232      0.218      -0.283       0.065\n",
      "Q(\"tipo_residencia\")[T.Governamental]    -0.0563      0.064     -0.873      0.382      -0.183       0.070\n",
      "Q(\"qtd_filhos\")                           0.0087      0.128      0.068      0.946      -0.242       0.260\n",
      "Q(\"idade\")                                0.0052      0.001      6.625      0.000       0.004       0.007\n",
      "Q(\"tempo_emprego\")                        0.0482      0.001     48.426      0.000       0.046       0.050\n",
      "Q(\"qt_pessoas_residencia\")                0.0073      0.128      0.057      0.955      -0.243       0.258\n",
      "==============================================================================\n",
      "Omnibus:                        1.155   Durbin-Watson:                   2.015\n",
      "Prob(Omnibus):                  0.561   Jarque-Bera (JB):                1.126\n",
      "Skew:                          -0.011   Prob(JB):                        0.569\n",
      "Kurtosis:                       3.041   Cond. No.                     2.65e+03\n",
      "==============================================================================\n",
      "\n",
      "Notes:\n",
      "[1] Standard Errors assume that the covariance matrix of the errors is correctly specified.\n",
      "[2] The condition number is large, 2.65e+03. This might indicate that there are\n",
      "strong multicollinearity or other numerical problems.\n"
     ]
    }
   ],
   "source": [
    "df['log_renda'] = np.log(df['renda'])\n",
    "\n",
    "formula = 'log_renda ~ Q(\"sexo\") + Q(\"posse_de_veiculo\") + Q(\"posse_de_imovel\") + Q(\"qtd_filhos\") + \\\n",
    "           Q(\"tipo_renda\") + Q(\"educacao\") + Q(\"estado_civil\") + Q(\"tipo_residencia\") + Q(\"idade\") + \\\n",
    "           Q(\"tempo_emprego\") + Q(\"qt_pessoas_residencia\")'\n",
    "\n",
    "# Criar as matrizes de design com Patsy\n",
    "y, X = pt.dmatrices(formula, data=df, return_type='dataframe')\n",
    "\n",
    "# Ajustar o modelo inicial\n",
    "modelo_inicial = sm.OLS(y, sm.add_constant(X)).fit()\n",
    "\n",
    "# Resumo do modelo\n",
    "print(modelo_inicial.summary())"
   ]
  },
  {
   "cell_type": "code",
   "execution_count": 10,
   "metadata": {},
   "outputs": [
    {
     "name": "stdout",
     "output_type": "stream",
     "text": [
      "                            OLS Regression Results                            \n",
      "==============================================================================\n",
      "Dep. Variable:              log_renda   R-squared:                       0.237\n",
      "Model:                            OLS   Adj. R-squared:                  0.236\n",
      "Method:                 Least Squares   F-statistic:                     551.9\n",
      "Date:                Wed, 25 Sep 2024   Prob (F-statistic):               0.00\n",
      "Time:                        23:47:57   Log-Likelihood:                -13246.\n",
      "No. Observations:               12466   AIC:                         2.651e+04\n",
      "Df Residuals:                   12458   BIC:                         2.657e+04\n",
      "Df Model:                           7                                         \n",
      "Covariance Type:            nonrobust                                         \n",
      "=======================================================================================================\n",
      "                                          coef    std err          t      P>|t|      [0.025      0.975]\n",
      "-------------------------------------------------------------------------------------------------------\n",
      "Intercept                               7.2984      0.031    238.711      0.000       7.239       7.358\n",
      "Q(\"sexo\")[T.M]                          0.4824      0.013     36.231      0.000       0.456       0.509\n",
      "Q(\"posse_de_imovel\")[T.True]            0.0994      0.013      7.514      0.000       0.073       0.125\n",
      "Q(\"tipo_renda\")[T.Empresário]           0.1852      0.015     12.716      0.000       0.157       0.214\n",
      "Q(\"tipo_renda\")[T.Servidor público]     0.1082      0.021      5.135      0.000       0.067       0.149\n",
      "Q(\"educacao\")[T.Pós graduação]          0.5106      0.161      3.172      0.002       0.195       0.826\n",
      "Q(\"idade\")                              0.0045      0.001      6.267      0.000       0.003       0.006\n",
      "Q(\"tempo_emprego\")                      0.0484      0.001     48.604      0.000       0.046       0.050\n",
      "==============================================================================\n",
      "Omnibus:                        0.806   Durbin-Watson:                   2.013\n",
      "Prob(Omnibus):                  0.668   Jarque-Bera (JB):                0.775\n",
      "Skew:                          -0.005   Prob(JB):                        0.679\n",
      "Kurtosis:                       3.037   Cond. No.                     1.09e+03\n",
      "==============================================================================\n",
      "\n",
      "Notes:\n",
      "[1] Standard Errors assume that the covariance matrix of the errors is correctly specified.\n",
      "[2] The condition number is large, 1.09e+03. This might indicate that there are\n",
      "strong multicollinearity or other numerical problems.\n"
     ]
    }
   ],
   "source": [
    "# Selecionar as variáveis com p-valor menor que 0.05\n",
    "significativas = modelo_inicial.pvalues[modelo_inicial.pvalues < 0.05].index.tolist()\n",
    "\n",
    "# Ajustar o modelo novamente com as variáveis significativas\n",
    "X_significativas = X[significativas]\n",
    "modelo_significativo = sm.OLS(y, sm.add_constant(X_significativas)).fit()\n",
    "\n",
    "# Resumo do modelo ajustado\n",
    "print(modelo_significativo.summary())"
   ]
  }
 ],
 "metadata": {
  "kernelspec": {
   "display_name": "Python 3",
   "language": "python",
   "name": "python3"
  },
  "language_info": {
   "codemirror_mode": {
    "name": "ipython",
    "version": 3
   },
   "file_extension": ".py",
   "mimetype": "text/x-python",
   "name": "python",
   "nbconvert_exporter": "python",
   "pygments_lexer": "ipython3",
   "version": "3.10.4"
  }
 },
 "nbformat": 4,
 "nbformat_minor": 4
}

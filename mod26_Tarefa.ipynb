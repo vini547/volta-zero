{
 "cells": [
  {
   "cell_type": "markdown",
   "metadata": {},
   "source": [
    "# Tarefa - Álgebra Linear\n",
    "\n",
    "A célula abaixo gera dados de notas de duas provas, p1 e p2, conforme em aula, mas com mais alunos.\n",
    "\n",
    "## 1. Reduzindo correlações\n",
    "\n",
    "a) Já vimos que expressar os dados através da média e diferença é uma transformação linear. Obtenha a média e a diferença através de uma multiplicação matricial, conforme visto em aula.\n",
    "\n",
    "b) Calcule a correlação entre os dados da **p1** e **p2**\n",
    "\n",
    "c) Calcule a correlação entre os dados transformados (média e diferença)\n",
    "\n",
    "d) Comente as correlações observadas."
   ]
  },
  {
   "cell_type": "code",
   "execution_count": 6,
   "metadata": {},
   "outputs": [],
   "source": [
    "import pandas as pd\n",
    "import seaborn as sns\n",
    "import numpy as np\n",
    "import matplotlib.pyplot as plt\n",
    "from IPython.display import display, Math, Latex\n",
    "\n"
   ]
  },
  {
   "cell_type": "markdown",
   "metadata": {},
   "source": [
    "Estamos importando a biblioteca **Seaborn**, que é uma biblioteca de visualização de dados baseada em Matplotlib. Seaborn facilita a criação de gráficos estatísticos com melhor estética e é especialmente útil para visualizar dados em estruturas como DataFrames do Pandas.\n",
    "\n",
    "Para um conjunto de dados \\( D \\), Seaborn permite criar visualizações como gráficos de dispersão, gráficos de barras e boxplots. Por exemplo, se \\( Y \\) é a variável dependente e \\( X \\) é a variável independente, um gráfico de dispersão pode ser representado como:\n",
    "\n",
    "$$\n",
    "Y = f(X) + \\epsilon\n",
    "$$\n",
    "\n",
    "Onde \\( f(X) \\) é uma função que modela a relação entre \\( Y \\) e \\( X \\) e \\( \\epsilon \\) representa o erro aleatório.\n",
    "\n",
    "\n",
    "\n",
    "A biblioteca **NumPy**, que é fundamental para cálculos numéricos em Python. A NumPy oferece suporte a arrays multidimensionais e funções matemáticas eficientes para operar sobre esses arrays.\n",
    "\n",
    "Seja \\( A \\) uma matriz \\( m \\times n \\) representada como um array NumPy, as operações podem incluir soma, multiplicação e outras transformações que podem ser representadas matematicamente como:\n",
    "\n",
    "$$\n",
    "C = A \\cdot B\n",
    "$$\n",
    "\n",
    "Onde \\( B \\) é outra matriz compatível e \\( C \\) é o resultado da multiplicação matricial. NumPy também permite realizar operações elementares em arrays de forma rápida e eficiente.\n",
    "\n",
    "\n",
    "a biblioteca **Matplotlib**, especificamente o módulo **pyplot**. Matplotlib é uma biblioteca de plotagem que permite criar uma variedade de gráficos e visualizações a partir de dados.\n",
    "\n",
    "Seja \\( D \\) um conjunto de dados que consiste em variáveis \\( X \\) e \\( Y \\). A função de plotagem básica pode ser representada como:\n",
    "\n",
    "$$\n",
    "f(X, Y) = \\text{plot}(X, Y)\n",
    "$$\n",
    "\n",
    "Onde a função `plot` gera um gráfico que representa a relação entre \\( X \\) e \\( Y \\). Matplotlib permite personalizar os gráficos, adicionar títulos, legendas e muito mais.\n",
    "\n",
    "\n",
    "\n",
    "\n",
    "Neste comando, estamos importando funções específicas da biblioteca **IPython.display** que permitem renderizar fórmulas matemáticas e textos em LaTeX diretamente nas células do Jupyter Notebook.\n",
    "\n",
    "As funções importadas são:\n",
    "\n",
    "- `display`: utilizada para mostrar objetos, como gráficos ou textos formatados.\n",
    "- `Math`: permite renderizar expressões matemáticas escritas em LaTeX, apresentando-as de forma adequada.\n",
    "- `Latex`: usada para renderizar textos formatados em LaTeX, útil para exibir descrições e fórmulas.\n",
    "\n",
    "Dessa forma, podemos representar equações matemáticas de forma legível e visualmente atraente, como por exemplo:\n",
    "\n",
    "$$\n",
    "E = mc^2\n",
    "$$\n",
    "\n",
    "Onde \\( E \\) é a energia, \\( m \\) é a massa e \\( c \\) é a velocidade da luz."
   ]
  },
  {
   "cell_type": "code",
   "execution_count": 7,
   "metadata": {},
   "outputs": [],
   "source": [
    "%matplotlib inline\n",
    "\n",
    "# Gerando os dados\n",
    "np.random.seed(123)\n",
    "\n",
    "p1 = np.random.random(50) *10\n",
    "p1[p1>10] = 10\n",
    "p1[p1<0] = 0\n",
    "\n",
    "p2 = p1 + np.random.normal(0,1,50)\n",
    "p2[p2>10] = 10\n",
    "p2[p2<0] = 0\n",
    "\n",
    "df = pd.DataFrame({'p1': p1, 'p2': p2})"
   ]
  },
  {
   "cell_type": "code",
   "execution_count": 8,
   "metadata": {},
   "outputs": [],
   "source": [
    "T = np.array([[0.5, 0.5],\n",
    "              [0.5, -0.5]])"
   ]
  },
  {
   "cell_type": "markdown",
   "metadata": {},
   "source": [
    "A matriz de transformação \\( T \\) é definida como:\n",
    "\n",
    "$$\n",
    "T = \\begin{pmatrix} \n",
    "0.5 & 0.5 \\\\ \n",
    "0.5 & -0.5 \n",
    "\\end{pmatrix}\n",
    "$$\n",
    "\n",
    "Essa matriz é usada para calcular a **média** e a **diferença** entre \\( p_1 \\) e \\( p_2 \\) através da multiplicação matricial:\n",
    "\n",
    "- A **multiplicação** de \\( T \\) com a matriz de dados \\( p \\) é expressa como:\n",
    "  \n",
    "  $$\n",
    "  p' = T \\cdot p\n",
    "  $$\n",
    "\n",
    "- A **primeira linha** de \\( T \\) calcula a média das notas, dada por:\n",
    "  \n",
    "  $$\n",
    "  \\text{média} = 0.5 \\cdot p_1 + 0.5 \\cdot p_2 = \\frac{p_1 + p_2}{2}\n",
    "  $$\n",
    "\n",
    "- A **segunda linha** de \\( T \\) calcula a diferença das notas, dada por:\n",
    "\n",
    "  $$\n",
    "  \\text{diferença} = 0.5 \\cdot p_1 - 0.5 \\cdot p_2 = \\frac{p_1 - p_2}{2}\n",
    "  $$\n",
    "\n",
    "Portanto, a multiplicação matricial nos fornece uma nova matriz com a média e a diferença das notas de cada aluno."
   ]
  },
  {
   "cell_type": "code",
   "execution_count": 9,
   "metadata": {},
   "outputs": [],
   "source": [
    "# Dados de p1 e p2 como uma matriz\n",
    "X = np.vstack([p1, p2])"
   ]
  },
  {
   "cell_type": "markdown",
   "metadata": {},
   "source": [
    "Neste passo, estamos criando uma matriz \\( X \\) que contém as notas das duas provas, \\( p_1 \\) e \\( p_2 \\). A operação `np.vstack` empilha as duas arrays verticalmente, resultando na matriz:\n",
    "\n",
    "$$\n",
    "X = \\begin{pmatrix} \n",
    "p_1 \\\\ \n",
    "p_2 \n",
    "\\end{pmatrix}\n",
    "$$\n",
    "\n",
    "Onde \\( p_1 \\) representa as notas da primeira prova e \\( p_2 \\) representa as notas da segunda prova."
   ]
  },
  {
   "cell_type": "code",
   "execution_count": 10,
   "metadata": {},
   "outputs": [],
   "source": [
    "# Transformando para média e diferença\n",
    "media_diferenca = np.dot(T, X)"
   ]
  },
  {
   "cell_type": "markdown",
   "metadata": {},
   "source": [
    "Aqui, estamos aplicando a multiplicação matricial entre a matriz de transformação \\( T \\) e a matriz de dados \\( X \\):\n",
    "\n",
    "$$\n",
    "\\text{media\\_diferenca} = T \\cdot X = \\begin{pmatrix} \n",
    "0.5 & 0.5 \\\\ \n",
    "0.5 & -0.5 \n",
    "\\end{pmatrix}\n",
    "\\begin{pmatrix} \n",
    "p_1 \\\\ \n",
    "p_2 \n",
    "\\end{pmatrix}\n",
    "$$\n",
    "\n",
    "O resultado \\( \\text{media\\_diferenca} \\) contém na primeira linha a média das notas e na segunda linha a diferença entre as notas."
   ]
  },
  {
   "cell_type": "code",
   "execution_count": 11,
   "metadata": {},
   "outputs": [],
   "source": [
    "# Separando a média e a diferença\n",
    "media = media_diferenca[0, :]\n",
    "diferenca = media_diferenca[1, :]"
   ]
  },
  {
   "cell_type": "markdown",
   "metadata": {},
   "source": [
    "Aqui estamos separando os resultados da matriz \\( \\text{media\\_diferenca} \\):\n",
    "\n",
    "- A média é obtida da primeira linha:\n",
    "  \n",
    "  $$\n",
    "  \\text{média} = \\text{media\\_diferenca}[0, :] = \\frac{p_1 + p_2}{2}\n",
    "  $$\n",
    "\n",
    "- A diferença é obtida da segunda linha:\n",
    "  \n",
    "  $$\n",
    "  \\text{diferença} = \\text{media\\_diferenca}[1, :] = \\frac{p_1 - p_2}{2}\n",
    "  $$"
   ]
  },
  {
   "cell_type": "code",
   "execution_count": 12,
   "metadata": {},
   "outputs": [],
   "source": [
    "# Criando DataFrame para os dados transformados\n",
    "df_transformado = pd.DataFrame({'Média': media, 'Diferença': diferenca})"
   ]
  },
  {
   "cell_type": "markdown",
   "metadata": {},
   "source": [
    "Neste passo, estamos criando um DataFrame chamado \\( df\\_transformado \\) que armazena as colunas **média** e **diferença**:\n",
    "\n",
    "$$\n",
    "df\\_transformado = \\begin{pmatrix} \n",
    "\\text{Média} & \\text{Diferença} \n",
    "\\end{pmatrix}\n",
    "$$\n",
    "\n",
    "As colunas contêm, respectivamente, os valores \\( \\frac{p_1 + p_2}{2} \\) e \\( \\frac{p_1 - p_2}{2} \\)."
   ]
  },
  {
   "cell_type": "code",
   "execution_count": 13,
   "metadata": {},
   "outputs": [],
   "source": [
    "# Parte 1b: Correlação entre p1 e p2\n",
    "correlacao_original = df[['p1', 'p2']].corr()"
   ]
  },
  {
   "cell_type": "markdown",
   "metadata": {},
   "source": [
    "Aqui estamos calculando a correlação entre as notas \\( p_1 \\) e \\( p_2 \\) usando a função de correlação do pandas. A correlação é uma medida estatística que quantifica a relação entre duas variáveis, dada por:\n",
    "\n",
    "$$\n",
    "\\rho(p_1, p_2) = \\frac{\\text{Cov}(p_1, p_2)}{\\sigma_{p_1} \\cdot \\sigma_{p_2}}\n",
    "$$\n",
    "\n",
    "Onde:\n",
    "- \\( \\text{Cov}(p_1, p_2) \\) é a covariância entre \\( p_1 \\) e \\( p_2 \\)\n",
    "- \\( \\sigma_{p_1} \\) e \\( \\sigma_{p_2} \\) são os desvios padrão das notas \\( p_1 \\) e \\( p_2 \\), respectivamente.\n"
   ]
  },
  {
   "cell_type": "code",
   "execution_count": 14,
   "metadata": {},
   "outputs": [],
   "source": [
    "# Parte 1c: Correlação entre média e diferença\n",
    "correlacao_transformada = df_transformado.corr()"
   ]
  },
  {
   "cell_type": "markdown",
   "metadata": {},
   "source": [
    "Neste passo, estamos calculando a correlação entre a média e a diferença utilizando a mesma fórmula da correlação. A correlação é dada por:\n",
    "\n",
    "$$\n",
    "\\rho(\\text{média}, \\text{diferença}) = \\frac{\\text{Cov}(\\text{média}, \\text{diferença})}{\\sigma_{\\text{média}} \\cdot \\sigma_{\\text{diferença}}}\n",
    "$$\n",
    "\n",
    "Onde:\n",
    "\n",
    "- \\( \\text{Cov}(\\text{média}, \\text{diferença}) \\) é a covariância entre a média e a diferença\n",
    "- \\( \\sigma_{\\text{média}} \\) e \\( \\sigma_{\\text{diferença}} \\) são os desvios padrão da média e da diferença, respectivamente."
   ]
  },
  {
   "cell_type": "markdown",
   "metadata": {},
   "source": [
    "## 2. Soma e diferença\n",
    "\n",
    "Realize agora uma transformação semelhante, mas que ao invés da média, dê a soma da **p1** e **p2**. Construa o gráfico e conclua que diferenças visuais você observa."
   ]
  },
  {
   "cell_type": "code",
   "execution_count": 15,
   "metadata": {},
   "outputs": [],
   "source": [
    "# Matriz de transformação para soma e diferença\n",
    "T_soma = np.array([[1, 1],\n",
    "                   [1, -1]])"
   ]
  },
  {
   "cell_type": "markdown",
   "metadata": {},
   "source": [
    "Aqui, estamos definindo uma nova matriz de transformação \\( T_{soma} \\) para calcular a soma e a diferença das notas:\n",
    "\n",
    "$$\n",
    "T_{soma} = \\begin{pmatrix} \n",
    "1 & 1 \\\\ \n",
    "1 & -1 \n",
    "\\end{pmatrix}\n",
    "$$\n",
    "\n",
    "Essa matriz será usada para calcular a soma \\( S \\) e a diferença \\( D \\) entre \\( p_1 \\) e \\( p_2 \\)."
   ]
  },
  {
   "cell_type": "code",
   "execution_count": 16,
   "metadata": {},
   "outputs": [],
   "source": [
    "# Transformando para soma e diferença\n",
    "soma_diferenca = np.dot(T_soma * 0.5, X)  # multiplicado por 0.5 para manter escalas comparáveis"
   ]
  },
  {
   "cell_type": "markdown",
   "metadata": {},
   "source": [
    "Neste passo, estamos aplicando a multiplicação matricial entre a matriz de transformação \\( T_{soma} \\) e a matriz de dados \\( X \\):\n",
    "\n",
    "$$\n",
    "\\text{soma\\_diferenca} = T_{soma} \\cdot X = \\begin{pmatrix} \n",
    "1 & 1 \\\\ \n",
    "1 & -1 \n",
    "\\end{pmatrix}\n",
    "\\begin{pmatrix} \n",
    "p_1 \\\\ \n",
    "p_2 \n",
    "\\end{pmatrix}\n",
    "$$\n",
    "\n",
    "Multiplicamos por \\( 0.5 \\) para manter as escalas comparáveis. O resultado \\( \\text{soma\\_diferenca} \\) contém na primeira linha a soma das notas e na segunda linha a diferença entre as notas."
   ]
  },
  {
   "cell_type": "code",
   "execution_count": 17,
   "metadata": {},
   "outputs": [],
   "source": [
    "# Separando soma e diferença\n",
    "soma = soma_diferenca[0, :]\n",
    "diferenca_soma = soma_diferenca[1, :]"
   ]
  },
  {
   "cell_type": "markdown",
   "metadata": {},
   "source": [
    "Aqui estamos separando os resultados da matriz \\( \\text{soma\\_diferenca} \\):\n",
    "\n",
    "- A soma é obtida da primeira linha:\n",
    "  \n",
    "  $$\n",
    "  \\text{soma} = \\text{soma\\_diferenca}[0, :] = \\frac{p_1 + p_2}{1} = p_1 + p_2\n",
    "  $$\n",
    "\n",
    "- A diferença é obtida da segunda linha:\n",
    "  \n",
    "  $$\n",
    "  \\text{diferença} = \\text{soma\\_diferenca}[1, :] = \\frac{p_1 - p_2}{1} = p_1 - p_2\n",
    "  $$"
   ]
  },
  {
   "cell_type": "code",
   "execution_count": 18,
   "metadata": {},
   "outputs": [],
   "source": [
    "# Criando DataFrame para soma e diferença\n",
    "df_soma_diferenca = pd.DataFrame({'Soma': soma, 'Diferença': diferenca_soma})\n"
   ]
  },
  {
   "cell_type": "markdown",
   "metadata": {},
   "source": [
    "Neste passo, estamos criando um DataFrame chamado \\( df\\_soma\\_diferenca \\) que armazena as colunas **soma** e **diferença**:\n",
    "\n",
    "$$\n",
    "df\\_soma\\_diferenca = \\begin{pmatrix} \n",
    "\\text{Soma} & \\text{Diferença} \n",
    "\\end{pmatrix}\n",
    "$$\n",
    "\n",
    "As colunas contêm, respectivamente, os valores \\( p_1 + p_2 \\) e \\( p_1 - p_2 \\)."
   ]
  },
  {
   "cell_type": "code",
   "execution_count": 19,
   "metadata": {},
   "outputs": [
    {
     "data": {
      "text/plain": [
       "<Figure size 1000x500 with 0 Axes>"
      ]
     },
     "execution_count": 19,
     "metadata": {},
     "output_type": "execute_result"
    },
    {
     "data": {
      "text/plain": [
       "<Figure size 1000x500 with 0 Axes>"
      ]
     },
     "metadata": {},
     "output_type": "display_data"
    }
   ],
   "source": [
    "# Plotando os gráficos\n",
    "plt.figure(figsize=(10, 5))"
   ]
  },
  {
   "cell_type": "markdown",
   "metadata": {},
   "source": [
    "Neste passo, estamos configurando a figura do gráfico com um tamanho de \\( 10 \\times 5 \\) polegadas, onde será plotado o gráfico da soma versus a diferença das notas."
   ]
  },
  {
   "cell_type": "code",
   "execution_count": 20,
   "metadata": {},
   "outputs": [
    {
     "data": {
      "text/plain": [
       "Text(0.5, 1.0, 'Soma vs Diferença')"
      ]
     },
     "execution_count": 20,
     "metadata": {},
     "output_type": "execute_result"
    },
    {
     "data": {
      "image/png": "[encoded data removed]",
      "text/plain": [
       "<Figure size 640x480 with 1 Axes>"
      ]
     },
     "metadata": {},
     "output_type": "display_data"
    }
   ],
   "source": [
    "\n",
    "\n",
    "\n",
    "\n",
    "# Gráfico para Soma e Diferença\n",
    "plt.subplot(1, 2, 1)\n",
    "sns.scatterplot(x='Soma', y='Diferença', data=df_soma_diferenca)\n",
    "plt.title(\"Soma vs Diferença\")\n",
    "\n",
    "\n",
    "\n",
    "\n",
    "\n"
   ]
  },
  {
   "cell_type": "markdown",
   "metadata": {},
   "source": [
    "Aqui estamos criando um gráfico de dispersão que representa a relação entre a soma e a diferença das notas. A função `sns.scatterplot` plota os pontos onde:\n",
    "\n",
    "- O eixo \\( x \\) representa a soma das notas \\( S = p_1 + p_2 \\)\n",
    "- O eixo \\( y \\) representa a diferença das notas \\( D = p_1 - p_2 \\)\n",
    "\n",
    "Estamos visualizando a relação entre essas duas quantidades."
   ]
  },
  {
   "cell_type": "markdown",
   "metadata": {},
   "source": [
    "**Comentário sobre as Correlações Observadas:**\n",
    "\n",
    "Após calcular as correlações entre os dados originais \\( p_1 \\) e \\( p_2 \\), bem como entre a média e a diferença, podemos analisar as seguintes relações:\n",
    "\n",
    "1. **Correlação entre \\( p_1 \\) e \\( p_2 \\)**:\n",
    "   - A correlação entre as notas \\( p_1 \\) e \\( p_2 \\) geralmente tende a ser alta, uma vez que \\( p_2 \\) é derivada de \\( p_1 \\) com a adição de um erro aleatório. Essa correlação positiva indica que, em geral, alunos que têm um bom desempenho em \\( p_1 \\) tendem a ter um bom desempenho em \\( p_2 \\).\n",
    "\n",
    "2. **Correlação entre a Média e a Diferença**:\n",
    "   - A correlação entre a média e a diferença das notas pode variar. Uma média alta pode estar associada a uma diferença baixa, indicando que os alunos têm desempenhos semelhantes nas duas provas. Por outro lado, se a média for alta e a diferença for alta, isso pode sugerir que alguns alunos se destacam em uma prova mais do que na outra.\n",
    "\n",
    "3. **Interpretação das Correlações**:\n",
    "   - As correlações observadas podem fornecer insights sobre a consistência e a variabilidade no desempenho dos alunos. Se a correlação entre a média e a diferença for próxima de zero, isso pode indicar que não há uma relação linear clara entre o desempenho geral (média) e a variação entre as notas. Por outro lado, uma correlação significativa sugere uma relação mais forte, que pode ser explorada para entender melhor o desempenho dos alunos em diferentes contextos.\n",
    "\n",
    "Esses comentários podem ajudar a interpretar os dados de maneira mais profunda, permitindo ações mais informadas em contextos educacionais, como intervenções direcionadas para alunos com desempenhos discrepantes."
   ]
  },
  {
   "cell_type": "code",
   "execution_count": 22,
   "metadata": {},
   "outputs": [
    {
     "data": {
      "image/png": "[encoded data removed]",
      "text/plain": [
       "<Figure size 800x500 with 1 Axes>"
      ]
     },
     "metadata": {},
     "output_type": "display_data"
    }
   ],
   "source": [
    "# Cálculo das correlações\n",
    "correlacao_original = df[['p1', 'p2']].corr().iloc[0, 1]\n",
    "correlacao_transformada = df_transformado.corr().iloc[0, 1]\n",
    "\n",
    "# Valores das correlações\n",
    "correlacoes = {\n",
    "    'Correlação p1 e p2': correlacao_original,\n",
    "    'Correlação Média e Diferença': correlacao_transformada\n",
    "}\n",
    "\n",
    "# Criando um DataFrame para as correlações\n",
    "correlacoes_df = pd.DataFrame(correlacoes.items(), columns=['Tipo de Correlação', 'Valor'])\n",
    "\n",
    "# Plotando as correlações\n",
    "plt.figure(figsize=(8, 5))\n",
    "sns.barplot(x='Tipo de Correlação', y='Valor', data=correlacoes_df, palette='viridis')\n",
    "plt.title('Comparação das Correlações')\n",
    "plt.axhline(0, color='gray', linestyle='--')\n",
    "plt.ylim(-1, 1)\n",
    "plt.ylabel('Valor da Correlação')\n",
    "plt.show()"
   ]
  },
  {
   "cell_type": "markdown",
   "metadata": {},
   "source": [
    "### Correlação entre \\( p_1 \\) e \\( p_2 \\):\n",
    "\n",
    "A barra azul no gráfico, que está bem acima de zero (próxima de 0.8), indica que a correlação entre \\( p_1 \\) e \\( p_2 \\) é bastante alta, conforme esperado. Isso confirma a afirmação de que o desempenho em \\( p_1 \\) e \\( p_2 \\) tende a ser semelhante, pois as notas de \\( p_2 \\) são derivadas de \\( p_1 \\) com um erro aleatório. Em termos práticos, alunos que foram bem em \\( p_1 \\) também tiveram bom desempenho em \\( p_2 \\).\n",
    "\n",
    "### Correlação entre a Média e a Diferença:\n",
    "\n",
    "A barra verde, que está ligeiramente abaixo de zero (por volta de -0.2), mostra que há uma correlação negativa entre a média das notas e a diferença entre elas. Isso significa que, de forma geral, quanto maior a média das notas de um aluno, menor a diferença entre \\( p_1 \\) e \\( p_2 \\). Em outras palavras, alunos com desempenhos mais consistentes tendem a apresentar menor variação entre as duas provas, enquanto aqueles com maior variação nas notas têm uma média menor.\n",
    "\n",
    "### Interpretação das Correlações:\n",
    "\n",
    "A correlação alta entre \\( p_1 \\) e \\( p_2 \\) sugere uma forte relação entre as notas das duas provas, indicando consistência no desempenho dos alunos.\n",
    "\n",
    "A correlação negativa entre a média e a diferença das notas sugere que a variabilidade entre as notas diminui à medida que o desempenho médio aumenta. Isso pode ser um indicativo de que alunos com maior aproveitamento têm uma performance mais estável entre as duas provas.\n",
    "\n",
    "Como a correlação entre a média e a diferença não está próxima de zero (mas é negativa), podemos dizer que há uma relação linear inversa leve entre esses fatores.\n",
    "\n",
    "A partir dessa análise, podemos afirmar que os alunos com melhor desempenho geral tendem a ser mais consistentes entre as provas, enquanto os alunos com mais variação nas notas tendem a ter uma média de desempenho menor."
   ]
  },
  {
   "cell_type": "markdown",
   "metadata": {},
   "source": [
    "Após calcular as correlações entre os dados originais \\( p_1 \\) e \\( p_2 \\), bem como entre a média e a diferença, podemos analisar as seguintes relações:\n",
    "\n",
    "1. **Correlação entre \\( p_1 \\) e \\( p_2 \\)**:\n",
    "   $$\n",
    "   \\text{Correlação}(p_1, p_2) = 0.8\n",
    "   $$\n",
    "   A correlação entre as notas \\( p_1 \\) e \\( p_2 \\) é alta, conforme esperado, uma vez que \\( p_2 \\) foi derivada de \\( p_1 \\) com a adição de um erro aleatório. Isso indica que, em geral, alunos que têm um bom desempenho em \\( p_1 \\) também tendem a ter um bom desempenho em \\( p_2 \\).\n",
    "\n",
    "2. **Correlação entre a Média e a Diferença**:\n",
    "   $$\n",
    "   \\text{Correlação} \\left( \\frac{p_1 + p_2}{2}, p_1 - p_2 \\right) = -0.2\n",
    "   $$\n",
    "   A correlação entre a média das notas \\( \\left( \\frac{p_1 + p_2}{2} \\right) \\) e a diferença entre elas \\( (p_1 - p_2) \\) é ligeiramente negativa. Isso significa que alunos com médias mais altas tendem a ter uma diferença menor entre as notas, indicando maior consistência entre as duas avaliações.\n",
    "\n",
    "3. **Interpretação das Correlações**:\n",
    "   $$\n",
    "   \\text{Correlação}(p_1, p_2) = 0.8 \\quad \\text{e} \\quad \\text{Correlação} \\left( \\frac{p_1 + p_2}{2}, p_1 - p_2 \\right) = -0.2\n",
    "   $$\n",
    "   A alta correlação entre \\( p_1 \\) e \\( p_2 \\) reflete uma forte relação entre as duas notas, indicando consistência no desempenho dos alunos. A correlação negativa entre a média e a diferença sugere que alunos com desempenho geral mais alto tendem a ser mais consistentes entre as duas provas, enquanto alunos com maior variabilidade nas notas apresentam uma média de desempenho menor.\n",
    "\n"
   ]
  }
 ],
 "metadata": {
  "kernelspec": {
   "display_name": "Python 3",
   "language": "python",
   "name": "python3"
  },
  "language_info": {
   "codemirror_mode": {
    "name": "ipython",
    "version": 3
   },
   "file_extension": ".py",
   "mimetype": "text/x-python",
   "name": "python",
   "nbconvert_exporter": "python",
   "pygments_lexer": "ipython3",
   "version": "3.10.4"
  },
  "toc": {
   "base_numbering": 1,
   "nav_menu": {},
   "number_sections": false,
   "sideBar": true,
   "skip_h1_title": false,
   "title_cell": "Índice",
   "title_sidebar": "Conteúdo",
   "toc_cell": false,
   "toc_position": {
    "height": "calc(100% - 180px)",
    "left": "10px",
    "top": "150px",
    "width": "257.6px"
   },
   "toc_section_display": true,
   "toc_window_display": false
  },
  "varInspector": {
   "cols": {
    "lenName": 16,
    "lenType": 16,
    "lenVar": 40
   },
   "kernels_config": {
    "python": {
     "delete_cmd_postfix": "",
     "delete_cmd_prefix": "del ",
     "library": "var_list.py",
     "varRefreshCmd": "print(var_dic_list())"
    },
    "r": {
     "delete_cmd_postfix": ") ",
     "delete_cmd_prefix": "rm(",
     "library": "var_list.r",
     "varRefreshCmd": "cat(var_dic_list()) "
    }
   },
   "types_to_exclude": [
    "module",
    "function",
    "builtin_function_or_method",
    "instance",
    "_Feature"
   ],
   "window_display": false
  }
 },
 "nbformat": 4,
 "nbformat_minor": 4
}
